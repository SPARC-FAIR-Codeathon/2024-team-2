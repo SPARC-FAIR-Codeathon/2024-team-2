{
 "cells": [
  {
   "cell_type": "markdown",
   "id": "58dcd0c7",
   "metadata": {},
   "source": [
    "# Tutorial 4: Adding non-SPARC tools and models to the knowledge graph\n",
    "\n",
    "There are many tools being developed in different research efforts around the world. These tools are being collated in tool and model registries such as WorfkowHub and the Physiome Model Repository (PMR). This tutorial shows how external tools can be added to the knowledge graph such that they can be used when assembling workflows. \n",
    "\n",
    "\n",
    "## Requirements\n",
    "pip install sparc-assemble\n",
    "\n",
    "\n",
    "## Using sparc_assemble to download an existing workflow cwl from WorkflowHub\n",
    "An example tool is sourced from the [WorkflowHub](https://workflowhub.eu/workflows/525/ro_crate?version=1). \n",
    "WorkflowHub stores workflows cwl in RO-Crate, so it is already in a FAIR format and there is no need to convert it to SDS.\n",
    "This code above downloads a workflow and related tools in cwl files from WorkflowHub and save the cwl files in the plugin folder. \n"
   ]
  },
  {
   "cell_type": "code",
   "execution_count": null,
   "id": "4b6dccd7",
   "metadata": {},
   "outputs": [],
   "source": [
    "from sparc_assemble import WorkflowHub\n",
    "\n",
    "zip_url = \"https://workflowhub.eu/workflows/525/ro_crate?version=1\"\n",
    "workflow_hub = WorkflowHub(zip_url)\n",
    "\n",
    "# generate ZIP filename\n",
    "zip_filename = workflow_hub.generate_zip_filename(zip_url)\n",
    "local_zip_path = zip_filename+'.zip'\n",
    "\n",
    "# Download the ZIP file\n",
    "workflow_hub.download_zip_file(zip_url, local_zip_path)\n",
    "\n",
    "# Unzip the entire contents of the ZIP archive\n",
    "output_directory = zip_filename\n",
    "workflow_hub.unzip_folder(local_zip_path, output_directory)\n"
   ]
  },
  {
   "cell_type": "markdown",
   "id": "ae01bd43",
   "metadata": {},
   "source": [
    "## Using sparc_assemble to add an external tool to the knowledge graph\n",
    "\n",
    "The code below shows how to extract the metadata from the cwl and use it to populate the knowledge graph.\n"
   ]
  },
  {
   "cell_type": "code",
   "execution_count": null,
   "outputs": [],
   "source": [
    "from sparc_assemble import KG\n",
    "\n",
    "tool_library = r\"../../resources/tools\"\n",
    "save_kg_path = r\"./kg_workflowhub_tools.owl\"\n",
    "\n",
    "# initialising KG from default ontology \"EDAM\"\n",
    "kg = KG()\n",
    "\n",
    "# adding tools to KG\n",
    "kg.add_tools(tool_library=tool_library)\n",
    "\n",
    "# listing tools in KG\n",
    "kg.list()\n",
    "\n",
    "kg.save(save_path=save_kg_path)"
   ],
   "metadata": {
    "collapsed": false
   },
   "id": "a5ed58aa8d69bc80"
  },
  {
   "cell_type": "markdown",
   "id": "db11b3cc",
   "metadata": {},
   "source": [
    "\n",
    "The code that generated this knowledge graph can be found in the [Tutorial 2 folder](tutorials/tutorial_2) on github. This tutorial shows how to build a knowledge graph for automated workflow assembly using sparc-assemble. "
   ]
  },
  {
   "cell_type": "markdown",
   "id": "056de68e",
   "metadata": {},
   "source": [
    "## Using sparc_assemble to add an external model to the knowledge graph\n",
    "\n",
    "\n",
    "An example Cellml model is identified from the Physiome Model Repository. This Cellml model is stored in [SPARC dataset](https://sparc.science/datasets/135) (refer to tutorial 1 for more information).\n",
    "\n",
    "The code below shows how to download metadata file and the model file of the Cellml model locally using the model ID and URL.\n"
   ]
  },
  {
   "cell_type": "code",
   "execution_count": null,
   "outputs": [],
   "source": [
    "!pip install biomodels\n",
    "import biomodels\n",
    "\n",
    "# Retrieve metadata for the specified model using its unique identifier\n",
    "metadata = biomodels.get_metadata(\"BIOMD0000000012\")\n",
    "# Download the model file in XML format based on the model ID and URL, and store it locally\n",
    "metadata_file = biomodels.get_file(\"BIOMD0000000012_url.xml\", model_id=\"BIOMD12\")\n",
    "# Convert the file's path to a string and get the directory path where the file is stored\n",
    "metadata_file_cache_path = str(metadata_file.parent)"
   ],
   "metadata": {
    "collapsed": false
   },
   "id": "4c1e199d70b0d63f"
  },
  {
   "cell_type": "markdown",
   "source": [],
   "metadata": {
    "collapsed": false
   },
   "id": "316a44ef15a1402f"
  },
  {
   "cell_type": "markdown",
   "source": [
    "The code below shows how to load the model file of the Cellml model and extract the species (inputs) and reactions (outputs) from the model."
   ],
   "metadata": {
    "collapsed": false
   },
   "id": "ed2db7c6109fa516"
  },
  {
   "cell_type": "code",
   "execution_count": null,
   "outputs": [],
   "source": [
    "!pip install simplesbml\n",
    "import simplesbml\n",
    "\n",
    "# Construct the full path to the downloaded model file by combining the directory path and file name\n",
    "model_path = metadata_file_cache_path + '/BIOMD0000000012_url.xml'\n",
    "# Load the SBML model from the specified file path using simplesbml\n",
    "model = simplesbml.loadSBMLFile(model_path)\n",
    "# Retrieve the name of the model\n",
    "model_name = model.model.name\n",
    "# Extract all species (inputs) from the model and store them in a list\n",
    "inputs = list(model.model.species.all_elements)\n",
    "# Extract all reactions (outputs) from the model and store them in a list\n",
    "outputs = list(model.model.reactions.all_elements)"
   ],
   "metadata": {
    "collapsed": false
   },
   "id": "fa5e582cad056ce4"
  },
  {
   "cell_type": "markdown",
   "source": [
    "The code below shows how to add a Cellml model to the knowledge graph using the model name, extracted species (inputs), and reactions (outputs) from the model."
   ],
   "metadata": {
    "collapsed": false
   },
   "id": "7fec2a06e6415b5a"
  },
  {
   "cell_type": "code",
   "execution_count": 15,
   "outputs": [
    {
     "ename": "NameError",
     "evalue": "name 'model_url' is not defined",
     "output_type": "error",
     "traceback": [
      "\u001B[1;31m---------------------------------------------------------------------------\u001B[0m",
      "\u001B[1;31mNameError\u001B[0m                                 Traceback (most recent call last)",
      "Cell \u001B[1;32mIn[15], line 3\u001B[0m\n\u001B[0;32m      1\u001B[0m \u001B[38;5;66;03m# Define the path where you want to save the file\u001B[39;00m\n\u001B[0;32m      2\u001B[0m download_dir \u001B[38;5;241m=\u001B[39m \u001B[38;5;124m\"\u001B[39m\u001B[38;5;124m/path/to/your/desired/directory\u001B[39m\u001B[38;5;124m\"\u001B[39m\n\u001B[1;32m----> 3\u001B[0m filename \u001B[38;5;241m=\u001B[39m \u001B[43mmodel_url\u001B[49m\u001B[38;5;241m.\u001B[39msplit(\u001B[38;5;124m'\u001B[39m\u001B[38;5;124m/\u001B[39m\u001B[38;5;124m'\u001B[39m)[\u001B[38;5;241m-\u001B[39m\u001B[38;5;241m1\u001B[39m] \n\u001B[0;32m      4\u001B[0m download_path \u001B[38;5;241m=\u001B[39m os\u001B[38;5;241m.\u001B[39mpath\u001B[38;5;241m.\u001B[39mjoin(download_dir, filename)\n",
      "\u001B[1;31mNameError\u001B[0m: name 'model_url' is not defined"
     ]
    }
   ],
   "source": [
    "# defining the path to save the knowledge graph\n",
    "save_kg_path = \"./kg_biomodels_model.owl\"\n",
    "\n",
    "# initialising KG from default ontology \"EDAM\"\n",
    "kg = KG()\n",
    "\n",
    "# adding biomodels to KG\n",
    "kg.add_biomodels_model(inputs, outputs, model_name, model_path)\n",
    "\n",
    "# listing tools in KG\n",
    "kg.list()\n",
    "\n",
    "kg.save(save_path=save_kg_path)"
   ],
   "metadata": {
    "collapsed": false,
    "ExecuteTime": {
     "end_time": "2024-08-12T08:43:12.211819600Z",
     "start_time": "2024-08-12T08:43:12.165871600Z"
    }
   },
   "id": "8e93527a610873bc"
  }
 ],
 "metadata": {
  "kernelspec": {
   "display_name": "Python 3 (ipykernel)",
   "language": "python",
   "name": "python3"
  },
  "language_info": {
   "codemirror_mode": {
    "name": "ipython",
    "version": 3
   },
   "file_extension": ".py",
   "mimetype": "text/x-python",
   "name": "python",
   "nbconvert_exporter": "python",
   "pygments_lexer": "ipython3",
   "version": "3.9.16"
  }
 },
 "nbformat": 4,
 "nbformat_minor": 5
}
