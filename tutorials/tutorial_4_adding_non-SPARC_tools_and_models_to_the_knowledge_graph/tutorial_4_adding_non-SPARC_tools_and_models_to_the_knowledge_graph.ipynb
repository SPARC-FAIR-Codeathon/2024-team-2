{
 "cells": [
  {
   "cell_type": "markdown",
   "id": "58dcd0c7",
   "metadata": {},
   "source": [
    "# Tutorial 4: Adding non-SPARC tools and models to the knowledge graph\n",
    "\n",
    "There are many tools being developed in different research efforts around the world. These tools are being collated in tool and model registries such as WorfkowHub and the Physiome Model Repository (PMR). This tutorial shows how external tools can be added to the knowledge graph such that they can be used when assembling workflows. \n",
    "\n",
    "\n",
    "## Requirements\n",
    "pip install sparc-assemble\n",
    "\n",
    "\n",
    "## Using sparc_assemble to download an existing workflow cwl from WorkflowHub\n",
    "An example tool is sourced from the [WorkflowHub](https://workflowhub.eu/workflows/525/ro_crate?version=1). \n",
    "WorkflowHub stores workflows cwl in RO-Crate, so it is already in a FAIR format and there is no need to convert it to SDS.\n",
    "This code above downloads a workflow and related tools in cwl files from WorkflowHub and save the cwl files in the plugin folder. \n"
   ]
  },
  {
   "cell_type": "code",
   "execution_count": null,
   "id": "4b6dccd7",
   "metadata": {},
   "outputs": [],
   "source": [
    "from sparc_assemble import WorkflowHub\n",
    "\n",
    "zip_url = \"https://workflowhub.eu/workflows/525/ro_crate?version=1\"\n",
    "workflow_hub = WorkflowHub(zip_url)\n",
    "\n",
    "# generate ZIP filename\n",
    "zip_filename = workflow_hub.generate_zip_filename(zip_url)\n",
    "local_zip_path = zip_filename+'.zip'\n",
    "\n",
    "# Download the ZIP file\n",
    "workflow_hub.download_zip_file(zip_url, local_zip_path)\n",
    "\n",
    "# Unzip the entire contents of the ZIP archive\n",
    "output_directory = zip_filename\n",
    "workflow_hub.unzip_folder(local_zip_path, output_directory)\n"
   ]
  },
  {
   "cell_type": "markdown",
   "id": "ae01bd43",
   "metadata": {},
   "source": [
    "## Using sparc_assemble to add an external tool to the knowledge graph\n",
    "\n",
    "The code below shows how to extract the metadata from the cwl and use it to populate the knowledge graph.\n"
   ]
  },
  {
   "cell_type": "code",
   "execution_count": 4,
   "outputs": [
    {
     "name": "stdout",
     "output_type": "stream",
     "text": [
      "\t 1- Ejection Fraction,E/A ratio,Left ventricular mass,PV loop -> method_1 -> GPLS\n",
      "\t 2- Myocardial Stiffness,3D Mesh -> method_3 -> PV loop\n",
      "\t 3- A wave,E wave -> method_4 -> E/A ratio\n"
     ]
    }
   ],
   "source": [
    "from sparc_assemble import KG\n",
    "\n",
    "\n",
    "tool_library = r\"../../resources/dummy_tools\"\n",
    "save_kg_path = r\"./dummy_kg.owl\"\n",
    "\n",
    "# initialising KG from default ontology \"EDAM\"\n",
    "kg = KG()\n",
    "kg.save(save_path=save_kg_path)\n",
    "\n",
    "# # initialising KG from a give ontology\n",
    "# kg = KG(ontology_file=args.save_kg_path)\n",
    "\n",
    "# adding tools to KG\n",
    "kg.add_tools(tool_library=tool_library)\n",
    "\n",
    "# listing tools in KG\n",
    "kg.list()\n",
    "\n",
    "kg.save(save_path=save_kg_path)"
   ],
   "metadata": {
    "collapsed": false,
    "ExecuteTime": {
     "end_time": "2024-08-12T08:17:37.985358800Z",
     "start_time": "2024-08-12T08:17:37.511801Z"
    }
   },
   "id": "a5ed58aa8d69bc80"
  },
  {
   "cell_type": "markdown",
   "id": "db11b3cc",
   "metadata": {},
   "source": [
    "\n",
    "The code that generated this data can be found in the [Tutorial 3 folder](tutorials/tutorial_3/data_processing_example.py) on github. This python script shows how to add a tool to the knowledge graph using sparc-assemble. "
   ]
  },
  {
   "cell_type": "code",
   "execution_count": null,
   "id": "2af8a2b2",
   "metadata": {},
   "outputs": [],
   "source": []
  },
  {
   "cell_type": "markdown",
   "id": "056de68e",
   "metadata": {},
   "source": [
    "## Using sparc_assemble to add an external model to the knowledge graph\n",
    "\n",
    "\n",
    "An example Cellml model is identified from the Physiome Model Repository.\n",
    "This Cellml model is stored in [SPARC dataset](https://sparc.science/datasets/135) (refer to tutorial 1 for more information).\n",
    "The code below shows how to add the model to the knowledge graph."
   ]
  },
  {
   "cell_type": "code",
   "execution_count": 8,
   "id": "c2908dc6",
   "metadata": {
    "scrolled": false,
    "ExecuteTime": {
     "end_time": "2024-08-12T08:33:15.489089300Z",
     "start_time": "2024-08-12T08:33:09.860905600Z"
    }
   },
   "outputs": [
    {
     "name": "stdout",
     "output_type": "stream",
     "text": [
      "Collecting biomodels\n",
      "  Obtaining dependency information for biomodels from https://files.pythonhosted.org/packages/24/a4/1465d88ac1058e598fef80e3afcf77ef5e2dc4dc194716bb8b68aa6f8f9a/biomodels-0.3.2-py3-none-any.whl.metadata\n",
      "  Downloading biomodels-0.3.2-py3-none-any.whl.metadata (8.1 kB)\n",
      "Collecting pooch (from biomodels)\n",
      "  Obtaining dependency information for pooch from https://files.pythonhosted.org/packages/a8/87/77cc11c7a9ea9fd05503def69e3d18605852cd0d4b0d3b8f15bbeb3ef1d1/pooch-1.8.2-py3-none-any.whl.metadata\n",
      "  Downloading pooch-1.8.2-py3-none-any.whl.metadata (10 kB)\n",
      "Requirement already satisfied: pydantic in c:\\users\\jxu759\\documents\\sparc-assemble\\venv\\lib\\site-packages (from biomodels) (2.8.2)\n",
      "Collecting pydantic-xml (from biomodels)\n",
      "  Obtaining dependency information for pydantic-xml from https://files.pythonhosted.org/packages/81/1e/57d56528e24ea912d3daa818adb162e52032cbbd43a7689f1ff71657955c/pydantic_xml-2.11.0-py3-none-any.whl.metadata\n",
      "  Downloading pydantic_xml-2.11.0-py3-none-any.whl.metadata (5.0 kB)\n",
      "Collecting tabulate (from biomodels)\n",
      "  Obtaining dependency information for tabulate from https://files.pythonhosted.org/packages/40/44/4a5f08c96eb108af5cb50b41f76142f0afa346dfa99d5296fe7202a11854/tabulate-0.9.0-py3-none-any.whl.metadata\n",
      "  Downloading tabulate-0.9.0-py3-none-any.whl.metadata (34 kB)\n",
      "Requirement already satisfied: platformdirs>=2.5.0 in c:\\users\\jxu759\\documents\\sparc-assemble\\venv\\lib\\site-packages (from pooch->biomodels) (4.2.2)\n",
      "Requirement already satisfied: packaging>=20.0 in c:\\users\\jxu759\\documents\\sparc-assemble\\venv\\lib\\site-packages (from pooch->biomodels) (23.0)\n",
      "Requirement already satisfied: requests>=2.19.0 in c:\\users\\jxu759\\documents\\sparc-assemble\\venv\\lib\\site-packages (from pooch->biomodels) (2.32.3)\n",
      "Requirement already satisfied: annotated-types>=0.4.0 in c:\\users\\jxu759\\documents\\sparc-assemble\\venv\\lib\\site-packages (from pydantic->biomodels) (0.7.0)\n",
      "Requirement already satisfied: pydantic-core==2.20.1 in c:\\users\\jxu759\\documents\\sparc-assemble\\venv\\lib\\site-packages (from pydantic->biomodels) (2.20.1)\n",
      "Requirement already satisfied: typing-extensions>=4.6.1 in c:\\users\\jxu759\\documents\\sparc-assemble\\venv\\lib\\site-packages (from pydantic->biomodels) (4.12.2)\n",
      "Requirement already satisfied: charset-normalizer<4,>=2 in c:\\users\\jxu759\\documents\\sparc-assemble\\venv\\lib\\site-packages (from requests>=2.19.0->pooch->biomodels) (3.0.1)\n",
      "Requirement already satisfied: idna<4,>=2.5 in c:\\users\\jxu759\\documents\\sparc-assemble\\venv\\lib\\site-packages (from requests>=2.19.0->pooch->biomodels) (3.4)\n",
      "Requirement already satisfied: urllib3<3,>=1.21.1 in c:\\users\\jxu759\\documents\\sparc-assemble\\venv\\lib\\site-packages (from requests>=2.19.0->pooch->biomodels) (1.26.14)\n",
      "Requirement already satisfied: certifi>=2017.4.17 in c:\\users\\jxu759\\documents\\sparc-assemble\\venv\\lib\\site-packages (from requests>=2.19.0->pooch->biomodels) (2022.12.7)\n",
      "Downloading biomodels-0.3.2-py3-none-any.whl (9.1 kB)\n",
      "Downloading pooch-1.8.2-py3-none-any.whl (64 kB)\n",
      "   ---------------------------------------- 0.0/64.6 kB ? eta -:--:--\n",
      "   ---------------------------------------- 64.6/64.6 kB ? eta 0:00:00\n",
      "Downloading pydantic_xml-2.11.0-py3-none-any.whl (39 kB)\n",
      "Downloading tabulate-0.9.0-py3-none-any.whl (35 kB)\n",
      "Installing collected packages: tabulate, pooch, pydantic-xml, biomodels\n",
      "Successfully installed biomodels-0.3.2 pooch-1.8.2 pydantic-xml-2.11.0 tabulate-0.9.0\n",
      "Note: you may need to restart the kernel to use updated packages.\n"
     ]
    },
    {
     "name": "stderr",
     "output_type": "stream",
     "text": [
      "\n",
      "[notice] A new release of pip is available: 23.2.1 -> 24.2\n",
      "[notice] To update, run: python.exe -m pip install --upgrade pip\n"
     ]
    }
   ],
   "source": [
    "pip install biomodels"
   ]
  },
  {
   "cell_type": "code",
   "execution_count": 17,
   "outputs": [
    {
     "name": "stdout",
     "output_type": "stream",
     "text": [
      "model_id='BIOMD0000000012' files=[File(name='BIOMD0000000012_url.xml', description='SBML L2V3 representation of Elowitz2000 - Repressilator', size=46274), File(name='BIOMD0000000012-biopax2.owl', description='Auto-generated BioPAX (Level 2)', size=16748), File(name='BIOMD0000000012-biopax3.owl', description='Auto-generated BioPAX (Level 3)', size=23577), File(name='BIOMD0000000012.m', description='Auto-generated Octave file', size=4994), File(name='BIOMD0000000012.pdf', description='Auto-generated PDF file', size=205156), File(name='BIOMD0000000012.png', description='Auto-generated Reaction graph (PNG)', size=39018), File(name='BIOMD0000000012.sci', description='Auto-generated Scilab file', size=154), File(name='BIOMD0000000012.svg', description='Auto-generated Reaction graph (SVG)', size=35750), File(name='BIOMD0000000012.vcml', description='Auto-generated VCML file', size=60183), File(name='BIOMD0000000012.xpp', description='Auto-generated XPP file', size=4114), File(name='BIOMD0000000012_urn.xml', description='Auto-generated SBML file with URNs', size=47097)]\n"
     ]
    }
   ],
   "source": [
    "import biomodels\n",
    "metadata = biomodels.get_metadata(\"BIOMD0000000012\")\n",
    "print(metadata)"
   ],
   "metadata": {
    "collapsed": false,
    "ExecuteTime": {
     "end_time": "2024-08-12T08:43:24.493158400Z",
     "start_time": "2024-08-12T08:43:24.462142100Z"
    }
   },
   "id": "4c1e199d70b0d63f"
  },
  {
   "cell_type": "code",
   "execution_count": 16,
   "outputs": [
    {
     "ename": "TypeError",
     "evalue": "list indices must be integers or slices, not str",
     "output_type": "error",
     "traceback": [
      "\u001B[1;31m---------------------------------------------------------------------------\u001B[0m",
      "\u001B[1;31mTypeError\u001B[0m                                 Traceback (most recent call last)",
      "Cell \u001B[1;32mIn[16], line 2\u001B[0m\n\u001B[0;32m      1\u001B[0m \u001B[38;5;66;03m# Extract the URL of the model file\u001B[39;00m\n\u001B[1;32m----> 2\u001B[0m model_url \u001B[38;5;241m=\u001B[39m \u001B[43mmetadata\u001B[49m\u001B[43m[\u001B[49m\u001B[38;5;124;43m'\u001B[39;49m\u001B[38;5;124;43mfiles\u001B[39;49m\u001B[38;5;124;43m'\u001B[39;49m\u001B[43m]\u001B[49m\n",
      "File \u001B[1;32m~\\Documents\\sparc-assemble\\venv\\lib\\site-packages\\biomodels\\metadata.py:46\u001B[0m, in \u001B[0;36mMetadata.__getitem__\u001B[1;34m(self, item)\u001B[0m\n\u001B[0;32m     45\u001B[0m \u001B[38;5;28;01mdef\u001B[39;00m \u001B[38;5;21m__getitem__\u001B[39m(\u001B[38;5;28mself\u001B[39m, item) \u001B[38;5;241m-\u001B[39m\u001B[38;5;241m>\u001B[39m File:\n\u001B[1;32m---> 46\u001B[0m     \u001B[38;5;28;01mreturn\u001B[39;00m \u001B[38;5;28;43mself\u001B[39;49m\u001B[38;5;241;43m.\u001B[39;49m\u001B[43mfiles\u001B[49m\u001B[43m[\u001B[49m\u001B[43mitem\u001B[49m\u001B[43m]\u001B[49m\n",
      "\u001B[1;31mTypeError\u001B[0m: list indices must be integers or slices, not str"
     ]
    }
   ],
   "source": [
    "# Extract the URL of the model file"
   ],
   "metadata": {
    "collapsed": false,
    "ExecuteTime": {
     "end_time": "2024-08-12T08:43:17.493669900Z",
     "start_time": "2024-08-12T08:43:17.465890500Z"
    }
   },
   "id": "fa5e582cad056ce4"
  },
  {
   "cell_type": "code",
   "execution_count": null,
   "outputs": [],
   "source": [],
   "metadata": {
    "collapsed": false
   },
   "id": "88d3afc9f738fbe3"
  },
  {
   "cell_type": "code",
   "execution_count": 15,
   "outputs": [
    {
     "ename": "NameError",
     "evalue": "name 'model_url' is not defined",
     "output_type": "error",
     "traceback": [
      "\u001B[1;31m---------------------------------------------------------------------------\u001B[0m",
      "\u001B[1;31mNameError\u001B[0m                                 Traceback (most recent call last)",
      "Cell \u001B[1;32mIn[15], line 3\u001B[0m\n\u001B[0;32m      1\u001B[0m \u001B[38;5;66;03m# Define the path where you want to save the file\u001B[39;00m\n\u001B[0;32m      2\u001B[0m download_dir \u001B[38;5;241m=\u001B[39m \u001B[38;5;124m\"\u001B[39m\u001B[38;5;124m/path/to/your/desired/directory\u001B[39m\u001B[38;5;124m\"\u001B[39m\n\u001B[1;32m----> 3\u001B[0m filename \u001B[38;5;241m=\u001B[39m \u001B[43mmodel_url\u001B[49m\u001B[38;5;241m.\u001B[39msplit(\u001B[38;5;124m'\u001B[39m\u001B[38;5;124m/\u001B[39m\u001B[38;5;124m'\u001B[39m)[\u001B[38;5;241m-\u001B[39m\u001B[38;5;241m1\u001B[39m] \n\u001B[0;32m      4\u001B[0m download_path \u001B[38;5;241m=\u001B[39m os\u001B[38;5;241m.\u001B[39mpath\u001B[38;5;241m.\u001B[39mjoin(download_dir, filename)\n",
      "\u001B[1;31mNameError\u001B[0m: name 'model_url' is not defined"
     ]
    }
   ],
   "source": [
    "# Define the path where you want to save the file\n",
    "download_dir = \"/path/to/your/desired/directory\"\n",
    "filename = model_url.split('/')[-1] \n",
    "download_path = os.path.join(download_dir, filename)"
   ],
   "metadata": {
    "collapsed": false,
    "ExecuteTime": {
     "end_time": "2024-08-12T08:43:12.211819600Z",
     "start_time": "2024-08-12T08:43:12.165871600Z"
    }
   },
   "id": "8e93527a610873bc"
  },
  {
   "cell_type": "code",
   "execution_count": null,
   "outputs": [],
   "source": [
    "#Download the file\n",
    "response = requests.get(model_url)\n",
    "with open(download_path, 'wb') as file:\n",
    "    file.write(response.content)\n",
    "\n",
    "print(f\"File downloaded to: {download_path}\")"
   ],
   "metadata": {
    "collapsed": false
   },
   "id": "f18321544bfddd5f"
  },
  {
   "cell_type": "code",
   "execution_count": 10,
   "outputs": [
    {
     "name": "stdout",
     "output_type": "stream",
     "text": [
      "Collecting simplesbml\n",
      "  Downloading simplesbml-2.3.0.tar.gz (11.0 MB)\n",
      "     ---------------------------------------- 0.0/11.0 MB ? eta -:--:--\n",
      "     - -------------------------------------- 0.5/11.0 MB 14.9 MB/s eta 0:00:01\n",
      "     --- ------------------------------------ 1.0/11.0 MB 16.7 MB/s eta 0:00:01\n",
      "     --- ------------------------------------ 1.0/11.0 MB 16.7 MB/s eta 0:00:01\n",
      "     --- ------------------------------------ 1.0/11.0 MB 16.7 MB/s eta 0:00:01\n",
      "     --- ------------------------------------ 1.0/11.0 MB 16.7 MB/s eta 0:00:01\n",
      "     --- ------------------------------------ 1.0/11.0 MB 16.7 MB/s eta 0:00:01\n",
      "     --- ------------------------------------ 1.0/11.0 MB 16.7 MB/s eta 0:00:01\n",
      "     ---- ----------------------------------- 1.2/11.0 MB 3.8 MB/s eta 0:00:03\n",
      "     ----- ---------------------------------- 1.5/11.0 MB 4.3 MB/s eta 0:00:03\n",
      "     ------- -------------------------------- 2.1/11.0 MB 5.3 MB/s eta 0:00:02\n",
      "     ------- -------------------------------- 2.1/11.0 MB 5.3 MB/s eta 0:00:02\n",
      "     ------- -------------------------------- 2.1/11.0 MB 5.3 MB/s eta 0:00:02\n",
      "     ------- -------------------------------- 2.1/11.0 MB 5.3 MB/s eta 0:00:02\n",
      "     ------- -------------------------------- 2.1/11.0 MB 5.3 MB/s eta 0:00:02\n",
      "     --------- ------------------------------ 2.7/11.0 MB 4.6 MB/s eta 0:00:02\n",
      "     ----------- ---------------------------- 3.1/11.0 MB 5.1 MB/s eta 0:00:02\n",
      "     ----------- ---------------------------- 3.1/11.0 MB 5.1 MB/s eta 0:00:02\n",
      "     ----------- ---------------------------- 3.1/11.0 MB 5.1 MB/s eta 0:00:02\n",
      "     ----------- ---------------------------- 3.1/11.0 MB 5.1 MB/s eta 0:00:02\n",
      "     ----------- ---------------------------- 3.1/11.0 MB 5.1 MB/s eta 0:00:02\n",
      "     ----------- ---------------------------- 3.1/11.0 MB 5.1 MB/s eta 0:00:02\n",
      "     ------------- -------------------------- 3.8/11.0 MB 4.3 MB/s eta 0:00:02\n",
      "     --------------- ------------------------ 4.2/11.0 MB 4.7 MB/s eta 0:00:02\n",
      "     --------------- ------------------------ 4.2/11.0 MB 4.7 MB/s eta 0:00:02\n",
      "     --------------- ------------------------ 4.2/11.0 MB 4.7 MB/s eta 0:00:02\n",
      "     --------------- ------------------------ 4.2/11.0 MB 4.7 MB/s eta 0:00:02\n",
      "     --------------- ------------------------ 4.2/11.0 MB 4.7 MB/s eta 0:00:02\n",
      "     --------------- ------------------------ 4.2/11.0 MB 4.7 MB/s eta 0:00:02\n",
      "     ----------------- ---------------------- 4.9/11.0 MB 4.3 MB/s eta 0:00:02\n",
      "     ----------------- ---------------------- 4.9/11.0 MB 4.3 MB/s eta 0:00:02\n",
      "     ----------------- ---------------------- 4.9/11.0 MB 4.3 MB/s eta 0:00:02\n",
      "     ------------------- -------------------- 5.2/11.0 MB 4.2 MB/s eta 0:00:02\n",
      "     ------------------- -------------------- 5.2/11.0 MB 4.2 MB/s eta 0:00:02\n",
      "     -------------------- ------------------- 5.5/11.0 MB 4.1 MB/s eta 0:00:02\n",
      "     ---------------------- ----------------- 6.3/11.0 MB 4.5 MB/s eta 0:00:02\n",
      "     ---------------------- ----------------- 6.3/11.0 MB 4.5 MB/s eta 0:00:02\n",
      "     ---------------------- ----------------- 6.3/11.0 MB 4.5 MB/s eta 0:00:02\n",
      "     ---------------------- ----------------- 6.3/11.0 MB 4.5 MB/s eta 0:00:02\n",
      "     ---------------------- ----------------- 6.3/11.0 MB 4.5 MB/s eta 0:00:02\n",
      "     -------------------------- ------------- 7.2/11.0 MB 4.5 MB/s eta 0:00:01\n",
      "     -------------------------- ------------- 7.3/11.0 MB 4.6 MB/s eta 0:00:01\n",
      "     -------------------------- ------------- 7.3/11.0 MB 4.6 MB/s eta 0:00:01\n",
      "     -------------------------- ------------- 7.3/11.0 MB 4.6 MB/s eta 0:00:01\n",
      "     -------------------------- ------------- 7.3/11.0 MB 4.6 MB/s eta 0:00:01\n",
      "     --------------------------- ------------ 7.5/11.0 MB 4.1 MB/s eta 0:00:01\n",
      "     ----------------------------- ---------- 8.1/11.0 MB 4.4 MB/s eta 0:00:01\n",
      "     ------------------------------ --------- 8.4/11.0 MB 4.5 MB/s eta 0:00:01\n",
      "     ------------------------------ --------- 8.4/11.0 MB 4.5 MB/s eta 0:00:01\n",
      "     ------------------------------ --------- 8.4/11.0 MB 4.5 MB/s eta 0:00:01\n",
      "     --------------------------------- ------ 9.2/11.0 MB 4.6 MB/s eta 0:00:01\n",
      "     ---------------------------------- ----- 9.4/11.0 MB 4.7 MB/s eta 0:00:01\n",
      "     ---------------------------------- ----- 9.4/11.0 MB 4.7 MB/s eta 0:00:01\n",
      "     ---------------------------------- ----- 9.4/11.0 MB 4.7 MB/s eta 0:00:01\n",
      "     ---------------------------------- ----- 9.4/11.0 MB 4.7 MB/s eta 0:00:01\n",
      "     ---------------------------------- ----- 9.4/11.0 MB 4.7 MB/s eta 0:00:01\n",
      "     ---------------------------------- ----- 9.4/11.0 MB 4.7 MB/s eta 0:00:01\n",
      "     ---------------------------------- ----- 9.6/11.0 MB 4.2 MB/s eta 0:00:01\n",
      "     ----------------------------------- ---- 9.9/11.0 MB 4.3 MB/s eta 0:00:01\n",
      "     ----------------------------------- ---- 9.9/11.0 MB 4.3 MB/s eta 0:00:01\n",
      "     -------------------------------------- - 10.5/11.0 MB 4.3 MB/s eta 0:00:01\n",
      "     -------------------------------------- - 10.5/11.0 MB 4.3 MB/s eta 0:00:01\n",
      "     -------------------------------------- - 10.7/11.0 MB 4.2 MB/s eta 0:00:01\n",
      "     ---------------------------------------  11.0/11.0 MB 4.2 MB/s eta 0:00:01\n",
      "     ---------------------------------------- 11.0/11.0 MB 4.1 MB/s eta 0:00:00\n",
      "  Preparing metadata (setup.py): started\n",
      "  Preparing metadata (setup.py): finished with status 'done'\n",
      "Collecting python-libsbml>=5.16.0 (from simplesbml)\n",
      "  Obtaining dependency information for python-libsbml>=5.16.0 from https://files.pythonhosted.org/packages/cc/d9/9991bb8e94f9bdec1429634355471845a6a3dd1cd87ef25b414c8e6f4525/python_libsbml-5.20.2-cp310-cp310-win_amd64.whl.metadata\n",
      "  Downloading python_libsbml-5.20.2-cp310-cp310-win_amd64.whl.metadata (532 bytes)\n",
      "Downloading python_libsbml-5.20.2-cp310-cp310-win_amd64.whl (5.7 MB)\n",
      "   ---------------------------------------- 0.0/5.7 MB ? eta -:--:--\n",
      "   ----- ---------------------------------- 0.8/5.7 MB 25.1 MB/s eta 0:00:01\n",
      "   ------------ --------------------------- 1.7/5.7 MB 22.1 MB/s eta 0:00:01\n",
      "   -------------- ------------------------- 2.1/5.7 MB 26.7 MB/s eta 0:00:01\n",
      "   -------------- ------------------------- 2.1/5.7 MB 26.7 MB/s eta 0:00:01\n",
      "   -------------- ------------------------- 2.1/5.7 MB 26.7 MB/s eta 0:00:01\n",
      "   ----------------- ---------------------- 2.5/5.7 MB 10.5 MB/s eta 0:00:01\n",
      "   --------------------- ------------------ 3.1/5.7 MB 11.8 MB/s eta 0:00:01\n",
      "   --------------------- ------------------ 3.1/5.7 MB 11.8 MB/s eta 0:00:01\n",
      "   --------------------- ------------------ 3.1/5.7 MB 11.8 MB/s eta 0:00:01\n",
      "   --------------------- ------------------ 3.1/5.7 MB 11.8 MB/s eta 0:00:01\n",
      "   --------------------- ------------------ 3.1/5.7 MB 11.8 MB/s eta 0:00:01\n",
      "   --------------------- ------------------ 3.1/5.7 MB 11.8 MB/s eta 0:00:01\n",
      "   --------------------- ------------------ 3.1/5.7 MB 11.8 MB/s eta 0:00:01\n",
      "   ----------------------------- ---------- 4.2/5.7 MB 7.6 MB/s eta 0:00:01\n",
      "   ----------------------------- ---------- 4.2/5.7 MB 7.6 MB/s eta 0:00:01\n",
      "   ----------------------------- ---------- 4.2/5.7 MB 7.6 MB/s eta 0:00:01\n",
      "   ----------------------------- ---------- 4.2/5.7 MB 7.6 MB/s eta 0:00:01\n",
      "   ----------------------------- ---------- 4.2/5.7 MB 7.6 MB/s eta 0:00:01\n",
      "   ------------------------------- -------- 4.6/5.7 MB 6.1 MB/s eta 0:00:01\n",
      "   ------------------------------------ --- 5.2/5.7 MB 6.7 MB/s eta 0:00:01\n",
      "   ------------------------------------ --- 5.2/5.7 MB 6.7 MB/s eta 0:00:01\n",
      "   ------------------------------------ --- 5.2/5.7 MB 6.7 MB/s eta 0:00:01\n",
      "   ------------------------------------ --- 5.2/5.7 MB 6.7 MB/s eta 0:00:01\n",
      "   ------------------------------------- -- 5.4/5.7 MB 5.7 MB/s eta 0:00:01\n",
      "   ---------------------------------------- 5.7/5.7 MB 5.8 MB/s eta 0:00:00\n",
      "Building wheels for collected packages: simplesbml\n",
      "  Building wheel for simplesbml (setup.py): started\n",
      "  Building wheel for simplesbml (setup.py): finished with status 'done'\n",
      "  Created wheel for simplesbml: filename=simplesbml-2.3.0-py3-none-any.whl size=19036 sha256=2f6212f607b3c7a5a3b013c3d4f2269ddcf48efa903ac5a2f9c3e82e2843566e\n",
      "  Stored in directory: c:\\users\\jxu759\\appdata\\local\\pip\\cache\\wheels\\d4\\1c\\ca\\a3b38e4f1f6007bdb1fa842e9e8cfa2dd3759c557f266e3cb8\n",
      "Successfully built simplesbml\n",
      "Installing collected packages: python-libsbml, simplesbml\n",
      "Successfully installed python-libsbml-5.20.2 simplesbml-2.3.0\n",
      "Note: you may need to restart the kernel to use updated packages.\n"
     ]
    },
    {
     "name": "stderr",
     "output_type": "stream",
     "text": [
      "\n",
      "[notice] A new release of pip is available: 23.2.1 -> 24.2\n",
      "[notice] To update, run: python.exe -m pip install --upgrade pip\n"
     ]
    }
   ],
   "source": [
    "pip install simplesbml"
   ],
   "metadata": {
    "collapsed": false,
    "ExecuteTime": {
     "end_time": "2024-08-12T08:33:38.137908Z",
     "start_time": "2024-08-12T08:33:25.458149500Z"
    }
   },
   "id": "2b95bf819552cd9c"
  },
  {
   "cell_type": "code",
   "execution_count": 11,
   "outputs": [
    {
     "name": "stdout",
     "output_type": "stream",
     "text": [
      "The tests rely on tellurium to construct the models\n",
      "Since tellurium is not installed the tests can't be run\n",
      "If you want to run the tests, pip install tellurium first\n"
     ]
    },
    {
     "name": "stderr",
     "output_type": "stream",
     "text": [
      "C:\\Users\\jxu759\\Documents\\sparc-assemble\\venv\\lib\\site-packages\\simplesbml\\simplesbml.py:1322: DeprecationWarning: invalid escape sequence '\\w'\n",
      "  commands = sub('\\w+=\\'?del\\'?(?=[,)])', '', commands)\n",
      "C:\\Users\\jxu759\\Documents\\sparc-assemble\\venv\\lib\\site-packages\\simplesbml\\simplesbml.py:1323: DeprecationWarning: invalid escape sequence '\\('\n",
      "  commands = sub('\\((, )+', '(', commands)\n",
      "C:\\Users\\jxu759\\Documents\\sparc-assemble\\venv\\lib\\site-packages\\simplesbml\\simplesbml.py:1324: DeprecationWarning: invalid escape sequence '\\)'\n",
      "  commands = sub('(, )+\\)', ')', commands)\n"
     ]
    },
    {
     "ename": "Exception",
     "evalue": "Specified file name does not appear to be a file?",
     "output_type": "error",
     "traceback": [
      "\u001B[1;31m---------------------------------------------------------------------------\u001B[0m",
      "\u001B[1;31mException\u001B[0m                                 Traceback (most recent call last)",
      "Cell \u001B[1;32mIn[11], line 3\u001B[0m\n\u001B[0;32m      1\u001B[0m \u001B[38;5;28;01mimport\u001B[39;00m \u001B[38;5;21;01msimplesbml\u001B[39;00m\n\u001B[1;32m----> 3\u001B[0m model \u001B[38;5;241m=\u001B[39m \u001B[43msimplesbml\u001B[49m\u001B[38;5;241;43m.\u001B[39;49m\u001B[43mloadSBMLFile\u001B[49m\u001B[43m(\u001B[49m\u001B[38;5;124;43m'\u001B[39;49m\u001B[38;5;124;43m/home/jovyan/.cache/biomodels/model/files/BIOMD0000000012/BIOMD0000000012_url.xml\u001B[39;49m\u001B[38;5;124;43m'\u001B[39;49m\u001B[43m)\u001B[49m\n",
      "File \u001B[1;32m~\\Documents\\sparc-assemble\\venv\\lib\\site-packages\\simplesbml\\simplesbml.py:41\u001B[0m, in \u001B[0;36mloadSBMLFile\u001B[1;34m(sbmlFile)\u001B[0m\n\u001B[0;32m     37\u001B[0m \u001B[38;5;28;01mdef\u001B[39;00m \u001B[38;5;21mloadSBMLFile\u001B[39m (sbmlFile):\n\u001B[0;32m     38\u001B[0m \u001B[38;5;250m    \u001B[39m\u001B[38;5;124;03m\"\"\"\u001B[39;00m\n\u001B[0;32m     39\u001B[0m \u001B[38;5;124;03m    Load an SBML model from a file and return an instance to SBMLModel\u001B[39;00m\n\u001B[0;32m     40\u001B[0m \u001B[38;5;124;03m    \"\"\"\u001B[39;00m\n\u001B[1;32m---> 41\u001B[0m     \u001B[38;5;28;01mreturn\u001B[39;00m \u001B[43mSbmlModel\u001B[49m\u001B[43m \u001B[49m\u001B[43m(\u001B[49m\u001B[43msbmlFile\u001B[49m\u001B[38;5;241;43m=\u001B[39;49m\u001B[43msbmlFile\u001B[49m\u001B[43m)\u001B[49m\n",
      "File \u001B[1;32m~\\Documents\\sparc-assemble\\venv\\lib\\site-packages\\simplesbml\\simplesbml.py:108\u001B[0m, in \u001B[0;36mSbmlModel.__init__\u001B[1;34m(self, time_units, extent_units, sub_units, level, version, sbmlStr, sbmlFile)\u001B[0m\n\u001B[0;32m    106\u001B[0m        \u001B[38;5;28mself\u001B[39m\u001B[38;5;241m.\u001B[39mdocument \u001B[38;5;241m=\u001B[39m reader\u001B[38;5;241m.\u001B[39mreadSBMLFromString(xml)\n\u001B[0;32m    107\u001B[0m     \u001B[38;5;28;01melse\u001B[39;00m:\n\u001B[1;32m--> 108\u001B[0m        \u001B[38;5;28;01mraise\u001B[39;00m \u001B[38;5;167;01mException\u001B[39;00m (\u001B[38;5;124m'\u001B[39m\u001B[38;5;124mSpecified file name does not appear to be a file?\u001B[39m\u001B[38;5;124m'\u001B[39m)    \n\u001B[0;32m    110\u001B[0m _checkSBMLDocument(\u001B[38;5;28mself\u001B[39m\u001B[38;5;241m.\u001B[39mdocument)\n\u001B[0;32m    111\u001B[0m \u001B[38;5;28mself\u001B[39m\u001B[38;5;241m.\u001B[39mmodel \u001B[38;5;241m=\u001B[39m \u001B[38;5;28mself\u001B[39m\u001B[38;5;241m.\u001B[39mdocument\u001B[38;5;241m.\u001B[39mgetModel()\n",
      "\u001B[1;31mException\u001B[0m: Specified file name does not appear to be a file?"
     ]
    }
   ],
   "source": [
    "import simplesbml\n",
    "\n",
    "model = simplesbml.loadSBMLFile('/home/jovyan/.cache/biomodels/model/files/BIOMD0000000012/BIOMD0000000012_url.xml')"
   ],
   "metadata": {
    "collapsed": false,
    "ExecuteTime": {
     "end_time": "2024-08-12T08:33:42.275904300Z",
     "start_time": "2024-08-12T08:33:41.830293300Z"
    }
   },
   "id": "95da258dbf9cc23c"
  },
  {
   "cell_type": "code",
   "execution_count": null,
   "outputs": [],
   "source": [],
   "metadata": {
    "collapsed": false
   },
   "id": "71807b33515f37d6"
  }
 ],
 "metadata": {
  "kernelspec": {
   "display_name": "Python 3 (ipykernel)",
   "language": "python",
   "name": "python3"
  },
  "language_info": {
   "codemirror_mode": {
    "name": "ipython",
    "version": 3
   },
   "file_extension": ".py",
   "mimetype": "text/x-python",
   "name": "python",
   "nbconvert_exporter": "python",
   "pygments_lexer": "ipython3",
   "version": "3.9.16"
  }
 },
 "nbformat": 4,
 "nbformat_minor": 5
}
