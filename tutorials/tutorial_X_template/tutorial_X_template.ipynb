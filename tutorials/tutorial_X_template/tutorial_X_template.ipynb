{
 "cells": [
  {
   "cell_type": "markdown",
   "id": "58dcd0c7",
   "metadata": {},
   "source": [
    "# Tutorial 1: Download data and postprocess\n",
    "This tutorial shows how data from a published SPARC data set (SDS) can be processed using the python script to generate a derived dataset. \n",
    "\n",
    "** data is sourced from https://sparc.science/datasets/262?type=dataset\n",
    "\n",
    "\n",
    "## Requirements\n",
    "pip install sparc_me\n",
    "pip install pyeCAP\n",
    "## Using sparc_me to download an existing curated SDS"
   ]
  },
  {
   "cell_type": "code",
   "execution_count": 13,
   "id": "4b6dccd7",
   "metadata": {},
   "outputs": [],
   "source": [
    "from sparc_me import Dataset_Api\n",
    "import numpy as np\n",
    "import matplotlib.pyplot as plt\n",
    "from sparc_me import Dataset_Api\n",
    "from sparc_me import Dataset\n",
    "from sparc_me.core.utils import add_data\n",
    "\n",
    "api_tools = Dataset_Api()\n",
    "\n",
    "dataset = api_tools.get_dataset_latest_version_pensieve(262)"
   ]
  },
  {
   "cell_type": "markdown",
   "id": "ae01bd43",
   "metadata": {},
   "source": [
    "Sparc_me allows us to verify that we have identified the correct data set by simply inspecting the name of the dataset"
   ]
  },
  {
   "cell_type": "code",
   "execution_count": 2,
   "id": "edd0c162",
   "metadata": {
    "scrolled": true
   },
   "outputs": [
    {
     "data": {
      "text/plain": [
       "'Electrode design characterization for electrophysiology from swine peripheral nervous system'"
      ]
     },
     "execution_count": 2,
     "metadata": {},
     "output_type": "execute_result"
    }
   ],
   "source": [
    "dataset[\"name\"]"
   ]
  },
  {
   "cell_type": "markdown",
   "id": "db11b3cc",
   "metadata": {},
   "source": [
    "An example of a workflow is to run the code provided in the dataset. We downloaded the code and modified it to extract an output for this tutorial. However, the example dataset is too large (>29.63 GB) for this tutorial; so we have provided a portion of the data for illustrative purposes.\n",
    "\n",
    "The code that generated this data can be found in the [Tutorial 1 folder](tutorials/tutorial_1/data_processing_example.py) on github. This python script shows how to download the full dataset from the SPARC portal using sparc-me. "
   ]
  },
  {
   "cell_type": "code",
   "execution_count": null,
   "id": "2af8a2b2",
   "metadata": {},
   "outputs": [],
   "source": [
    "# api_tools.download_dataset(dataset[\"id\"]) move"
   ]
  },
  {
   "cell_type": "markdown",
   "id": "056de68e",
   "metadata": {},
   "source": [
    "## Output data\n",
    "Below is the derived data from the processing step."
   ]
  },
  {
   "cell_type": "code",
   "execution_count": 5,
   "id": "c2908dc6",
   "metadata": {
    "scrolled": false
   },
   "outputs": [],
   "source": [
    "sel = 14  # select form parameter tables above which train to plot\n",
    "param = (0, sel)\n",
    "real_ch_names = ['Cuff 1', 'Cuff 2', 'Cuff 3', 'LIFE 1', 'LIFE 2', 'LIFE 3', 'Micro 1', 'Micro 2',\n",
    "                     'Micro 3']  # for vagus\n",
    "    \n",
    "time = [0.000000000000000000e+00,\n",
    "            8.191999999999999629e-04,\n",
    "            1.638399999999999926e-03,\n",
    "            2.457599999999999889e-03,\n",
    "            3.276799999999999852e-03,\n",
    "            4.095999999999999815e-03,\n",
    "            4.915199999999999778e-03,\n",
    "            5.734399999999999741e-03,\n",
    "            6.553599999999999703e-03,\n",
    "            7.372799999999999666e-03,\n",
    "            8.191999999999999629e-03,\n",
    "            9.011200000000000460e-03,\n",
    "            9.830399999999999555e-03,\n",
    "            1.064960000000000039e-02,\n",
    "            1.146879999999999948e-02,\n",
    "            1.228800000000000031e-02,\n",
    "            1.310719999999999941e-02,\n",
    "            1.392640000000000024e-02,\n",
    "            1.474559999999999933e-02,\n",
    "            1.556480000000000016e-02,\n",
    "            1.638399999999999926e-02,\n",
    "            1.720319999999999835e-02,\n",
    "            1.802240000000000092e-02,\n",
    "            1.884160000000000001e-02,\n",
    "            1.966079999999999911e-02,\n",
    "            2.048000000000000168e-02,\n",
    "            2.129920000000000077e-02,\n",
    "            2.211839999999999987e-02,\n",
    "            2.293759999999999896e-02,\n",
    "            2.375680000000000153e-02,\n",
    "            2.457600000000000062e-02,\n",
    "            2.539519999999999972e-02,\n",
    "            2.621439999999999881e-02,\n",
    "            2.703360000000000138e-02,\n",
    "            2.785280000000000047e-02,\n",
    "            2.867199999999999957e-02,\n",
    "            2.949119999999999867e-02,\n",
    "            3.031040000000000123e-02,\n",
    "            3.112960000000000033e-02,\n",
    "            3.194879999999999942e-02,\n",
    "            3.276799999999999852e-02,\n",
    "            3.358719999999999761e-02,\n",
    "            3.440639999999999671e-02,\n",
    "            3.522560000000000274e-02,\n",
    "            3.604480000000000184e-02,\n",
    "            3.686400000000000093e-02,\n",
    "            3.768320000000000003e-02,\n",
    "            3.850239999999999913e-02,\n",
    "            3.932159999999999822e-02]\n",
    "voltages = [[-1.194679728397433872e-05,\n",
    "                 -1.980733829726684289e-05,\n",
    "                 -1.077133905927803561e-03,\n",
    "                 -1.519773320369282514e-04,\n",
    "                 4.358444211166163332e-05,\n",
    "                 1.658965415525065864e-05,\n",
    "                 2.398549602516097313e-06,\n",
    "                 -1.332335275220263179e-06,\n",
    "                 1.629816851936227506e-06,\n",
    "                 4.550925948376061261e-07,\n",
    "                 -2.440652094473894876e-07,\n",
    "                 -1.256780047896774447e-07,\n",
    "                 -1.604059700341167774e-07,\n",
    "                 -1.366082574509440694e-07,\n",
    "                 6.310354307689493841e-08,\n",
    "                 1.457346526672138439e-08,\n",
    "                 -1.628435072394222375e-07,\n",
    "                 -6.812635356888434155e-09,\n",
    "                 5.664900883157117720e-08,\n",
    "                 -5.565218230427167767e-09,\n",
    "                 2.460946088137883220e-07,\n",
    "                 5.694319531931366159e-08,\n",
    "                 -2.056334398814257176e-08,\n",
    "                 1.748808934360601829e-07,\n",
    "                 1.773989087065118717e-07,\n",
    "                 -1.101112467177508824e-07,\n",
    "                 -1.075328597482854415e-07,\n",
    "                 3.386144369441476939e-08,\n",
    "                 1.897932070755456980e-08,\n",
    "                 -2.771581229295496183e-08,\n",
    "                 -4.256350579346231629e-08,\n",
    "                 2.369912349741317857e-07,\n",
    "                 1.700902709291848032e-07,\n",
    "                 -1.165152584466342702e-08,\n",
    "                 2.526520739717943143e-08,\n",
    "                 7.121820226943954045e-08,\n",
    "                 7.056591199310062196e-09,\n",
    "                 -5.769651171224500800e-08,\n",
    "                 5.493674015745062083e-08,\n",
    "                 -1.013383430345409753e-07,\n",
    "                 9.970229271565001302e-08,\n",
    "                 -3.204593418913237084e-07,\n",
    "                 -4.325400556337169854e-07,\n",
    "                 -6.636738552043014031e-07,\n",
    "                 -9.158674234832865898e-07,\n",
    "                 -1.763365287119160062e-06,\n",
    "                 -2.739152133168838517e-06,\n",
    "                 -4.476083953312462761e-06,\n",
    "                 -7.542537164392824152e-06],\n",
    "                [-1.194679728397433872e-05,\n",
    "                 -1.980733829726684289e-05,\n",
    "                 -1.077133905927803561e-03,\n",
    "                 -1.519773320369282514e-04,\n",
    "                 4.358444211166163332e-05,\n",
    "                 1.658965415525065864e-05,\n",
    "                 2.398549602516097313e-06,\n",
    "                 -1.332335275220263179e-06,\n",
    "                 1.629816851936227506e-06,\n",
    "                 4.550925948376061261e-07,\n",
    "                 -2.440652094473894876e-07,\n",
    "                 -1.256780047896774447e-07,\n",
    "                 -1.604059700341167774e-07,\n",
    "                 -1.366082574509440694e-07,\n",
    "                 6.310354307689493841e-08,\n",
    "                 1.457346526672138439e-08,\n",
    "                 -1.628435072394222375e-07,\n",
    "                 -6.812635356888434155e-09,\n",
    "                 5.664900883157117720e-08,\n",
    "                 -5.565218230427167767e-09,\n",
    "                 2.460946088137883220e-07,\n",
    "                 5.694319531931366159e-08,\n",
    "                 -2.056334398814257176e-08,\n",
    "                 1.748808934360601829e-07,\n",
    "                 1.773989087065118717e-07,\n",
    "                 -1.101112467177508824e-07,\n",
    "                 -1.075328597482854415e-07,\n",
    "                 3.386144369441476939e-08,\n",
    "                 1.897932070755456980e-08,\n",
    "                 -2.771581229295496183e-08,\n",
    "                 -4.256350579346231629e-08,\n",
    "                 2.369912349741317857e-07,\n",
    "                 1.700902709291848032e-07,\n",
    "                 -1.165152584466342702e-08,\n",
    "                 2.526520739717943143e-08,\n",
    "                 7.121820226943954045e-08,\n",
    "                 7.056591199310062196e-09,\n",
    "                 -5.769651171224500800e-08,\n",
    "                 5.493674015745062083e-08,\n",
    "                 -1.013383430345409753e-07,\n",
    "                 9.970229271565001302e-08,\n",
    "                 -3.204593418913237084e-07,\n",
    "                 -4.325400556337169854e-07,\n",
    "                 -6.636738552043014031e-07,\n",
    "                 -9.158674234832865898e-07,\n",
    "                 -1.763365287119160062e-06,\n",
    "                 -2.739152133168838517e-06,\n",
    "                 -4.476083953312462761e-06,\n",
    "                 -7.542537164392824152e-06]\n",
    "        ,\n",
    "                [-1.462083138277712432e-06,\n",
    "                 -2.622262173064377229e-06,\n",
    "                 -7.534344594908582143e-04,\n",
    "                 4.759606952424768331e-05,\n",
    "                 9.223688791069610846e-06,\n",
    "                 1.677105825408498600e-05,\n",
    "                 2.933277337991895692e-06,\n",
    "                 8.110282750876216604e-07,\n",
    "                 -1.425914101175619564e-06,\n",
    "                 -1.663120625907863012e-06,\n",
    "                 -9.908095184916553125e-08,\n",
    "                 2.624454673115753441e-07,\n",
    "                 -1.624587473395667151e-07,\n",
    "                 3.338108641988796370e-08,\n",
    "                 4.483677957255745166e-08,\n",
    "                 -2.272849655834033843e-08,\n",
    "                 6.738530411162273816e-08,\n",
    "                 -1.318730119721173922e-07,\n",
    "                 2.174619084598256286e-08,\n",
    "                 -2.635504384574270156e-08,\n",
    "                 -2.126007975966536514e-07,\n",
    "                 -1.018217795072811392e-07,\n",
    "                 -1.916260472310982058e-08,\n",
    "                 -6.106306355050666979e-08,\n",
    "                 -9.495394166931023019e-09,\n",
    "                 -3.854787158901162777e-09,\n",
    "                 -1.056476775362339673e-07,\n",
    "                 4.154432204662217048e-08,\n",
    "                 5.605603793178550658e-08,\n",
    "                 -7.432304252075775190e-08,\n",
    "                 -8.398636677852381007e-08,\n",
    "                 -1.854658209056216439e-07,\n",
    "                 -8.286421105874349958e-08,\n",
    "                 -1.424359400919484305e-07,\n",
    "                 -2.010722883843532184e-07,\n",
    "                 7.429247114041876855e-08,\n",
    "                 6.948458981206337186e-08,\n",
    "                 -1.446947117729709508e-07,\n",
    "                 -5.107443403085964430e-08,\n",
    "                 4.225381293752249147e-10,\n",
    "                 6.443742709884127751e-08,\n",
    "                 4.906226138658068876e-08,\n",
    "                 -9.440736302779392982e-08,\n",
    "                 -2.710204727223795743e-07,\n",
    "                 1.652564732815241083e-09,\n",
    "                 -8.563504499159779379e-08,\n",
    "                 -4.766724708442070395e-07,\n",
    "                 -7.328525557563466932e-07,\n",
    "                 -8.203079358028723468e-07]\n",
    "                ]"
   ]
  },
  {
   "cell_type": "markdown",
   "id": "e6b7737b",
   "metadata": {
    "pycharm": {
     "name": "#%%\n"
    }
   },
   "source": [
    "## Visualising the processed data"
   ]
  },
  {
   "cell_type": "code",
   "execution_count": 14,
   "id": "305cf381",
   "metadata": {
    "jupyter": {
     "outputs_hidden": false
    },
    "pycharm": {
     "name": "#%%\n"
    }
   },
   "outputs": [
    {
     "data": {
      "image/png": "[encoded data removed]",
      "text/plain": [
       "<Figure size 1500x500 with 1 Axes>"
      ]
     },
     "metadata": {},
     "output_type": "display_data"
    }
   ],
   "source": [
    "time = np.array(time)\n",
    "voltages = np.array(voltages)\n",
    "\n",
    "fig, ax = plt.subplots(figsize=(15, 5))\n",
    "for i in range(len(voltages)):  # add desired channels to plot here\n",
    "    plt.plot(time * 1e3, voltages[i] * 1e6, label=str(real_ch_names[i]))\n",
    "\n",
    "plt.xlabel('Time (ms)')\n",
    "plt.ylabel('Voltage (\\u03BCV)')\n",
    "plt.xlim([1, 9])  # 1-9 for Abeta, 1-19 for B\n",
    "plt.ylim([-150, 150])  # 150 for Abeta, 20 for B\n",
    "plt.legend(loc='upper right', fontsize=18)\n",
    "plt.xlabel('Time (ms)', fontsize=20)\n",
    "plt.ylabel('Voltage (uV)', fontsize=20)\n",
    "plt.xticks(fontsize=20)\n",
    "plt.yticks(fontsize=20)\n",
    "plt.show()"
   ]
  },
  {
   "cell_type": "markdown",
   "id": "a41533c3",
   "metadata": {
    "pycharm": {
     "name": "#%%\n"
    }
   },
   "source": [
    "## Saving the data\n",
    "Now that the data has been processed, we can save the derived data as an SDS. This can be programatically. For this tutorial we use information from the metadata to populate the name of the publication and the first author."
   ]
  },
  {
   "cell_type": "code",
   "execution_count": 27,
   "id": "1835024b-19a4-4e3f-ac04-f6ffb9642a59",
   "metadata": {},
   "outputs": [
    {
     "name": "stderr",
     "output_type": "stream",
     "text": [
      "C:\\Users\\mhof485\\AppData\\Roaming\\Python\\Python39\\site-packages\\sparc_me\\core\\dataset.py:260: FutureWarning:save is not part of the public API, usage can give unexpected results and will be removed in a future version\n",
      "C:\\Users\\mhof485\\AppData\\Roaming\\Python\\Python39\\site-packages\\sparc_me\\core\\dataset.py:260: FutureWarning:save is not part of the public API, usage can give unexpected results and will be removed in a future version\n",
      "C:\\Users\\mhof485\\AppData\\Roaming\\Python\\Python39\\site-packages\\sparc_me\\core\\dataset.py:260: FutureWarning:save is not part of the public API, usage can give unexpected results and will be removed in a future version\n",
      "C:\\Users\\mhof485\\AppData\\Roaming\\Python\\Python39\\site-packages\\sparc_me\\core\\dataset.py:260: FutureWarning:save is not part of the public API, usage can give unexpected results and will be removed in a future version\n",
      "C:\\Users\\mhof485\\AppData\\Roaming\\Python\\Python39\\site-packages\\sparc_me\\core\\dataset.py:260: FutureWarning:save is not part of the public API, usage can give unexpected results and will be removed in a future version\n",
      "C:\\Users\\mhof485\\AppData\\Roaming\\Python\\Python39\\site-packages\\sparc_me\\core\\dataset.py:260: FutureWarning:save is not part of the public API, usage can give unexpected results and will be removed in a future version\n",
      "C:\\Users\\mhof485\\AppData\\Roaming\\Python\\Python39\\site-packages\\sparc_me\\core\\dataset.py:260: FutureWarning:save is not part of the public API, usage can give unexpected results and will be removed in a future version\n",
      "C:\\Users\\mhof485\\AppData\\Roaming\\Python\\Python39\\site-packages\\sparc_me\\core\\dataset.py:260: FutureWarning:save is not part of the public API, usage can give unexpected results and will be removed in a future version\n",
      "C:\\Users\\mhof485\\AppData\\Roaming\\Python\\Python39\\site-packages\\sparc_me\\core\\dataset.py:260: FutureWarning:save is not part of the public API, usage can give unexpected results and will be removed in a future version\n",
      "C:\\Users\\mhof485\\AppData\\Roaming\\Python\\Python39\\site-packages\\sparc_me\\core\\dataset.py:260: FutureWarning:save is not part of the public API, usage can give unexpected results and will be removed in a future version\n"
     ]
    },
    {
     "name": "stdout",
     "output_type": "stream",
     "text": [
      "True\n"
     ]
    },
    {
     "name": "stderr",
     "output_type": "stream",
     "text": [
      "C:\\Users\\mhof485\\AppData\\Roaming\\Python\\Python39\\site-packages\\sparc_me\\core\\dataset.py:260: FutureWarning:save is not part of the public API, usage can give unexpected results and will be removed in a future version\n",
      "C:\\Users\\mhof485\\AppData\\Roaming\\Python\\Python39\\site-packages\\sparc_me\\core\\dataset.py:260: FutureWarning:save is not part of the public API, usage can give unexpected results and will be removed in a future version\n",
      "C:\\Users\\mhof485\\AppData\\Roaming\\Python\\Python39\\site-packages\\sparc_me\\core\\dataset.py:260: FutureWarning:save is not part of the public API, usage can give unexpected results and will be removed in a future version\n",
      "C:\\Users\\mhof485\\AppData\\Roaming\\Python\\Python39\\site-packages\\sparc_me\\core\\dataset.py:260: FutureWarning:save is not part of the public API, usage can give unexpected results and will be removed in a future version\n",
      "C:\\Users\\mhof485\\AppData\\Roaming\\Python\\Python39\\site-packages\\sparc_me\\core\\dataset.py:260: FutureWarning:save is not part of the public API, usage can give unexpected results and will be removed in a future version\n",
      "C:\\Users\\mhof485\\AppData\\Roaming\\Python\\Python39\\site-packages\\sparc_me\\core\\dataset.py:260: FutureWarning:save is not part of the public API, usage can give unexpected results and will be removed in a future version\n",
      "C:\\Users\\mhof485\\AppData\\Roaming\\Python\\Python39\\site-packages\\sparc_me\\core\\dataset.py:260: FutureWarning:save is not part of the public API, usage can give unexpected results and will be removed in a future version\n",
      "C:\\Users\\mhof485\\AppData\\Roaming\\Python\\Python39\\site-packages\\sparc_me\\core\\dataset.py:260: FutureWarning:save is not part of the public API, usage can give unexpected results and will be removed in a future version\n",
      "C:\\Users\\mhof485\\AppData\\Roaming\\Python\\Python39\\site-packages\\sparc_me\\core\\dataset.py:260: FutureWarning:save is not part of the public API, usage can give unexpected results and will be removed in a future version\n",
      "C:\\Users\\mhof485\\AppData\\Roaming\\Python\\Python39\\site-packages\\sparc_me\\core\\dataset.py:260: FutureWarning:save is not part of the public API, usage can give unexpected results and will be removed in a future version\n"
     ]
    }
   ],
   "source": [
    "np.savetxt('output.txt', time)\n",
    "\n",
    "dataset_path = \"../examples/dataset/\"\n",
    "file_path = \"../examples/dataset/primary/tmp.txt\"\n",
    "    \n",
    "\n",
    "# Creating a SDS dataset\n",
    "dataset = Dataset()\n",
    "dataset.load_from_template(version=\"2.0.0\")\n",
    "dataset.save(save_dir=dataset_path)\n",
    "\n",
    "# Get dataset metadata from SPARC Portal\n",
    "api_tools = Dataset_Api()\n",
    "datasetId = 262\n",
    "versionId = 1\n",
    "metadata = api_tools.get_metadata_pensieve(datasetId, versionId)\n",
    "\n",
    "# extracting information from the metadata downloaded from SPARC    \n",
    "name = metadata[\"name\"]\n",
    "author_first_name = metadata[\"creator\"][\"first_name\"]\n",
    "author_last_name = metadata[\"creator\"][\"last_name\"]\n",
    "author = author_first_name +\", \" + author_last_name\n",
    "\n",
    "# Filling/Updating dataset.\n",
    "dataset.set_field(category=\"dataset_description\", row_index=2, header=\"Value\", value=\"2.0.0\")\n",
    "dataset.set_field(category=\"dataset_description\", row_index=3, header=\"Value\", value=\"experimental\")\n",
    "dataset.set_field(category=\"dataset_description\", row_index=5, header=\"Value\", value= name)\n",
    "dataset.set_field(category=\"dataset_description\", row_index=6, header=\"Value\", value=\"Comparison of cuff, microelectrode, and intrafascicular electrode to make evoked compound action potential (ECAP) and naturally occurring activity recordings from the peripheral nervous system. Dataset from pigs (n=3) - a human-scale large animal model.\")\n",
    "dataset.set_field(category=\"dataset_description\", row_index=7, header=\"Value\", value=\"Electrophysiology, electrode design, vagus nerve stimulation\")\n",
    "dataset.set_field(category=\"dataset_description\", row_index=11, header=\"Value\", value=\"Compare recording electrode type in measuring neural signals in the periphery.\")\n",
    "dataset.set_field(category=\"dataset_description\", row_index=12, header=\"Value\", value=\"Electrophysiology data of concurrent reocrdings on cuff, microneurography electrode and intrafascicular electrode during vagus ECAP and greater auricular sensory stroking.\")\n",
    "dataset.set_field(category=\"dataset_description\", row_index=13, header=\"Value\", value=\"Cuff recordings largest ECAP and has highest SNR, but microelectrode is most sensitive and records most robust naturally occuring activity.\")\n",
    "dataset.set_field(category=\"dataset_description\", row_index=14, header=\"Value\", value=\"Vagus nerve, great auricular nerve\")\n",
    "dataset.set_field(category=\"dataset_description\", row_index=15, header=\"Value\", value=\"electrophysiology\")\n",
    "dataset.set_field(category=\"dataset_description\", row_index=16, header=\"Value\", value=\"micro electrode and macro electrode recording\")\n",
    "dataset.set_field(category=\"dataset_description\", row_index=17, header=\"Value\", value=\"Electrode design characterization for electrophysiology from peripheral nervous system\")\n",
    "dataset.set_field(category=\"dataset_description\", row_index=19, header=\"Value\", value= author)\n",
    "dataset.set_field(category=\"dataset_description\", row_index=20, header=\"Value\", value=\"0000-0003-4889-1941\")\n",
    "dataset.set_field(category=\"dataset_description\", row_index=21, header=\"Value\", value=\"Department of Biomedical Engineering, University of Wisconsin-Madison\")\n",
    "dataset.set_field(category=\"dataset_description\", row_index=22, header=\"Value\", value=\"PrincipalInvestigator\")\n",
    "dataset.set_field(category=\"dataset_description\", row_index=24, header=\"Value\", value=\"Pre-registration for dataset\")\n",
    "dataset.set_field(category=\"dataset_description\", row_index=25, header=\"Value\", value=\"HasPreregistration\")\n",
    "dataset.set_field(category=\"dataset_description\", row_index=26, header=\"Value\", value=\"https://wiki.cancerimagingarchive.net/pages/viewpage.action?pageId=70226903\")\n",
    "dataset.set_field(category=\"dataset_description\", row_index=27, header=\"Value\", value=\"DOI\")\n",
    "dataset.set_field(category=\"dataset_description\", row_index=29, header=\"Value\", value=\"6\")\n",
    "dataset.set_field(category=\"dataset_description\", row_index=30, header=\"Value\", value=\"0\")\n",
    "\n",
    "# Saving the updated dataset\n",
    "dataset.save(dataset_path)\n",
    "\n",
    "# Sparc-me has the capability to automatically save data directly into a SDS using the command below\n",
    "try:\n",
    "    add_data(file_path, dataset_path, copy=True, overwrite=False)\n",
    "except Exception:\n",
    "    # If the above code does not work the below is a manual work around (if windows is being problematic)\n",
    "    np.savetxt('../examples/dataset/primary/output.txt', time)"
   ]
  }
 ],
 "metadata": {
  "kernelspec": {
   "display_name": "Python 3 (ipykernel)",
   "language": "python",
   "name": "python3"
  },
  "language_info": {
   "codemirror_mode": {
    "name": "ipython",
    "version": 3
   },
   "file_extension": ".py",
   "mimetype": "text/x-python",
   "name": "python",
   "nbconvert_exporter": "python",
   "pygments_lexer": "ipython3",
   "version": "3.9.16"
  }
 },
 "nbformat": 4,
 "nbformat_minor": 5
}
