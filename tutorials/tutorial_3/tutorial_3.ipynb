{
 "cells": [
  {
   "cell_type": "markdown",
   "id": "58dcd0c7",
   "metadata": {},
   "source": [
    "# Tutorial 3: Adding tools created from existing SPARC datasets to the knowledge graph\n",
    "This tutorial demonstrates how models and tools stored in SDS from Tutorial 1 can be added to the knowledge graph created in Tutorial 2.\n",
    "\n",
    "This tutorial lists all tools and models in knowledge graph\n",
    "\n",
    "## Requirements\n",
    "\n",
    "## Using"
   ]
  },
  {
   "cell_type": "code",
   "execution_count": 1,
   "id": "4b6dccd7",
   "metadata": {
    "ExecuteTime": {
     "end_time": "2024-08-12T10:05:34.356432900Z",
     "start_time": "2024-08-12T10:05:17.798142200Z"
    }
   },
   "outputs": [
    {
     "name": "stderr",
     "output_type": "stream",
     "text": [
      "C:\\Users\\jxu759\\Documents\\sparc-assemble\\venv\\lib\\site-packages\\sentence_transformers\\cross_encoder\\CrossEncoder.py:11: TqdmExperimentalWarning: Using `tqdm.autonotebook.tqdm` in notebook mode. Use `tqdm.tqdm` instead to force console mode (e.g. in jupyter console)\n",
      "  from tqdm.autonotebook import tqdm, trange\n",
      "C:\\Users\\jxu759\\Documents\\sparc-assemble\\venv\\lib\\site-packages\\transformers\\tokenization_utils_base.py:1601: FutureWarning: `clean_up_tokenization_spaces` was not set. It will be set to `True` by default. This behavior will be depracted in transformers v4.45, and will be then set to `False` by default. For more details check this issue: https://github.com/huggingface/transformers/issues/31884\n",
      "  warnings.warn(\n"
     ]
    },
    {
     "name": "stdout",
     "output_type": "stream",
     "text": [
      "\t 1- E/A ratio,Ejection Fraction,PV loop,Left ventricular mass -> method_1 -> GPLS\n",
      "\t 2- Myocardial Stiffness,3D Mesh -> method_3 -> PV loop\n",
      "\t 3- A wave,E wave -> method_4 -> E/A ratio\n"
     ]
    }
   ],
   "source": [
    "from sparc_assemble import KG\n",
    "\n",
    "\n",
    "tool_library = r\"../../resources/dummy_tools\"\n",
    "save_kg_path = r\"./dummy_kg.owl\"\n",
    "\n",
    "# initialising KG from default ontology \"EDAM\"\n",
    "kg = KG()\n",
    "kg.save(save_path=save_kg_path)\n",
    "\n",
    "# # initialising KG from a give ontology\n",
    "# kg = KG(ontology_file=args.save_kg_path)\n",
    "\n",
    "# adding tools to KG\n",
    "kg.add_tools(tool_library=tool_library)\n",
    "\n",
    "# listing tools in KG\n",
    "kg.list()\n"
   ]
  },
  {
   "cell_type": "code",
   "execution_count": null,
   "outputs": [],
   "source": [],
   "metadata": {
    "collapsed": false
   },
   "id": "21cf5f3c0b7e2cb1"
  }
 ],
 "metadata": {
  "kernelspec": {
   "display_name": "Python 3 (ipykernel)",
   "language": "python",
   "name": "python3"
  },
  "language_info": {
   "codemirror_mode": {
    "name": "ipython",
    "version": 3
   },
   "file_extension": ".py",
   "mimetype": "text/x-python",
   "name": "python",
   "nbconvert_exporter": "python",
   "pygments_lexer": "ipython3",
   "version": "3.9.16"
  }
 },
 "nbformat": 4,
 "nbformat_minor": 5
}
