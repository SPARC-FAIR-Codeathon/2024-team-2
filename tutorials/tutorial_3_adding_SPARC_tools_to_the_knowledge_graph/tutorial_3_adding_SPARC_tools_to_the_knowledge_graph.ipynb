{
 "cells": [
  {
   "cell_type": "markdown",
   "id": "58dcd0c7",
   "metadata": {},
   "source": [
    "# Tutorial 3: Adding tools created from existing SPARC datasets to the knowledge graph\n",
    "This tutorial demonstrates how models and tools stored in SDS from Tutorial 1 can be added to the knowledge graph created in Tutorial 2.\n",
    "\n",
    "This tutorial lists all tools and models in the knowledge graph\n",
    "\n",
    "## Requirements\n",
    "pip install sparc-assemble\n",
    "\n",
    "## Using sparc_assemble to add an external model to the knowledge graph\n",
    "\n",
    "The code below shows how to access tools that have been annotated and add them to the knowledge graph.\n"
   ]
  },
  {
   "cell_type": "code",
   "execution_count": null,
   "id": "4b6dccd7",
   "metadata": {},
   "outputs": [],
   "source": [
    "from sparc_assemble import KG\n",
    "\n",
    "tool_library = r\"../../resources/dummy_tools\"\n",
    "save_kg_path = r\"./SPARC_kg.owl\"\n",
    "\n",
    "# initialising KG from default ontology \"EDAM\"\n",
    "kg = KG()\n",
    "kg.save(save_path=save_kg_path)\n",
    "\n",
    "# # initialising KG from a give ontology\n",
    "# kg = KG(ontology_file=args.save_kg_path)\n",
    "\n",
    "# adding tools to KG\n",
    "kg.add_tools(tool_library=tool_library)\n",
    "\n",
    "# listing tools in KG\n",
    "kg.list()\n",
    "\n",
    "# saving the knowledge graph\n",
    "kg.save(save_path=save_kg_path)\n"
   ]
  },
  {
   "cell_type": "code",
   "execution_count": null,
   "outputs": [],
   "source": [],
   "metadata": {
    "collapsed": false
   },
   "id": "21cf5f3c0b7e2cb1"
  }
 ],
 "metadata": {
  "kernelspec": {
   "display_name": "Python 3 (ipykernel)",
   "language": "python",
   "name": "python3"
  },
  "language_info": {
   "codemirror_mode": {
    "name": "ipython",
    "version": 3
   },
   "file_extension": ".py",
   "mimetype": "text/x-python",
   "name": "python",
   "nbconvert_exporter": "python",
   "pygments_lexer": "ipython3",
   "version": "3.9.16"
  }
 },
 "nbformat": 4,
 "nbformat_minor": 5
}
