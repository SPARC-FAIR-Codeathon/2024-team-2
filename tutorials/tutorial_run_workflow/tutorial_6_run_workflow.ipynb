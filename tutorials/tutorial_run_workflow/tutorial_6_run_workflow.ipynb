{
 "cells": [
  {
   "cell_type": "markdown",
   "source": [
    "# Tutorial 6: Run assembled workflow\n",
    "This tutorial shows how an assembled workflow could be run using its cwl description. \n",
    "\n",
    "We do not have a working example to provide at this stage. However, we refer user to the sparc-flow tools (tutorial 3, 4, 5, 6)."
   ],
   "metadata": {
    "collapsed": false
   },
   "id": "58dcd0c7"
  }
 ],
 "metadata": {
  "kernelspec": {
   "display_name": "Python 3 (ipykernel)",
   "language": "python",
   "name": "python3"
  },
  "language_info": {
   "codemirror_mode": {
    "name": "ipython",
    "version": 3
   },
   "file_extension": ".py",
   "mimetype": "text/x-python",
   "name": "python",
   "nbconvert_exporter": "python",
   "pygments_lexer": "ipython3",
   "version": "3.9.16"
  }
 },
 "nbformat": 4,
 "nbformat_minor": 5
}
