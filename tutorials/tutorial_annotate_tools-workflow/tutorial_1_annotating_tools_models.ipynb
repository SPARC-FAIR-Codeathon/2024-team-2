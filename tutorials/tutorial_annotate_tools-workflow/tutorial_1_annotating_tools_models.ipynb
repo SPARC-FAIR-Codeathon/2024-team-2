{
 "cells": [
  {
   "cell_type": "markdown",
   "id": "58dcd0c7",
   "metadata": {},
   "source": [
    "# Tutorial 1: Annotation of computational models and tools in existing SPARC datasets\n",
    "SPARC datasets contain measurements, and also tools and computational models to process and interpret the measurements. \n",
    "\n",
    "In this tutorial, we show how we can extract these tools and computational models in existing SPARC datasets and store them in their own SDS dataset to ensure they can be FAIR.\n",
    "\n",
    "We then show how we can annotate these tools and computational models such that they can be used by sparc-assemble. The annotations will be stored with the SDS that was just created.\n",
    "\n",
    "Tools and models will be extracted from two exemplar datasets. The examples will be used in subsequent tutorials to demonstrate sparc-assemble functionality including automated assembly of workflows.\n",
    "\n",
    "** data is sourced from https://sparc.science/datasets/262?type=dataset"
   ]
  },
  {
   "metadata": {},
   "cell_type": "markdown",
   "source": [
    "## Objectives of tutorial:\n",
    "- Extract tools and models from SDS dataset\n",
    "- Store tools and models as SDS dataset\n",
    "- Link the two new SDS datasets back to original dataset"
   ],
   "id": "1969d1439a2f5965"
  },
  {
   "metadata": {},
   "cell_type": "markdown",
   "source": "## Install required modules",
   "id": "e3fe7fde94f6c27b"
  },
  {
   "metadata": {
    "ExecuteTime": {
     "end_time": "2024-08-12T21:55:55.195331Z",
     "start_time": "2024-08-12T21:55:55.189324Z"
    }
   },
   "cell_type": "code",
   "source": [
    "!pip install json\n",
    "!pip install numpy\n",
    "!pip install sparc.client\n",
    "!pip install sparc_me\n",
    "!pip install sparc_flow\n",
    "!pip install sparc_assemble\n",
    "#!pip install pyeCAP"
   ],
   "id": "5d531124c2fbbe09",
   "outputs": [],
   "execution_count": 1
  },
  {
   "metadata": {},
   "cell_type": "markdown",
   "source": "## Example 1: Preparing tools",
   "id": "29130ddcc90c03a"
  },
  {
   "metadata": {},
   "cell_type": "markdown",
   "source": "### Step 1: Get dataset ID",
   "id": "a59e2faa79bd0145"
  },
  {
   "metadata": {},
   "cell_type": "markdown",
   "source": [
    "First, we must download a dataset from the SPARC portal. Two key pieces of information are needed:\n",
    "- Dataset ID\n",
    "- Dataset version ID\n",
    "\n",
    "These can be found on the dataset's page of the SPARC portal. We will use this [example dataset](https://sparc.science/datasets/262?type=dataset) for this tutorial.\n"
   ],
   "id": "9e648ce5cb278111"
  },
  {
   "metadata": {
    "ExecuteTime": {
     "end_time": "2024-08-12T21:55:55.225649Z",
     "start_time": "2024-08-12T21:55:55.216481Z"
    }
   },
   "cell_type": "code",
   "source": [
    "#   Dataset info\n",
    "datasetId = 262\n",
    "versionId = 1.1"
   ],
   "id": "b33ea49108df9e81",
   "outputs": [],
   "execution_count": 2
  },
  {
   "metadata": {},
   "cell_type": "markdown",
   "source": "### Step 2: Download the dataset",
   "id": "ec8d13af9ffb0aa8"
  },
  {
   "metadata": {},
   "cell_type": "markdown",
   "source": "We can either use the `sparc.python` [client](https://docs.sparc.science/docs/sparc-python-client) or the `sparc_me` [repository](https://github.com/SPARC-FAIR-Codeathon/sparc-me) to download a SDS dataset. Alternatively, you can manually download the dataset on the SPARC portal. ",
   "id": "4ca3d07585c2c84c"
  },
  {
   "metadata": {
    "ExecuteTime": {
     "end_time": "2024-08-12T21:55:57.805054Z",
     "start_time": "2024-08-12T21:55:55.227356Z"
    }
   },
   "cell_type": "code",
   "source": [
    "# Automatically download dataset from SPARC portal using their ID\n",
    "use_sparc_me = True\n",
    "\n",
    "if use_sparc_me:\n",
    "    from sparc_me import Dataset_Api\n",
    "    api_tools = Dataset_Api()\n",
    "    metadata = api_tools.get_metadata_pensieve(datasetId, versionId)\n",
    "    dataset = api_tools.get_dataset_latest_version_pensieve(datasetId)\n",
    "    #api_tools.download_dataset(datasetId)\n",
    "\n",
    "else:\n",
    "    from sparc.client import SparcClient\n",
    "    client = SparcClient(connect=False, config_file='config.ini')\n",
    "    client.pennsieve.get(f'https://api.pennsieve.io/discover/datasets/{datasetId}/versions/{versionId}/files/browse')"
   ],
   "id": "8f04acc41b830a9e",
   "outputs": [
    {
     "name": "stdout",
     "output_type": "stream",
     "text": [
      "True\n"
     ]
    }
   ],
   "execution_count": 3
  },
  {
   "metadata": {},
   "cell_type": "markdown",
   "source": [
    "Note that Line 9 of the above code section was commented out, as the selected dataset is >29.63 GB!! \n",
    "\n",
    "For this tutorial's purpose, we downloaded the target subject data directly from the SPARC portal, processed the data and saved the outputs in a separate folder called *dataset*. "
   ],
   "id": "2bcc4fd7b3c46c47"
  },
  {
   "metadata": {},
   "cell_type": "markdown",
   "source": "With `sparc_me`, we can verify that the correct dataset has been downloaded by checking the name and id of dataset",
   "id": "cd18f589507321d2"
  },
  {
   "metadata": {
    "ExecuteTime": {
     "end_time": "2024-08-12T21:55:57.820460Z",
     "start_time": "2024-08-12T21:55:57.808469Z"
    }
   },
   "cell_type": "code",
   "source": "dataset[\"name\"], dataset[\"id\"]",
   "id": "ce83848b8389160",
   "outputs": [
    {
     "data": {
      "text/plain": [
       "('Electrode design characterization for electrophysiology from swine peripheral nervous system',\n",
       " 262)"
      ]
     },
     "execution_count": 4,
     "metadata": {},
     "output_type": "execute_result"
    }
   ],
   "execution_count": 4
  },
  {
   "metadata": {},
   "cell_type": "markdown",
   "source": "### Step 3: Extract tools and store in SDS using sparc-flow",
   "id": "8aca2cd1b90e51a8"
  },
  {
   "metadata": {},
   "cell_type": "markdown",
   "source": [
    "Here, we demonstrate the use of two tools applied on this dataset. The first tool extracts data from a dataset and outputs a file containing the measurements for the independent variable of the dataset. This becomes an input to the second tool which outputs a file containing measurements for the dependent variable. \n",
    "\n",
    "In this dataset, the dependent variable is the membrane voltage of the evoked compound action potentials stimulated by electrodes on the cervical vagus nerve of pigs.  These measurements were recorded over a certain period of time, which is our independent variable."
   ],
   "id": "f52ccdb0bc5c6325"
  },
  {
   "metadata": {},
   "cell_type": "markdown",
   "source": "### Source code",
   "id": "bff3882c3622ed7b"
  },
  {
   "metadata": {},
   "cell_type": "markdown",
   "source": "#### Tool 1",
   "id": "5f24953f6526a289"
  },
  {
   "metadata": {
    "ExecuteTime": {
     "end_time": "2024-08-12T21:55:57.835474Z",
     "start_time": "2024-08-12T21:55:57.821452Z"
    }
   },
   "cell_type": "code",
   "source": [
    "import numpy as np\n",
    "import os"
   ],
   "id": "6be30f2ec0c89ab2",
   "outputs": [],
   "execution_count": 5
  },
  {
   "metadata": {
    "ExecuteTime": {
     "end_time": "2024-08-12T21:55:57.850601Z",
     "start_time": "2024-08-12T21:55:57.836469Z"
    }
   },
   "cell_type": "code",
   "source": [
    "#   Source code\n",
    "def extract_independent_variable_sds(datasetId, versionId, outputFile):\n",
    "    \"\"\"\n",
    "    This function extracts an array of measurements of the independent\n",
    "    variable quantity of a SDS dataset with a known Pensieve dataset ID,\n",
    "    and saves the array to a .txt file.\n",
    "\n",
    "    :param datasetId: SPARC dataset ID\n",
    "    :type datasetId: float\n",
    "    :param versionId: SPARC dataset version ID\n",
    "    :type versionId: float\n",
    "    :param outputFile: Output filename for .txt file\n",
    "    :type outputFile: str\n",
    "    \"\"\"\n",
    "\n",
    "    # Get dataset metadata from SPARC Portal\n",
    "    api_tools = Dataset_Api()\n",
    "    metadata = api_tools.get_metadata_pensieve(datasetId, versionId)\n",
    "\n",
    "    # Note we can download the dataset from SPARC using the sparc-me API using the line below\n",
    "    # api_tools.download_dataset(dataset[\"id\"])\n",
    "\n",
    "    # This is commented out as the dataset is >29.63 GB, we downloaded the target subject\n",
    "    # data directly from the SPARC portal, processed the data and saved the outputs.\n",
    "\n",
    "    # Independent variable quantity of dataset is time, and this was extracted from the dataset\n",
    "    x = [0.000000000000000000e+00,\n",
    "         8.191999999999999629e-04,\n",
    "         1.638399999999999926e-03,\n",
    "         2.457599999999999889e-03,\n",
    "         3.276799999999999852e-03,\n",
    "         4.095999999999999815e-03,\n",
    "         4.915199999999999778e-03,\n",
    "         5.734399999999999741e-03,\n",
    "         6.553599999999999703e-03,\n",
    "         7.372799999999999666e-03,\n",
    "         8.191999999999999629e-03,\n",
    "         9.011200000000000460e-03,\n",
    "         9.830399999999999555e-03,\n",
    "         1.064960000000000039e-02,\n",
    "         1.146879999999999948e-02,\n",
    "         1.228800000000000031e-02,\n",
    "         1.310719999999999941e-02,\n",
    "         1.392640000000000024e-02,\n",
    "         1.474559999999999933e-02,\n",
    "         1.556480000000000016e-02,\n",
    "         1.638399999999999926e-02,\n",
    "         1.720319999999999835e-02,\n",
    "         1.802240000000000092e-02,\n",
    "         1.884160000000000001e-02,\n",
    "         1.966079999999999911e-02,\n",
    "         2.048000000000000168e-02,\n",
    "         2.129920000000000077e-02,\n",
    "         2.211839999999999987e-02,\n",
    "         2.293759999999999896e-02,\n",
    "         2.375680000000000153e-02,\n",
    "         2.457600000000000062e-02,\n",
    "         2.539519999999999972e-02,\n",
    "         2.621439999999999881e-02,\n",
    "         2.703360000000000138e-02,\n",
    "         2.785280000000000047e-02,\n",
    "         2.867199999999999957e-02,\n",
    "         2.949119999999999867e-02,\n",
    "         3.031040000000000123e-02,\n",
    "         3.112960000000000033e-02,\n",
    "         3.194879999999999942e-02,\n",
    "         3.276799999999999852e-02,\n",
    "         3.358719999999999761e-02,\n",
    "         3.440639999999999671e-02,\n",
    "         3.522560000000000274e-02,\n",
    "         3.604480000000000184e-02,\n",
    "         3.686400000000000093e-02,\n",
    "         3.768320000000000003e-02,\n",
    "         3.850239999999999913e-02,\n",
    "         3.932159999999999822e-02]\n",
    "\n",
    "    #   Get full path to script file\n",
    "    dir_path = os.path.abspath('')\n",
    "\n",
    "    #   Save independent variable measurement to .txt files\n",
    "    outputPath = os.path.join(dir_path, 'outputs')\n",
    "    os.makedirs(outputPath, exist_ok=True)\n",
    "    np.savetxt(os.path.join(outputPath, outputFile), np.array(x), delimiter=',')\n"
   ],
   "id": "2824582b543c7f21",
   "outputs": [],
   "execution_count": 6
  },
  {
   "metadata": {},
   "cell_type": "markdown",
   "source": "We extract time measurements from the downloaded dataset, and saves it to a .txt file ",
   "id": "5e92a0d413da9e9"
  },
  {
   "metadata": {
    "ExecuteTime": {
     "end_time": "2024-08-12T21:55:58.689477Z",
     "start_time": "2024-08-12T21:55:57.851606Z"
    }
   },
   "cell_type": "code",
   "source": [
    "extract_independent_variable_sds(\n",
    "        datasetId=datasetId, versionId=versionId, outputFile='time.txt')"
   ],
   "id": "260635e3d2ef04c9",
   "outputs": [
    {
     "name": "stdout",
     "output_type": "stream",
     "text": [
      "True\n"
     ]
    }
   ],
   "execution_count": 7
  },
  {
   "metadata": {},
   "cell_type": "markdown",
   "source": "#### Tool 2",
   "id": "a7acbc17026e528d"
  },
  {
   "metadata": {
    "ExecuteTime": {
     "end_time": "2024-08-12T21:55:58.704629Z",
     "start_time": "2024-08-12T21:55:58.690439Z"
    }
   },
   "cell_type": "code",
   "source": [
    "#   Source code\n",
    "def extract_dependent_variable_sds(xFile, outputFile):\n",
    "    \"\"\"\n",
    "    This function extracts an array of the dependent variable measurements from a SDS dataset\n",
    "    at the specified independent variable measurements from tool_extract_indep_var_sds.py.\n",
    "    The dependent variable measurements are also saved to a .txt file.\n",
    "\n",
    "    :param xFile: independent variable quantity measurements from dataset extracted from a .txt file\n",
    "    :type xFile: directory\n",
    "    :param outputFile: Output filename for .txt file\n",
    "    :type outputFile: str\n",
    "    \"\"\"\n",
    "\n",
    "    #   Get full path to script file\n",
    "    dir_path = os.path.abspath('')\n",
    "    outputPath = os.path.join(dir_path, 'outputs')\n",
    "\n",
    "    #   Load file\n",
    "    x = np.loadtxt(os.path.join(outputPath, xFile), delimiter=',')\n",
    "\n",
    "    get_electrodes = False\n",
    "\n",
    "    #   Electrodes used to measure membrane voltage in each case\n",
    "    if get_electrodes:\n",
    "        electrodes = [\"Cuff 1\", \"Cuff 3\", \"LIFE 2\"]\n",
    "\n",
    "    #   Dependent variable quantity of dataset is membrane voltage obtained from different electrodes\n",
    "    #   at the specified time measurements (x). This information was extracted from the dataset.\n",
    "    y = [[-1.194679728397433872e-05,\n",
    "          -1.980733829726684289e-05,\n",
    "          -1.077133905927803561e-03,\n",
    "          -1.519773320369282514e-04,\n",
    "          4.358444211166163332e-05,\n",
    "          1.658965415525065864e-05,\n",
    "          2.398549602516097313e-06,\n",
    "          -1.332335275220263179e-06,\n",
    "          1.629816851936227506e-06,\n",
    "          4.550925948376061261e-07,\n",
    "          -2.440652094473894876e-07,\n",
    "          -1.256780047896774447e-07,\n",
    "          -1.604059700341167774e-07,\n",
    "          -1.366082574509440694e-07,\n",
    "          6.310354307689493841e-08,\n",
    "          1.457346526672138439e-08,\n",
    "          -1.628435072394222375e-07,\n",
    "          -6.812635356888434155e-09,\n",
    "          5.664900883157117720e-08,\n",
    "          -5.565218230427167767e-09,\n",
    "          2.460946088137883220e-07,\n",
    "          5.694319531931366159e-08,\n",
    "          -2.056334398814257176e-08,\n",
    "          1.748808934360601829e-07,\n",
    "          1.773989087065118717e-07,\n",
    "          -1.101112467177508824e-07,\n",
    "          -1.075328597482854415e-07,\n",
    "          3.386144369441476939e-08,\n",
    "          1.897932070755456980e-08,\n",
    "          -2.771581229295496183e-08,\n",
    "          -4.256350579346231629e-08,\n",
    "          2.369912349741317857e-07,\n",
    "          1.700902709291848032e-07,\n",
    "          -1.165152584466342702e-08,\n",
    "          2.526520739717943143e-08,\n",
    "          7.121820226943954045e-08,\n",
    "          7.056591199310062196e-09,\n",
    "          -5.769651171224500800e-08,\n",
    "          5.493674015745062083e-08,\n",
    "          -1.013383430345409753e-07,\n",
    "          9.970229271565001302e-08,\n",
    "          -3.204593418913237084e-07,\n",
    "          -4.325400556337169854e-07,\n",
    "          -6.636738552043014031e-07,\n",
    "          -9.158674234832865898e-07,\n",
    "          -1.763365287119160062e-06,\n",
    "          -2.739152133168838517e-06,\n",
    "          -4.476083953312462761e-06,\n",
    "          -7.542537164392824152e-06],\n",
    "         [-8.214201655775424599e-06,\n",
    "          -1.372845595816498555e-05,\n",
    "          -7.999020217967099580e-04,\n",
    "          -1.352363618910832938e-04,\n",
    "          3.092872602419839500e-05,\n",
    "          2.011895437284948941e-05,\n",
    "          9.557211317360985987e-06,\n",
    "          -3.820839410285373378e-06,\n",
    "          -6.232610444666107165e-07,\n",
    "          1.988794676647719403e-06,\n",
    "          1.798649238333572180e-07,\n",
    "          -6.153998549570629156e-08,\n",
    "          -2.280486447432810844e-08,\n",
    "          1.406398600829660458e-07,\n",
    "          2.274509841389832947e-07,\n",
    "          2.300306274820511094e-08,\n",
    "          -1.572653510349146469e-08,\n",
    "          -3.974936120421572610e-09,\n",
    "          -1.433040571137541349e-07,\n",
    "          -6.573999965324418493e-08,\n",
    "          -2.177186888257862627e-07,\n",
    "          8.583061039754071028e-08,\n",
    "          3.093779432661249251e-07,\n",
    "          -2.944427710333310390e-08,\n",
    "          -3.330317444469355433e-08,\n",
    "          -6.162516141635240061e-08,\n",
    "          -1.202485970381447797e-07,\n",
    "          -3.076161062497104022e-08,\n",
    "          2.313064439128372287e-10,\n",
    "          2.292993146737572915e-08,\n",
    "          -1.411246583126800866e-07,\n",
    "          -2.647507798588564735e-08,\n",
    "          3.457814694547747936e-08,\n",
    "          3.535925893357380257e-08,\n",
    "          -3.418105614165993230e-08,\n",
    "          -1.583688933718167217e-07,\n",
    "          1.012797271590110401e-07,\n",
    "          2.562090584582817896e-07,\n",
    "          -2.444895666644071396e-08,\n",
    "          -4.979131491438313074e-08,\n",
    "          -2.076604778027471311e-07,\n",
    "          -1.452476801605392218e-07,\n",
    "          -1.909545607780813125e-07,\n",
    "          -4.140272436638787089e-07,\n",
    "          -5.639934119954284032e-07,\n",
    "          -1.227500442716898632e-06,\n",
    "          -1.947706456334992766e-06,\n",
    "          -3.273951913389777314e-06,\n",
    "          -5.192352644414561846e-06],\n",
    "         [-1.462083138277712432e-06,\n",
    "          -2.622262173064377229e-06,\n",
    "          -7.534344594908582143e-04,\n",
    "          4.759606952424768331e-05,\n",
    "          9.223688791069610846e-06,\n",
    "          1.677105825408498600e-05,\n",
    "          2.933277337991895692e-06,\n",
    "          8.110282750876216604e-07,\n",
    "          -1.425914101175619564e-06,\n",
    "          -1.663120625907863012e-06,\n",
    "          -9.908095184916553125e-08,\n",
    "          2.624454673115753441e-07,\n",
    "          -1.624587473395667151e-07,\n",
    "          3.338108641988796370e-08,\n",
    "          4.483677957255745166e-08,\n",
    "          -2.272849655834033843e-08,\n",
    "          6.738530411162273816e-08,\n",
    "          -1.318730119721173922e-07,\n",
    "          2.174619084598256286e-08,\n",
    "          -2.635504384574270156e-08,\n",
    "          -2.126007975966536514e-07,\n",
    "          -1.018217795072811392e-07,\n",
    "          -1.916260472310982058e-08,\n",
    "          -6.106306355050666979e-08,\n",
    "          -9.495394166931023019e-09,\n",
    "          -3.854787158901162777e-09,\n",
    "          -1.056476775362339673e-07,\n",
    "          4.154432204662217048e-08,\n",
    "          5.605603793178550658e-08,\n",
    "          -7.432304252075775190e-08,\n",
    "          -8.398636677852381007e-08,\n",
    "          -1.854658209056216439e-07,\n",
    "          -8.286421105874349958e-08,\n",
    "          -1.424359400919484305e-07,\n",
    "          -2.010722883843532184e-07,\n",
    "          7.429247114041876855e-08,\n",
    "          6.948458981206337186e-08,\n",
    "          -1.446947117729709508e-07,\n",
    "          -5.107443403085964430e-08,\n",
    "          4.225381293752249147e-10,\n",
    "          6.443742709884127751e-08,\n",
    "          4.906226138658068876e-08,\n",
    "          -9.440736302779392982e-08,\n",
    "          -2.710204727223795743e-07,\n",
    "          1.652564732815241083e-09,\n",
    "          -8.563504499159779379e-08,\n",
    "          -4.766724708442070395e-07,\n",
    "          -7.328525557563466932e-07,\n",
    "          -8.203079358028723468e-07]]\n",
    "\n",
    "    #   Save independent variable measurement to .txt files\n",
    "    os.makedirs(outputPath, exist_ok=True)\n",
    "    np.savetxt(os.path.join(outputPath, outputFile), np.array(y).T, delimiter=',')\n"
   ],
   "id": "b709385a24ef8687",
   "outputs": [],
   "execution_count": 8
  },
  {
   "metadata": {},
   "cell_type": "markdown",
   "source": "This tool takes in the time measurements and extracts the membrane voltage measurements at the provided time points. We then save the membrane voltage measurements to a .txt file. ",
   "id": "e430c90f8c64639a"
  },
  {
   "metadata": {
    "ExecuteTime": {
     "end_time": "2024-08-12T21:55:58.720214Z",
     "start_time": "2024-08-12T21:55:58.705641Z"
    }
   },
   "cell_type": "code",
   "source": "extract_dependent_variable_sds(xFile='time.txt', outputFile='voltage.txt')",
   "id": "42e4bec7fec4a62b",
   "outputs": [],
   "execution_count": 9
  },
  {
   "metadata": {},
   "cell_type": "markdown",
   "source": "### Tool description in CWL",
   "id": "1a0969e36f567185"
  },
  {
   "metadata": {},
   "cell_type": "markdown",
   "source": [
    "To ensure these tool can be executed reproducibly across different operating systems and environments, we create a CWL file that describes the tools in a standardised manner. \n",
    "\n",
    "An example of the CWL files for the two tools are demonstrated below. Please copy them in a text editor and save file with a .cwl extension in the same working directory as this tutorial.  "
   ],
   "id": "4ceffa6e09335deb"
  },
  {
   "metadata": {},
   "cell_type": "markdown",
   "source": "#### Tool 1",
   "id": "2513a2643bc1f90c"
  },
  {
   "metadata": {},
   "cell_type": "raw",
   "source": [
    "cwlVersion: v1.2\n",
    "class: CommandLineTool\n",
    "baseCommand: [python, tool_extract_indep_var_sds.py]\n",
    "inputs:\n",
    "    datasetId:\n",
    "        type: float\n",
    "        inputBinding:\n",
    "            position: 1\n",
    "            prefix: --datasetId\n",
    "    versionId:\n",
    "        type: float\n",
    "        inputBinding:\n",
    "            position: 2\n",
    "            prefix: --versionId\n",
    "    outputFile:\n",
    "        type: File\n",
    "        inputBinding:\n",
    "            position: 3\n",
    "            prefix: --outputFile\n",
    "outputs:\n",
    "    xFile:\n",
    "        type: Directory\n",
    "        outputBinding:\n",
    "            glob: $(input.outputFile)\n",
    "\n",
    "requirements:\n",
    "    InitialWorkDirRequirement:\n",
    "        listing:\n",
    "          - class: File\n",
    "            basename: \"tool_extract_indep_var_sds.py\"\n",
    "            contents: |\n",
    "                datasetId=262\n",
    "                versionId=1.1\n",
    "                outputFile='time.txt'\n",
    "\n",
    "# run the tool\n",
    "#cwltool tool_extract_indep_var_sds.cwl input_extract_indep_var.yaml"
   ],
   "id": "7eff75a8ec5f29dc"
  },
  {
   "metadata": {},
   "cell_type": "markdown",
   "source": "#### Tool 2",
   "id": "83b36f5e363878f7"
  },
  {
   "metadata": {},
   "cell_type": "raw",
   "source": [
    "cwlVersion: v1.2\n",
    "class: CommandLineTool\n",
    "baseCommand: [python, tool_extract_dep_var_sds.py]\n",
    "inputs:\n",
    "    xFile:\n",
    "        type: File\n",
    "        inputBinding:\n",
    "            position: 1\n",
    "            prefix: --xFile\n",
    "    outputFile:\n",
    "        type: File\n",
    "        inputBinding:\n",
    "            position: 2\n",
    "            prefix: --outputFile\n",
    "\n",
    "outputs:\n",
    "    yFile:\n",
    "        type: File\n",
    "        outputBinding:\n",
    "            glob: $(input.outputFile)\n",
    "\n",
    "requirements:\n",
    "    InitialWorkDirRequirement:\n",
    "        listing:\n",
    "          - class: File\n",
    "            basename: \"tool_extract_indep_var_sds.py\"\n",
    "            contents: |\n",
    "                xFile='time.txt'\n",
    "                outputFile='voltage.txt'\n",
    "\n",
    "# run the tool\n",
    "#cwltool tool_extract_dep_var_sds.cwl input_extract_dep_var.yaml"
   ],
   "id": "3f6127b04e729c28"
  },
  {
   "metadata": {},
   "cell_type": "markdown",
   "source": "### Add tools to SDS",
   "id": "be933b854714422b"
  },
  {
   "metadata": {},
   "cell_type": "markdown",
   "source": "Once we have defined the CWL files for the tools, let's add the tools to it's own SDS structure. This is performed using `.json` files that describe the tools, their respective inputs and outputs, and the associated .cwl file. Here, we will store the tool descriptions in a dictionary and then save to a `.json` file. ",
   "id": "2406576ecd4c16e7"
  },
  {
   "metadata": {
    "ExecuteTime": {
     "end_time": "2024-08-12T21:55:58.735370Z",
     "start_time": "2024-08-12T21:55:58.722211Z"
    }
   },
   "cell_type": "code",
   "source": [
    "# Create folder for storing .json methods\n",
    "import json\n",
    "os.makedirs('methods/', exist_ok=True)"
   ],
   "id": "4e9f5726acc9e428",
   "outputs": [],
   "execution_count": 10
  },
  {
   "metadata": {},
   "cell_type": "markdown",
   "source": "#### Tool 1",
   "id": "93dd95e64b69036"
  },
  {
   "metadata": {
    "ExecuteTime": {
     "end_time": "2024-08-12T21:55:58.750628Z",
     "start_time": "2024-08-12T21:55:58.736375Z"
    }
   },
   "cell_type": "code",
   "source": [
    "# Save both methods as .json files\n",
    "tool1_method = {\n",
    "    \"Operation\": \"tool_extract_indep_var_sds\",\n",
    "    \"comment\": \"gets SDS dataset, retrieves and saves independent variable measurements\",\n",
    "    \"Input\": {\n",
    "        \"datasetId\": {\n",
    "            \"type\": \"float\"\n",
    "        },\n",
    "        \"versionId\": {\n",
    "         \"type\": \"float\"\n",
    "        },\n",
    "        \"outputFile\": {\n",
    "            \"type\": \"string\"\n",
    "        }\n",
    "    },\n",
    "    \"Output\": {\n",
    "        \"xFile\": {\n",
    "            \"type\": \"File\"\n",
    "        }\n",
    "    },\n",
    "    \"cwl\": \"tool_extract_indep_var_sds.cwl\"\n",
    "}\n",
    "\n",
    "with open(f'methods/{tool1_method[\"Operation\"]}.json', 'w') as f:\n",
    "    json.dump(tool1_method, f, indent=4)"
   ],
   "id": "d7d385b18cc4c646",
   "outputs": [],
   "execution_count": 11
  },
  {
   "metadata": {},
   "cell_type": "markdown",
   "source": "#### Tool 2",
   "id": "14e018fd03119706"
  },
  {
   "metadata": {
    "ExecuteTime": {
     "end_time": "2024-08-12T21:55:58.766032Z",
     "start_time": "2024-08-12T21:55:58.751890Z"
    }
   },
   "cell_type": "code",
   "source": [
    "tool2_method = {\n",
    "    \"Operation\": \"tool_extract_dep_var_sds\",\n",
    "    \"comment\": \"retrieves and saves dependent variable quantities measured at the corresponding independent variable measurements\",\n",
    "    \"Input\": {\n",
    "        \"xFile\": {\n",
    "            \"type\": \"File\"\n",
    "        },\n",
    "        \"outputFile\": {\n",
    "            \"type\": \"File\"\n",
    "        }\n",
    "    },\n",
    "    \"Output\": {\n",
    "        \"yFile\": {\n",
    "            \"type\": \"File\"\n",
    "        }\n",
    "    },\n",
    "    \"cwl\": \"tool_extract_dep_var_sds.cwl\"\n",
    "}\n",
    "\n",
    "with open(f'methods/{tool2_method[\"Operation\"]}.json', 'w') as f:\n",
    "    json.dump(tool2_method, f, indent=4)"
   ],
   "id": "1261f956114974d",
   "outputs": [],
   "execution_count": 12
  },
  {
   "metadata": {},
   "cell_type": "markdown",
   "source": "We can use the tools developed in `sparc_flow` to generate an SDS dataset for each tool using the information provided by the `.json` file.",
   "id": "6969e2fe54885c9d"
  },
  {
   "metadata": {
    "ExecuteTime": {
     "end_time": "2024-08-12T21:55:58.968269Z",
     "start_time": "2024-08-12T21:55:58.767035Z"
    }
   },
   "cell_type": "code",
   "source": [
    "try:\n",
    "    import sparc_flow \n",
    "except Exception:\n",
    "    print(\"Ideally, please run on linux. Sparc_flow does not yet fully support Windows\")\n",
    "    print(\"If you are a Windows user: please go to the file showing the error message in sparc_flow and comment out 'import pwd'.\")"
   ],
   "id": "901635d82b93d225",
   "outputs": [],
   "execution_count": 13
  },
  {
   "metadata": {},
   "cell_type": "markdown",
   "source": "#### Tool 1",
   "id": "a07a6f1e61a02033"
  },
  {
   "metadata": {
    "ExecuteTime": {
     "end_time": "2024-08-12T21:56:00.143853Z",
     "start_time": "2024-08-12T21:55:58.969265Z"
    }
   },
   "cell_type": "code",
   "source": [
    "tool1 = sparc_flow.Tool()\n",
    "\n",
    "# name of your tool\n",
    "tool1.set_tool_name(tool1_method[\"Operation\"])\n",
    "\n",
    "# directory path where tool was saved\n",
    "tool1.set_tool_dir(\".\")\n",
    "\n",
    "# creates sds dataset located in the first directory path argument, whilst duplicating the contents of the\n",
    "# second file path argument in tools1_dataset > primary > tools\n",
    "tool1.create_sds(\"../resources/tutorial_1_resources/tools1_dataset\", \".\")"
   ],
   "id": "e817893cf85f0e76",
   "outputs": [],
   "execution_count": 14
  },
  {
   "metadata": {},
   "cell_type": "markdown",
   "source": "#### Tool 2",
   "id": "d74b8cabc6d53688"
  },
  {
   "metadata": {
    "ExecuteTime": {
     "end_time": "2024-08-12T21:56:01.308316Z",
     "start_time": "2024-08-12T21:56:00.145069Z"
    }
   },
   "cell_type": "code",
   "source": [
    "tool2 = sparc_flow.Tool()\n",
    "tool2.set_tool_name(tool2_method[\"Operation\"])\n",
    "tool2.set_tool_dir(\".\")\n",
    "tool2.create_sds(\"../resources/tutorial_1_resources/tools2_dataset\", \".\")"
   ],
   "id": "d12d71685328eb2",
   "outputs": [],
   "execution_count": 15
  },
  {
   "metadata": {},
   "cell_type": "markdown",
   "source": [
    "Navigate to the directory where your newly created datasets for both tools are stored, e.g. `\"../resources/tutorial_1_resources/\"` and have a look inside. \n",
    "\n",
    "Congratulations! You have created a SDS dataset for your tools!"
   ],
   "id": "bdc50207e74ac053"
  },
  {
   "metadata": {},
   "cell_type": "markdown",
   "source": "## Example 2: Preparing models (already in SDS)",
   "id": "16f93b5b7e771e28"
  },
  {
   "metadata": {},
   "cell_type": "markdown",
   "source": [
    "We can apply the approach above to annotate models from a SPARC dataset, such as this one: https://sparc.science/datasets/135.\n",
    "\n",
    "The data is related to a mathematical model of the spontaneous electrical activity of a human sinoatrial node pacemaker cell. The dataset provides a `simulation.json` file describing the inputs and outputs of the model and references to a CellML model. \n",
    "\n",
    "You can find `simulation.json` via this path relative to the tutorial: `../../datasets/Pennsieve-dataset-135-version-7/files/primary/simulation.json`\n"
   ],
   "id": "68f2d95691d5a031"
  },
  {
   "metadata": {},
   "cell_type": "markdown",
   "source": [
    "One thing to note is that the model is already stored in an SDS datastructure and the `.json` file contains the annotations needed for it's use in `sparc-assembly`. \n",
    "\n",
    "Therefore, for this example, we only need to download the dataset. Subsequent tutorials will show how the model can be used in workflow assembly. "
   ],
   "id": "5392503d8ba3d3c4"
  },
  {
   "metadata": {},
   "cell_type": "markdown",
   "source": "### Step 1: Get dataset ID",
   "id": "35ec712ce5d023be"
  },
  {
   "metadata": {
    "ExecuteTime": {
     "end_time": "2024-08-12T21:56:01.323546Z",
     "start_time": "2024-08-12T21:56:01.310254Z"
    }
   },
   "cell_type": "code",
   "source": [
    "# Dataset ID and version ID on SPARC portal\n",
    "modeldatasetId = 135\n",
    "modelversionId = 7.0"
   ],
   "id": "3f54adef64fdbeff",
   "outputs": [],
   "execution_count": 16
  },
  {
   "metadata": {},
   "cell_type": "markdown",
   "source": "### Step 2: Download dataset",
   "id": "ba3a18efa96271df"
  },
  {
   "metadata": {
    "ExecuteTime": {
     "end_time": "2024-08-12T21:56:03.006071Z",
     "start_time": "2024-08-12T21:56:01.324540Z"
    }
   },
   "cell_type": "code",
   "source": [
    "model_metadata = api_tools.get_metadata_pensieve(modeldatasetId, modelversionId)\n",
    "model_dataset = api_tools.get_dataset_latest_version_pensieve(modeldatasetId)"
   ],
   "id": "394c10c6c424fded",
   "outputs": [
    {
     "name": "stdout",
     "output_type": "stream",
     "text": [
      "True\n"
     ]
    }
   ],
   "execution_count": 17
  },
  {
   "metadata": {
    "ExecuteTime": {
     "end_time": "2024-08-12T21:56:03.021396Z",
     "start_time": "2024-08-12T21:56:03.011309Z"
    }
   },
   "cell_type": "code",
   "source": "model_dataset",
   "id": "d1aa031fde22e9ac",
   "outputs": [
    {
     "data": {
      "text/plain": [
       "{'id': 135,\n",
       " 'sourceDatasetId': 879,\n",
       " 'name': 'Computational analysis of the human sinus node action potential - Model development and effects of mutations',\n",
       " 'description': 'CellML version of the Fabbri et al. 2017 mathematical model of the spontaneous electrical activity of a human sinoatrial node (SAN) pacemaker cell',\n",
       " 'ownerId': 613,\n",
       " 'ownerFirstName': 'Alan',\n",
       " 'ownerLastName': 'Garny',\n",
       " 'ownerOrcid': '0000-0001-7606-5888',\n",
       " 'organizationName': 'SPARC Consortium',\n",
       " 'organizationId': 367,\n",
       " 'license': 'Creative Commons Attribution',\n",
       " 'tags': ['ion channels',\n",
       "  'cardiovascular models',\n",
       "  'sinoatrial node',\n",
       "  'action potentials',\n",
       "  'cardiac electrophysiology',\n",
       "  'cardiomyocyte',\n",
       "  'human',\n",
       "  'computer simulation',\n",
       "  'heart rate'],\n",
       " 'version': 7,\n",
       " 'revision': None,\n",
       " 'size': 167279,\n",
       " 'modelCount': [{'modelName': 'researcher', 'count': 2},\n",
       "  {'modelName': 'subject', 'count': 0},\n",
       "  {'modelName': 'sample', 'count': 0},\n",
       "  {'modelName': 'term', 'count': 0},\n",
       "  {'modelName': 'award', 'count': 1},\n",
       "  {'modelName': 'protocol', 'count': 0},\n",
       "  {'modelName': 'summary', 'count': 10}],\n",
       " 'fileCount': 19,\n",
       " 'recordCount': 13,\n",
       " 'uri': 's3://prd-sparc-discover50-use1/135/',\n",
       " 'arn': 'arn:aws:s3:::prd-sparc-discover50-use1/135/',\n",
       " 'status': 'PUBLISH_SUCCEEDED',\n",
       " 'doi': '10.26275/je6r-kbu8',\n",
       " 'banner': 'https://assets.discover.pennsieve.io/dataset-assets/135/7/banner.jpg',\n",
       " 'readme': 'https://assets.discover.pennsieve.io/dataset-assets/135/7/readme.md',\n",
       " 'changelog': 'https://assets.discover.pennsieve.io/dataset-assets/135/7/changelog.md',\n",
       " 'contributors': [{'firstName': 'Alan',\n",
       "   'middleInitial': None,\n",
       "   'lastName': 'Garny',\n",
       "   'degree': None,\n",
       "   'orcid': '0000-0001-7606-5888'},\n",
       "  {'firstName': 'Peter',\n",
       "   'middleInitial': None,\n",
       "   'lastName': 'Hunter',\n",
       "   'degree': None,\n",
       "   'orcid': '0000-0001-9665-4145'}],\n",
       " 'collections': [],\n",
       " 'externalPublications': [{'doi': '10.1113/jp273259',\n",
       "   'relationshipType': 'IsDescribedBy'}],\n",
       " 'sponsorship': {'title': 'NIH SPARC Program',\n",
       "  'imageUrl': 'https://assets.discover.pennsieve.io/dataset-assets/sponsorships/sparc_logo.svg',\n",
       "  'markup': 'This dataset is part of the NIH SPARC program and available on the\\xa0<a href=http://sparc.science/datasets/135>SPARC Portal</a><br><br> Prior to being open-sourced, Pennsieve was known as the Blackfynn platform'},\n",
       " 'pennsieveSchemaVersion': '4.0',\n",
       " 'createdAt': '2024-07-09T00:02:07.1959Z',\n",
       " 'updatedAt': '2024-08-12T07:12:07.201382Z',\n",
       " 'firstPublishedAt': '2021-05-10T16:55:31.212216Z',\n",
       " 'versionPublishedAt': '2024-07-09T00:02:07.1959Z',\n",
       " 'revisedAt': None,\n",
       " 'embargo': False,\n",
       " 'embargoReleaseDate': None,\n",
       " 'embargoAccess': None}"
      ]
     },
     "execution_count": 18,
     "metadata": {},
     "output_type": "execute_result"
    }
   ],
   "execution_count": 18
  },
  {
   "metadata": {},
   "cell_type": "markdown",
   "source": "",
   "id": "b760f828c9bf77b1"
  }
 ],
 "metadata": {
  "kernelspec": {
   "display_name": "Python 3 (ipykernel)",
   "language": "python",
   "name": "python3"
  },
  "language_info": {
   "codemirror_mode": {
    "name": "ipython",
    "version": 3
   },
   "file_extension": ".py",
   "mimetype": "text/x-python",
   "name": "python",
   "nbconvert_exporter": "python",
   "pygments_lexer": "ipython3",
   "version": "3.9.16"
  }
 },
 "nbformat": 4,
 "nbformat_minor": 5
}
