{
 "cells": [
  {
   "cell_type": "markdown",
   "id": "58dcd0c7",
   "metadata": {},
   "source": [
    "# Tutorial 1: Annotation of computational models and tools in existing SPARC datasets\n",
    "SPARC datasets contain measurements, and also tools and computational models to process and interpret the measurements. \n",
    "\n",
    "In this tutorial, we show how we can extract these tools and computational models in existing SPARC datasets and store them in their own SDS dataset to ensure they can be FAIR.\n",
    "\n",
    "We then show how we can annotate these tools and computational models such that they can be used by sparc-assemble. The annotations will be stored with the SDS that was just created.\n",
    "\n",
    "Tools and models will be extracted from two exemplar datasets. The examples will be used in subsequent tutorials to demonstrate sparc-assemble functionality including automated assembly of workflows.\n",
    "\n",
    "** data is sourced from https://sparc.science/datasets/262?type=dataset"
   ]
  },
  {
   "metadata": {},
   "cell_type": "markdown",
   "source": [
    "## Objectives of tutorial:\n",
    "- Extract tools and models from SDS dataset\n",
    "- Store tools and models as SDS dataset\n",
    "- Link the two new SDS datasets back to original dataset"
   ],
   "id": "1969d1439a2f5965"
  },
  {
   "metadata": {},
   "cell_type": "markdown",
   "source": "## Install required modules",
   "id": "e3fe7fde94f6c27b"
  },
  {
   "metadata": {
    "ExecuteTime": {
     "end_time": "2024-08-12T03:58:41.060990Z",
     "start_time": "2024-08-12T03:58:32.722125Z"
    }
   },
   "cell_type": "code",
   "source": [
    "!pip install numpy\n",
    "!pip install sparc.client\n",
    "!pip install sparc_me\n",
    "!pip install sparc_flow\n",
    "!pip install sparc_assemble\n",
    "#!pip install pyeCAP"
   ],
   "id": "5d531124c2fbbe09",
   "outputs": [
    {
     "name": "stdout",
     "output_type": "stream",
     "text": [
      "Requirement already satisfied: numpy in c:\\users\\mdan066\\documents\\sparc_codeathon\\2024-team-2\\venv_sparc310\\lib\\site-packages (1.25.2)\n"
     ]
    },
    {
     "name": "stderr",
     "output_type": "stream",
     "text": [
      "\n",
      "[notice] A new release of pip is available: 23.2.1 -> 24.2\n",
      "[notice] To update, run: python.exe -m pip install --upgrade pip\n"
     ]
    },
    {
     "name": "stdout",
     "output_type": "stream",
     "text": [
      "Requirement already satisfied: sparc.client in c:\\users\\mdan066\\documents\\sparc_codeathon\\2024-team-2\\venv_sparc310\\lib\\site-packages (0.3.1)\n",
      "Requirement already satisfied: osparc~=0.5.0 in c:\\users\\mdan066\\documents\\sparc_codeathon\\2024-team-2\\venv_sparc310\\lib\\site-packages (from sparc.client) (0.5.0)\n",
      "Requirement already satisfied: pennsieve2>=0.1.2 in c:\\users\\mdan066\\documents\\sparc_codeathon\\2024-team-2\\venv_sparc310\\lib\\site-packages (from sparc.client) (0.1.2)\n",
      "Requirement already satisfied: cmlibs.zinc>=4.0.0 in c:\\users\\mdan066\\documents\\sparc_codeathon\\2024-team-2\\venv_sparc310\\lib\\site-packages (from sparc.client) (4.1.2)\n",
      "Requirement already satisfied: cmlibs.utils>=0.6.0 in c:\\users\\mdan066\\documents\\sparc_codeathon\\2024-team-2\\venv_sparc310\\lib\\site-packages (from sparc.client) (0.9.0)\n",
      "Requirement already satisfied: cmlibs.exporter>=0.5.0 in c:\\users\\mdan066\\documents\\sparc_codeathon\\2024-team-2\\venv_sparc310\\lib\\site-packages (from sparc.client) (0.7.0)\n",
      "Requirement already satisfied: scaffoldmaker>=0.10.0 in c:\\users\\mdan066\\documents\\sparc_codeathon\\2024-team-2\\venv_sparc310\\lib\\site-packages (from sparc.client) (0.14.0)\n",
      "Requirement already satisfied: mbfxml2ex>=0.7.0 in c:\\users\\mdan066\\documents\\sparc_codeathon\\2024-team-2\\venv_sparc310\\lib\\site-packages (from sparc.client) (0.7.3)\n",
      "Requirement already satisfied: cmlibs.argon>=0.4.0 in c:\\users\\mdan066\\documents\\sparc_codeathon\\2024-team-2\\venv_sparc310\\lib\\site-packages (from cmlibs.exporter>=0.5.0->sparc.client) (0.4.3)\n",
      "Requirement already satisfied: svgpathtools-light in c:\\users\\mdan066\\documents\\sparc_codeathon\\2024-team-2\\venv_sparc310\\lib\\site-packages (from cmlibs.exporter>=0.5.0->sparc.client) (1.6.2)\n",
      "Requirement already satisfied: cmlibs.maths>=0.5 in c:\\users\\mdan066\\documents\\sparc_codeathon\\2024-team-2\\venv_sparc310\\lib\\site-packages (from cmlibs.utils>=0.6.0->sparc.client) (0.6.2)\n",
      "Requirement already satisfied: urllib3>=1.26.4 in c:\\users\\mdan066\\documents\\sparc_codeathon\\2024-team-2\\venv_sparc310\\lib\\site-packages (from osparc~=0.5.0->sparc.client) (1.26.14)\n",
      "Requirement already satisfied: six>=1.10 in c:\\users\\mdan066\\documents\\sparc_codeathon\\2024-team-2\\venv_sparc310\\lib\\site-packages (from osparc~=0.5.0->sparc.client) (1.16.0)\n",
      "Requirement already satisfied: certifi in c:\\users\\mdan066\\documents\\sparc_codeathon\\2024-team-2\\venv_sparc310\\lib\\site-packages (from osparc~=0.5.0->sparc.client) (2022.12.7)\n",
      "Requirement already satisfied: python-dateutil in c:\\users\\mdan066\\documents\\sparc_codeathon\\2024-team-2\\venv_sparc310\\lib\\site-packages (from osparc~=0.5.0->sparc.client) (2.8.2)\n",
      "Requirement already satisfied: boto3<2.0,>=1.26 in c:\\users\\mdan066\\documents\\sparc_codeathon\\2024-team-2\\venv_sparc310\\lib\\site-packages (from pennsieve2>=0.1.2->sparc.client) (1.34.158)\n",
      "Requirement already satisfied: grpcio<2.0,>=1.51 in c:\\users\\mdan066\\documents\\sparc_codeathon\\2024-team-2\\venv_sparc310\\lib\\site-packages (from pennsieve2>=0.1.2->sparc.client) (1.65.4)\n",
      "Requirement already satisfied: grpcio_tools<2.0,>=1.51 in c:\\users\\mdan066\\documents\\sparc_codeathon\\2024-team-2\\venv_sparc310\\lib\\site-packages (from pennsieve2>=0.1.2->sparc.client) (1.62.3)\n",
      "Requirement already satisfied: protobuf<5.0,>=4.21 in c:\\users\\mdan066\\documents\\sparc_codeathon\\2024-team-2\\venv_sparc310\\lib\\site-packages (from pennsieve2>=0.1.2->sparc.client) (4.25.4)\n",
      "Requirement already satisfied: pyjwt<3.0,>=2.6 in c:\\users\\mdan066\\documents\\sparc_codeathon\\2024-team-2\\venv_sparc310\\lib\\site-packages (from pennsieve2>=0.1.2->sparc.client) (2.9.0)\n",
      "Requirement already satisfied: requests<3.0,>=2.28 in c:\\users\\mdan066\\documents\\sparc_codeathon\\2024-team-2\\venv_sparc310\\lib\\site-packages (from pennsieve2>=0.1.2->sparc.client) (2.28.2)\n",
      "Requirement already satisfied: tqdm<5.0,>=4.64 in c:\\users\\mdan066\\documents\\sparc_codeathon\\2024-team-2\\venv_sparc310\\lib\\site-packages (from pennsieve2>=0.1.2->sparc.client) (4.66.5)\n",
      "Requirement already satisfied: scipy in c:\\users\\mdan066\\documents\\sparc_codeathon\\2024-team-2\\venv_sparc310\\lib\\site-packages (from scaffoldmaker>=0.10.0->sparc.client) (1.14.0)\n",
      "Requirement already satisfied: numpy in c:\\users\\mdan066\\documents\\sparc_codeathon\\2024-team-2\\venv_sparc310\\lib\\site-packages (from scaffoldmaker>=0.10.0->sparc.client) (1.25.2)\n",
      "Requirement already satisfied: botocore<1.35.0,>=1.34.158 in c:\\users\\mdan066\\documents\\sparc_codeathon\\2024-team-2\\venv_sparc310\\lib\\site-packages (from boto3<2.0,>=1.26->pennsieve2>=0.1.2->sparc.client) (1.34.158)\n",
      "Requirement already satisfied: jmespath<2.0.0,>=0.7.1 in c:\\users\\mdan066\\documents\\sparc_codeathon\\2024-team-2\\venv_sparc310\\lib\\site-packages (from boto3<2.0,>=1.26->pennsieve2>=0.1.2->sparc.client) (1.0.1)\n",
      "Requirement already satisfied: s3transfer<0.11.0,>=0.10.0 in c:\\users\\mdan066\\documents\\sparc_codeathon\\2024-team-2\\venv_sparc310\\lib\\site-packages (from boto3<2.0,>=1.26->pennsieve2>=0.1.2->sparc.client) (0.10.2)\n",
      "Requirement already satisfied: packaging in c:\\users\\mdan066\\documents\\sparc_codeathon\\2024-team-2\\venv_sparc310\\lib\\site-packages (from cmlibs.argon>=0.4.0->cmlibs.exporter>=0.5.0->sparc.client) (23.0)\n",
      "Requirement already satisfied: setuptools in c:\\users\\mdan066\\documents\\sparc_codeathon\\2024-team-2\\venv_sparc310\\lib\\site-packages (from grpcio_tools<2.0,>=1.51->pennsieve2>=0.1.2->sparc.client) (62.1.0)\n",
      "Requirement already satisfied: charset-normalizer<4,>=2 in c:\\users\\mdan066\\documents\\sparc_codeathon\\2024-team-2\\venv_sparc310\\lib\\site-packages (from requests<3.0,>=2.28->pennsieve2>=0.1.2->sparc.client) (3.0.1)\n",
      "Requirement already satisfied: idna<4,>=2.5 in c:\\users\\mdan066\\documents\\sparc_codeathon\\2024-team-2\\venv_sparc310\\lib\\site-packages (from requests<3.0,>=2.28->pennsieve2>=0.1.2->sparc.client) (3.4)\n",
      "Requirement already satisfied: colorama in c:\\users\\mdan066\\documents\\sparc_codeathon\\2024-team-2\\venv_sparc310\\lib\\site-packages (from tqdm<5.0,>=4.64->pennsieve2>=0.1.2->sparc.client) (0.4.6)\n"
     ]
    },
    {
     "name": "stderr",
     "output_type": "stream",
     "text": [
      "\n",
      "[notice] A new release of pip is available: 23.2.1 -> 24.2\n",
      "[notice] To update, run: python.exe -m pip install --upgrade pip\n"
     ]
    },
    {
     "name": "stdout",
     "output_type": "stream",
     "text": [
      "Requirement already satisfied: sparc_me in c:\\users\\mdan066\\documents\\sparc_codeathon\\2024-team-2\\venv_sparc310\\lib\\site-packages (1.0.12)\n",
      "Requirement already satisfied: pandas in c:\\users\\mdan066\\documents\\sparc_codeathon\\2024-team-2\\venv_sparc310\\lib\\site-packages (from sparc_me) (2.2.2)\n",
      "Requirement already satisfied: styleframe in c:\\users\\mdan066\\documents\\sparc_codeathon\\2024-team-2\\venv_sparc310\\lib\\site-packages (from sparc_me) (4.2)\n",
      "Requirement already satisfied: xlrd in c:\\users\\mdan066\\documents\\sparc_codeathon\\2024-team-2\\venv_sparc310\\lib\\site-packages (from sparc_me) (2.0.1)\n",
      "Requirement already satisfied: openpyxl in c:\\users\\mdan066\\documents\\sparc_codeathon\\2024-team-2\\venv_sparc310\\lib\\site-packages (from sparc_me) (3.1.5)\n",
      "Requirement already satisfied: jsonschema in c:\\users\\mdan066\\documents\\sparc_codeathon\\2024-team-2\\venv_sparc310\\lib\\site-packages (from sparc_me) (4.23.0)\n",
      "Requirement already satisfied: requests in c:\\users\\mdan066\\documents\\sparc_codeathon\\2024-team-2\\venv_sparc310\\lib\\site-packages (from sparc_me) (2.28.2)\n",
      "Requirement already satisfied: pybids in c:\\users\\mdan066\\documents\\sparc_codeathon\\2024-team-2\\venv_sparc310\\lib\\site-packages (from sparc_me) (0.17.0)\n",
      "Requirement already satisfied: attrs>=22.2.0 in c:\\users\\mdan066\\documents\\sparc_codeathon\\2024-team-2\\venv_sparc310\\lib\\site-packages (from jsonschema->sparc_me) (24.2.0)\n",
      "Requirement already satisfied: jsonschema-specifications>=2023.03.6 in c:\\users\\mdan066\\documents\\sparc_codeathon\\2024-team-2\\venv_sparc310\\lib\\site-packages (from jsonschema->sparc_me) (2023.12.1)\n",
      "Requirement already satisfied: referencing>=0.28.4 in c:\\users\\mdan066\\documents\\sparc_codeathon\\2024-team-2\\venv_sparc310\\lib\\site-packages (from jsonschema->sparc_me) (0.35.1)\n",
      "Requirement already satisfied: rpds-py>=0.7.1 in c:\\users\\mdan066\\documents\\sparc_codeathon\\2024-team-2\\venv_sparc310\\lib\\site-packages (from jsonschema->sparc_me) (0.20.0)\n",
      "Requirement already satisfied: et-xmlfile in c:\\users\\mdan066\\documents\\sparc_codeathon\\2024-team-2\\venv_sparc310\\lib\\site-packages (from openpyxl->sparc_me) (1.1.0)\n",
      "Requirement already satisfied: numpy>=1.22.4 in c:\\users\\mdan066\\documents\\sparc_codeathon\\2024-team-2\\venv_sparc310\\lib\\site-packages (from pandas->sparc_me) (1.25.2)\n",
      "Requirement already satisfied: python-dateutil>=2.8.2 in c:\\users\\mdan066\\documents\\sparc_codeathon\\2024-team-2\\venv_sparc310\\lib\\site-packages (from pandas->sparc_me) (2.8.2)\n",
      "Requirement already satisfied: pytz>=2020.1 in c:\\users\\mdan066\\documents\\sparc_codeathon\\2024-team-2\\venv_sparc310\\lib\\site-packages (from pandas->sparc_me) (2024.1)\n",
      "Requirement already satisfied: tzdata>=2022.7 in c:\\users\\mdan066\\documents\\sparc_codeathon\\2024-team-2\\venv_sparc310\\lib\\site-packages (from pandas->sparc_me) (2024.1)\n",
      "Requirement already satisfied: scipy>=1.5 in c:\\users\\mdan066\\documents\\sparc_codeathon\\2024-team-2\\venv_sparc310\\lib\\site-packages (from pybids->sparc_me) (1.14.0)\n",
      "Requirement already satisfied: nibabel>=3.0 in c:\\users\\mdan066\\documents\\sparc_codeathon\\2024-team-2\\venv_sparc310\\lib\\site-packages (from pybids->sparc_me) (5.2.1)\n",
      "Requirement already satisfied: formulaic<0.6,>=0.2.4 in c:\\users\\mdan066\\documents\\sparc_codeathon\\2024-team-2\\venv_sparc310\\lib\\site-packages (from pybids->sparc_me) (0.5.2)\n",
      "Requirement already satisfied: sqlalchemy>=1.3.16 in c:\\users\\mdan066\\documents\\sparc_codeathon\\2024-team-2\\venv_sparc310\\lib\\site-packages (from pybids->sparc_me) (2.0.24)\n",
      "Requirement already satisfied: bids-validator>=1.11 in c:\\users\\mdan066\\documents\\sparc_codeathon\\2024-team-2\\venv_sparc310\\lib\\site-packages (from pybids->sparc_me) (1.14.7.post0)\n",
      "Requirement already satisfied: num2words>=0.5.5 in c:\\users\\mdan066\\documents\\sparc_codeathon\\2024-team-2\\venv_sparc310\\lib\\site-packages (from pybids->sparc_me) (0.5.13)\n",
      "Requirement already satisfied: click>=8.0 in c:\\users\\mdan066\\documents\\sparc_codeathon\\2024-team-2\\venv_sparc310\\lib\\site-packages (from pybids->sparc_me) (8.1.7)\n",
      "Requirement already satisfied: universal-pathlib>=0.2.2 in c:\\users\\mdan066\\documents\\sparc_codeathon\\2024-team-2\\venv_sparc310\\lib\\site-packages (from pybids->sparc_me) (0.2.2)\n",
      "Requirement already satisfied: charset-normalizer<4,>=2 in c:\\users\\mdan066\\documents\\sparc_codeathon\\2024-team-2\\venv_sparc310\\lib\\site-packages (from requests->sparc_me) (3.0.1)\n",
      "Requirement already satisfied: idna<4,>=2.5 in c:\\users\\mdan066\\documents\\sparc_codeathon\\2024-team-2\\venv_sparc310\\lib\\site-packages (from requests->sparc_me) (3.4)\n",
      "Requirement already satisfied: urllib3<1.27,>=1.21.1 in c:\\users\\mdan066\\documents\\sparc_codeathon\\2024-team-2\\venv_sparc310\\lib\\site-packages (from requests->sparc_me) (1.26.14)\n",
      "Requirement already satisfied: certifi>=2017.4.17 in c:\\users\\mdan066\\documents\\sparc_codeathon\\2024-team-2\\venv_sparc310\\lib\\site-packages (from requests->sparc_me) (2022.12.7)\n",
      "Requirement already satisfied: colour<0.2,>=0.1.5 in c:\\users\\mdan066\\documents\\sparc_codeathon\\2024-team-2\\venv_sparc310\\lib\\site-packages (from styleframe->sparc_me) (0.1.5)\n",
      "Requirement already satisfied: bidsschematools>=0.10 in c:\\users\\mdan066\\documents\\sparc_codeathon\\2024-team-2\\venv_sparc310\\lib\\site-packages (from bids-validator>=1.11->pybids->sparc_me) (0.10.0)\n",
      "Requirement already satisfied: colorama in c:\\users\\mdan066\\documents\\sparc_codeathon\\2024-team-2\\venv_sparc310\\lib\\site-packages (from click>=8.0->pybids->sparc_me) (0.4.6)\n",
      "Requirement already satisfied: astor>=0.8 in c:\\users\\mdan066\\documents\\sparc_codeathon\\2024-team-2\\venv_sparc310\\lib\\site-packages (from formulaic<0.6,>=0.2.4->pybids->sparc_me) (0.8.1)\n",
      "Requirement already satisfied: interface-meta>=1.2.0 in c:\\users\\mdan066\\documents\\sparc_codeathon\\2024-team-2\\venv_sparc310\\lib\\site-packages (from formulaic<0.6,>=0.2.4->pybids->sparc_me) (1.3.0)\n",
      "Requirement already satisfied: typing-extensions>=4.2.0 in c:\\users\\mdan066\\documents\\sparc_codeathon\\2024-team-2\\venv_sparc310\\lib\\site-packages (from formulaic<0.6,>=0.2.4->pybids->sparc_me) (4.12.2)\n",
      "Requirement already satisfied: wrapt>=1.0 in c:\\users\\mdan066\\documents\\sparc_codeathon\\2024-team-2\\venv_sparc310\\lib\\site-packages (from formulaic<0.6,>=0.2.4->pybids->sparc_me) (1.16.0)\n",
      "Requirement already satisfied: packaging>=17 in c:\\users\\mdan066\\documents\\sparc_codeathon\\2024-team-2\\venv_sparc310\\lib\\site-packages (from nibabel>=3.0->pybids->sparc_me) (23.0)\n",
      "Requirement already satisfied: docopt>=0.6.2 in c:\\users\\mdan066\\documents\\sparc_codeathon\\2024-team-2\\venv_sparc310\\lib\\site-packages (from num2words>=0.5.5->pybids->sparc_me) (0.6.2)\n",
      "Requirement already satisfied: six>=1.5 in c:\\users\\mdan066\\documents\\sparc_codeathon\\2024-team-2\\venv_sparc310\\lib\\site-packages (from python-dateutil>=2.8.2->pandas->sparc_me) (1.16.0)\n",
      "Requirement already satisfied: greenlet!=0.4.17 in c:\\users\\mdan066\\documents\\sparc_codeathon\\2024-team-2\\venv_sparc310\\lib\\site-packages (from sqlalchemy>=1.3.16->pybids->sparc_me) (3.0.3)\n",
      "Requirement already satisfied: fsspec>=2022.1.0 in c:\\users\\mdan066\\documents\\sparc_codeathon\\2024-team-2\\venv_sparc310\\lib\\site-packages (from universal-pathlib>=0.2.2->pybids->sparc_me) (2024.6.1)\n",
      "Requirement already satisfied: pyyaml in c:\\users\\mdan066\\documents\\sparc_codeathon\\2024-team-2\\venv_sparc310\\lib\\site-packages (from bidsschematools>=0.10->bids-validator>=1.11->pybids->sparc_me) (6.0.1)\n"
     ]
    },
    {
     "name": "stderr",
     "output_type": "stream",
     "text": [
      "\n",
      "[notice] A new release of pip is available: 23.2.1 -> 24.2\n",
      "[notice] To update, run: python.exe -m pip install --upgrade pip\n"
     ]
    },
    {
     "name": "stdout",
     "output_type": "stream",
     "text": [
      "Requirement already satisfied: sparc_flow in c:\\users\\mdan066\\documents\\sparc_codeathon\\2024-team-2\\venv_sparc310\\lib\\site-packages (1.0.2)\n",
      "Requirement already satisfied: scriptcwl>=0.8.1 in c:\\users\\mdan066\\documents\\sparc_codeathon\\2024-team-2\\venv_sparc310\\lib\\site-packages (from sparc_flow) (0.8.1)\n",
      "Requirement already satisfied: six in c:\\users\\mdan066\\documents\\sparc_codeathon\\2024-team-2\\venv_sparc310\\lib\\site-packages (from scriptcwl>=0.8.1->sparc_flow) (1.16.0)\n",
      "Requirement already satisfied: cwltool>=1.0.20170727112954 in c:\\users\\mdan066\\documents\\sparc_codeathon\\2024-team-2\\venv_sparc310\\lib\\site-packages (from scriptcwl>=0.8.1->sparc_flow) (3.1.20230201224320)\n",
      "Requirement already satisfied: click in c:\\users\\mdan066\\documents\\sparc_codeathon\\2024-team-2\\venv_sparc310\\lib\\site-packages (from scriptcwl>=0.8.1->sparc_flow) (8.1.7)\n",
      "Requirement already satisfied: setuptools in c:\\users\\mdan066\\documents\\sparc_codeathon\\2024-team-2\\venv_sparc310\\lib\\site-packages (from cwltool>=1.0.20170727112954->scriptcwl>=0.8.1->sparc_flow) (62.1.0)\n",
      "Requirement already satisfied: requests>=2.6.1 in c:\\users\\mdan066\\documents\\sparc_codeathon\\2024-team-2\\venv_sparc310\\lib\\site-packages (from cwltool>=1.0.20170727112954->scriptcwl>=0.8.1->sparc_flow) (2.28.2)\n",
      "Requirement already satisfied: ruamel.yaml<0.17.22,>=0.15 in c:\\users\\mdan066\\documents\\sparc_codeathon\\2024-team-2\\venv_sparc310\\lib\\site-packages (from cwltool>=1.0.20170727112954->scriptcwl>=0.8.1->sparc_flow) (0.17.21)\n",
      "Requirement already satisfied: rdflib<6.3.0,>=4.2.2 in c:\\users\\mdan066\\documents\\sparc_codeathon\\2024-team-2\\venv_sparc310\\lib\\site-packages (from cwltool>=1.0.20170727112954->scriptcwl>=0.8.1->sparc_flow) (6.2.0)\n",
      "Requirement already satisfied: shellescape<3.9,>=3.4.1 in c:\\users\\mdan066\\documents\\sparc_codeathon\\2024-team-2\\venv_sparc310\\lib\\site-packages (from cwltool>=1.0.20170727112954->scriptcwl>=0.8.1->sparc_flow) (3.8.1)\n",
      "Requirement already satisfied: schema-salad<9,>=8.4 in c:\\users\\mdan066\\documents\\sparc_codeathon\\2024-team-2\\venv_sparc310\\lib\\site-packages (from cwltool>=1.0.20170727112954->scriptcwl>=0.8.1->sparc_flow) (8.4.20230201194352)\n",
      "Requirement already satisfied: mypy-extensions in c:\\users\\mdan066\\documents\\sparc_codeathon\\2024-team-2\\venv_sparc310\\lib\\site-packages (from cwltool>=1.0.20170727112954->scriptcwl>=0.8.1->sparc_flow) (0.4.3)\n",
      "Requirement already satisfied: psutil>=5.6.6 in c:\\users\\mdan066\\documents\\sparc_codeathon\\2024-team-2\\venv_sparc310\\lib\\site-packages (from cwltool>=1.0.20170727112954->scriptcwl>=0.8.1->sparc_flow) (5.9.4)\n",
      "Requirement already satisfied: prov==1.5.1 in c:\\users\\mdan066\\documents\\sparc_codeathon\\2024-team-2\\venv_sparc310\\lib\\site-packages (from cwltool>=1.0.20170727112954->scriptcwl>=0.8.1->sparc_flow) (1.5.1)\n",
      "Requirement already satisfied: bagit>=1.6.4 in c:\\users\\mdan066\\documents\\sparc_codeathon\\2024-team-2\\venv_sparc310\\lib\\site-packages (from cwltool>=1.0.20170727112954->scriptcwl>=0.8.1->sparc_flow) (1.8.1)\n",
      "Requirement already satisfied: typing-extensions in c:\\users\\mdan066\\documents\\sparc_codeathon\\2024-team-2\\venv_sparc310\\lib\\site-packages (from cwltool>=1.0.20170727112954->scriptcwl>=0.8.1->sparc_flow) (4.12.2)\n",
      "Requirement already satisfied: coloredlogs in c:\\users\\mdan066\\documents\\sparc_codeathon\\2024-team-2\\venv_sparc310\\lib\\site-packages (from cwltool>=1.0.20170727112954->scriptcwl>=0.8.1->sparc_flow) (15.0.1)\n",
      "Requirement already satisfied: pydot>=1.4.1 in c:\\users\\mdan066\\documents\\sparc_codeathon\\2024-team-2\\venv_sparc310\\lib\\site-packages (from cwltool>=1.0.20170727112954->scriptcwl>=0.8.1->sparc_flow) (1.4.2)\n",
      "Requirement already satisfied: pyparsing!=3.0.2 in c:\\users\\mdan066\\documents\\sparc_codeathon\\2024-team-2\\venv_sparc310\\lib\\site-packages (from cwltool>=1.0.20170727112954->scriptcwl>=0.8.1->sparc_flow) (3.0.9)\n",
      "Requirement already satisfied: argcomplete in c:\\users\\mdan066\\documents\\sparc_codeathon\\2024-team-2\\venv_sparc310\\lib\\site-packages (from cwltool>=1.0.20170727112954->scriptcwl>=0.8.1->sparc_flow) (2.0.0)\n",
      "Requirement already satisfied: cwl-utils>=0.22 in c:\\users\\mdan066\\documents\\sparc_codeathon\\2024-team-2\\venv_sparc310\\lib\\site-packages (from cwltool>=1.0.20170727112954->scriptcwl>=0.8.1->sparc_flow) (0.23)\n",
      "Requirement already satisfied: lxml in c:\\users\\mdan066\\documents\\sparc_codeathon\\2024-team-2\\venv_sparc310\\lib\\site-packages (from prov==1.5.1->cwltool>=1.0.20170727112954->scriptcwl>=0.8.1->sparc_flow) (4.9.2)\n",
      "Requirement already satisfied: networkx in c:\\users\\mdan066\\documents\\sparc_codeathon\\2024-team-2\\venv_sparc310\\lib\\site-packages (from prov==1.5.1->cwltool>=1.0.20170727112954->scriptcwl>=0.8.1->sparc_flow) (3.0)\n",
      "Requirement already satisfied: python-dateutil in c:\\users\\mdan066\\documents\\sparc_codeathon\\2024-team-2\\venv_sparc310\\lib\\site-packages (from prov==1.5.1->cwltool>=1.0.20170727112954->scriptcwl>=0.8.1->sparc_flow) (2.8.2)\n",
      "Requirement already satisfied: colorama in c:\\users\\mdan066\\documents\\sparc_codeathon\\2024-team-2\\venv_sparc310\\lib\\site-packages (from click->scriptcwl>=0.8.1->sparc_flow) (0.4.6)\n",
      "Requirement already satisfied: cwl-upgrader>=1.2.3 in c:\\users\\mdan066\\documents\\sparc_codeathon\\2024-team-2\\venv_sparc310\\lib\\site-packages (from cwl-utils>=0.22->cwltool>=1.0.20170727112954->scriptcwl>=0.8.1->sparc_flow) (1.2.4)\n",
      "Requirement already satisfied: packaging in c:\\users\\mdan066\\documents\\sparc_codeathon\\2024-team-2\\venv_sparc310\\lib\\site-packages (from cwl-utils>=0.22->cwltool>=1.0.20170727112954->scriptcwl>=0.8.1->sparc_flow) (23.0)\n",
      "Requirement already satisfied: CacheControl in c:\\users\\mdan066\\documents\\sparc_codeathon\\2024-team-2\\venv_sparc310\\lib\\site-packages (from cwl-utils>=0.22->cwltool>=1.0.20170727112954->scriptcwl>=0.8.1->sparc_flow) (0.12.11)\n",
      "Requirement already satisfied: isodate in c:\\users\\mdan066\\documents\\sparc_codeathon\\2024-team-2\\venv_sparc310\\lib\\site-packages (from rdflib<6.3.0,>=4.2.2->cwltool>=1.0.20170727112954->scriptcwl>=0.8.1->sparc_flow) (0.6.1)\n",
      "Requirement already satisfied: charset-normalizer<4,>=2 in c:\\users\\mdan066\\documents\\sparc_codeathon\\2024-team-2\\venv_sparc310\\lib\\site-packages (from requests>=2.6.1->cwltool>=1.0.20170727112954->scriptcwl>=0.8.1->sparc_flow) (3.0.1)\n",
      "Requirement already satisfied: idna<4,>=2.5 in c:\\users\\mdan066\\documents\\sparc_codeathon\\2024-team-2\\venv_sparc310\\lib\\site-packages (from requests>=2.6.1->cwltool>=1.0.20170727112954->scriptcwl>=0.8.1->sparc_flow) (3.4)\n",
      "Requirement already satisfied: urllib3<1.27,>=1.21.1 in c:\\users\\mdan066\\documents\\sparc_codeathon\\2024-team-2\\venv_sparc310\\lib\\site-packages (from requests>=2.6.1->cwltool>=1.0.20170727112954->scriptcwl>=0.8.1->sparc_flow) (1.26.14)\n",
      "Requirement already satisfied: certifi>=2017.4.17 in c:\\users\\mdan066\\documents\\sparc_codeathon\\2024-team-2\\venv_sparc310\\lib\\site-packages (from requests>=2.6.1->cwltool>=1.0.20170727112954->scriptcwl>=0.8.1->sparc_flow) (2022.12.7)\n",
      "Requirement already satisfied: ruamel.yaml.clib>=0.2.6 in c:\\users\\mdan066\\documents\\sparc_codeathon\\2024-team-2\\venv_sparc310\\lib\\site-packages (from ruamel.yaml<0.17.22,>=0.15->cwltool>=1.0.20170727112954->scriptcwl>=0.8.1->sparc_flow) (0.2.7)\n",
      "Requirement already satisfied: mistune<2.1,>=2.0.3 in c:\\users\\mdan066\\documents\\sparc_codeathon\\2024-team-2\\venv_sparc310\\lib\\site-packages (from schema-salad<9,>=8.4->cwltool>=1.0.20170727112954->scriptcwl>=0.8.1->sparc_flow) (2.0.4)\n",
      "Requirement already satisfied: humanfriendly>=9.1 in c:\\users\\mdan066\\documents\\sparc_codeathon\\2024-team-2\\venv_sparc310\\lib\\site-packages (from coloredlogs->cwltool>=1.0.20170727112954->scriptcwl>=0.8.1->sparc_flow) (10.0)\n",
      "Requirement already satisfied: msgpack>=0.5.2 in c:\\users\\mdan066\\documents\\sparc_codeathon\\2024-team-2\\venv_sparc310\\lib\\site-packages (from CacheControl->cwl-utils>=0.22->cwltool>=1.0.20170727112954->scriptcwl>=0.8.1->sparc_flow) (1.0.4)\n",
      "Requirement already satisfied: lockfile>=0.9 in c:\\users\\mdan066\\documents\\sparc_codeathon\\2024-team-2\\venv_sparc310\\lib\\site-packages (from CacheControl->cwl-utils>=0.22->cwltool>=1.0.20170727112954->scriptcwl>=0.8.1->sparc_flow) (0.12.2)\n",
      "Requirement already satisfied: pyreadline3 in c:\\users\\mdan066\\documents\\sparc_codeathon\\2024-team-2\\venv_sparc310\\lib\\site-packages (from humanfriendly>=9.1->coloredlogs->cwltool>=1.0.20170727112954->scriptcwl>=0.8.1->sparc_flow) (3.4.1)\n"
     ]
    },
    {
     "name": "stderr",
     "output_type": "stream",
     "text": [
      "\n",
      "[notice] A new release of pip is available: 23.2.1 -> 24.2\n",
      "[notice] To update, run: python.exe -m pip install --upgrade pip\n"
     ]
    }
   ],
   "execution_count": 1
  },
  {
   "metadata": {},
   "cell_type": "markdown",
   "source": "## Example 1: extracting and annotating with tools",
   "id": "29130ddcc90c03a"
  },
  {
   "metadata": {},
   "cell_type": "markdown",
   "source": "### Step 1: Get dataset ID",
   "id": "a59e2faa79bd0145"
  },
  {
   "metadata": {},
   "cell_type": "markdown",
   "source": [
    "First, we must download a dataset from the SPARC portal. Two key pieces of information are needed:\n",
    "- Dataset ID\n",
    "- Dataset version ID\n",
    "\n",
    "These can be found on the dataset's page of the SPARC portal. We will use this [example dataset](https://sparc.science/datasets/262?type=dataset) for this tutorial.\n"
   ],
   "id": "9e648ce5cb278111"
  },
  {
   "metadata": {
    "ExecuteTime": {
     "end_time": "2024-08-12T03:58:41.086777Z",
     "start_time": "2024-08-12T03:58:41.062568Z"
    }
   },
   "cell_type": "code",
   "source": [
    "#   Dataset info\n",
    "datasetId = 262\n",
    "versionId = 1.1"
   ],
   "id": "b33ea49108df9e81",
   "outputs": [],
   "execution_count": 2
  },
  {
   "metadata": {},
   "cell_type": "markdown",
   "source": "### Step 2: Download the dataset",
   "id": "ec8d13af9ffb0aa8"
  },
  {
   "metadata": {},
   "cell_type": "markdown",
   "source": "We can either use the `sparc.python` [client](https://docs.sparc.science/docs/sparc-python-client) or the `sparc_me` [repository](https://github.com/SPARC-FAIR-Codeathon/sparc-me) to download a SDS dataset. Alternatively, you can manually download the dataset on the SPARC portal. ",
   "id": "4ca3d07585c2c84c"
  },
  {
   "metadata": {
    "ExecuteTime": {
     "end_time": "2024-08-12T03:58:43.724619Z",
     "start_time": "2024-08-12T03:58:41.088515Z"
    }
   },
   "cell_type": "code",
   "source": [
    "# Automatically download dataset from SPARC portal using their ID\n",
    "use_sparc_me = True\n",
    "\n",
    "if use_sparc_me:\n",
    "    from sparc_me import Dataset_Api\n",
    "    api_tools = Dataset_Api()\n",
    "    metadata = api_tools.get_metadata_pensieve(datasetId, versionId)\n",
    "    dataset = api_tools.get_dataset_latest_version_pensieve(262)\n",
    "    #api_tools.download_dataset(datasetId)\n",
    "\n",
    "else:\n",
    "    from sparc.client import SparcClient\n",
    "    client = SparcClient(connect=False, config_file='config.ini')\n",
    "    client.pennsieve.get(f'https://api.pennsieve.io/discover/datasets/{datasetId}/versions/{versionId}/files/browse')"
   ],
   "id": "8f04acc41b830a9e",
   "outputs": [
    {
     "name": "stdout",
     "output_type": "stream",
     "text": [
      "True\n"
     ]
    }
   ],
   "execution_count": 3
  },
  {
   "metadata": {},
   "cell_type": "markdown",
   "source": [
    "Note that Line 9 of the above code section was commented out, as the selected dataset is >29.63 GB!! \n",
    "\n",
    "For this tutorial's purpose, we downloaded the target subject data directly from the SPARC portal, processed the data and saved the outputs in a separate folder called *dataset*. "
   ],
   "id": "2bcc4fd7b3c46c47"
  },
  {
   "metadata": {},
   "cell_type": "markdown",
   "source": "With `sparc_me`, we can verify that the correct dataset has been downloaded by checking the name and id of dataset",
   "id": "cd18f589507321d2"
  },
  {
   "metadata": {
    "ExecuteTime": {
     "end_time": "2024-08-12T03:58:43.740032Z",
     "start_time": "2024-08-12T03:58:43.726241Z"
    }
   },
   "cell_type": "code",
   "source": "dataset[\"name\"], dataset[\"id\"]",
   "id": "ce83848b8389160",
   "outputs": [
    {
     "data": {
      "text/plain": [
       "('Electrode design characterization for electrophysiology from swine peripheral nervous system',\n",
       " 262)"
      ]
     },
     "execution_count": 4,
     "metadata": {},
     "output_type": "execute_result"
    }
   ],
   "execution_count": 4
  },
  {
   "metadata": {},
   "cell_type": "markdown",
   "source": "### Step 3: Extract tools and store in SDS using sparc-flow",
   "id": "8aca2cd1b90e51a8"
  },
  {
   "metadata": {},
   "cell_type": "markdown",
   "source": "",
   "id": "fc56b55a355b5aaf"
  },
  {
   "metadata": {},
   "cell_type": "markdown",
   "source": [
    "Here, we demonstrate the use of two tools applied on this dataset. The first tool extracts data from a dataset and outputs a file containing the measurements for the independent variable of the dataset. This becomes an input to the second tool which outputs a file containing measurements for the dependent variable. \n",
    "\n",
    "In this dataset, the dependent variable is the membrane voltage of the evoked compound action potentials stimulated by electrodes on the cervical vagus nerve of pigs.  These measurements were recorded over a certain period of time, which is our independent variable."
   ],
   "id": "f52ccdb0bc5c6325"
  },
  {
   "metadata": {},
   "cell_type": "markdown",
   "source": "### Source code",
   "id": "bff3882c3622ed7b"
  },
  {
   "metadata": {},
   "cell_type": "markdown",
   "source": "#### Tool 1",
   "id": "5f24953f6526a289"
  },
  {
   "metadata": {},
   "cell_type": "code",
   "outputs": [],
   "execution_count": null,
   "source": "import numpy as np",
   "id": "6be30f2ec0c89ab2"
  },
  {
   "metadata": {},
   "cell_type": "code",
   "source": [
    "#   Source code\n",
    "def extract_independent_variable_sds(datasetId, versionId, outputFile):\n",
    "    \"\"\"\n",
    "    This function extracts an array of measurements of the independent\n",
    "    variable quantity of a SDS dataset with a known Pensieve dataset ID,\n",
    "    and saves the array to a .txt file.\n",
    "\n",
    "    :param datasetId: SPARC dataset ID\n",
    "    :type datasetId: float\n",
    "    :param versionId: SPARC dataset version ID\n",
    "    :type versionId: float\n",
    "    :param outputFile: Output filename for .txt file\n",
    "    :type outputFile: str\n",
    "    \"\"\"\n",
    "\n",
    "    # Get dataset metadata from SPARC Portal\n",
    "    api_tools = Dataset_Api()\n",
    "    metadata = api_tools.get_metadata_pensieve(datasetId, versionId)\n",
    "\n",
    "    # Note we can download the dataset from SPARC using the sparc-me API using the line below\n",
    "    # api_tools.download_dataset(dataset[\"id\"])\n",
    "\n",
    "    # This is commented out as the dataset is >29.63 GB, we downloaded the target subject\n",
    "    # data directly from the SPARC portal, processed the data and saved the outputs.\n",
    "\n",
    "    # Independent variable quantity of dataset is time, and this was extracted from the dataset\n",
    "    x = [0.000000000000000000e+00,\n",
    "         8.191999999999999629e-04,\n",
    "         1.638399999999999926e-03,\n",
    "         2.457599999999999889e-03,\n",
    "         3.276799999999999852e-03,\n",
    "         4.095999999999999815e-03,\n",
    "         4.915199999999999778e-03,\n",
    "         5.734399999999999741e-03,\n",
    "         6.553599999999999703e-03,\n",
    "         7.372799999999999666e-03,\n",
    "         8.191999999999999629e-03,\n",
    "         9.011200000000000460e-03,\n",
    "         9.830399999999999555e-03,\n",
    "         1.064960000000000039e-02,\n",
    "         1.146879999999999948e-02,\n",
    "         1.228800000000000031e-02,\n",
    "         1.310719999999999941e-02,\n",
    "         1.392640000000000024e-02,\n",
    "         1.474559999999999933e-02,\n",
    "         1.556480000000000016e-02,\n",
    "         1.638399999999999926e-02,\n",
    "         1.720319999999999835e-02,\n",
    "         1.802240000000000092e-02,\n",
    "         1.884160000000000001e-02,\n",
    "         1.966079999999999911e-02,\n",
    "         2.048000000000000168e-02,\n",
    "         2.129920000000000077e-02,\n",
    "         2.211839999999999987e-02,\n",
    "         2.293759999999999896e-02,\n",
    "         2.375680000000000153e-02,\n",
    "         2.457600000000000062e-02,\n",
    "         2.539519999999999972e-02,\n",
    "         2.621439999999999881e-02,\n",
    "         2.703360000000000138e-02,\n",
    "         2.785280000000000047e-02,\n",
    "         2.867199999999999957e-02,\n",
    "         2.949119999999999867e-02,\n",
    "         3.031040000000000123e-02,\n",
    "         3.112960000000000033e-02,\n",
    "         3.194879999999999942e-02,\n",
    "         3.276799999999999852e-02,\n",
    "         3.358719999999999761e-02,\n",
    "         3.440639999999999671e-02,\n",
    "         3.522560000000000274e-02,\n",
    "         3.604480000000000184e-02,\n",
    "         3.686400000000000093e-02,\n",
    "         3.768320000000000003e-02,\n",
    "         3.850239999999999913e-02,\n",
    "         3.932159999999999822e-02]\n",
    "\n",
    "    #   Create output folder if not created\n",
    "    outputFolder = \"outputs\"\n",
    "    os.makedirs(outputFolder, exist_ok=True)\n",
    "\n",
    "    #   Store dependent variable measurements as .txt file\n",
    "    np.savetxt(os.path.join(outputFolder, fr\"{outputFile}\"),\n",
    "               np.array(x), delimiter=',')"
   ],
   "id": "2824582b543c7f21",
   "outputs": [],
   "execution_count": null
  },
  {
   "metadata": {},
   "cell_type": "markdown",
   "source": "We extract time measurements from the downloaded dataset, and saves it to a .txt file ",
   "id": "5e92a0d413da9e9"
  },
  {
   "metadata": {},
   "cell_type": "code",
   "outputs": [],
   "execution_count": null,
   "source": [
    "extract_independent_variable_sds(\n",
    "        datasetId=datasetId, versionId=versionId, outputFile='time.txt')"
   ],
   "id": "260635e3d2ef04c9"
  },
  {
   "metadata": {},
   "cell_type": "markdown",
   "source": "#### Tool 2",
   "id": "a7acbc17026e528d"
  },
  {
   "metadata": {},
   "cell_type": "code",
   "outputs": [],
   "execution_count": null,
   "source": "import os",
   "id": "15d56b3c060b8e70"
  },
  {
   "metadata": {},
   "cell_type": "code",
   "outputs": [],
   "execution_count": null,
   "source": [
    "#   Source code\n",
    "def extract_dependent_variable_sds(xFile, outputFile):\n",
    "    \"\"\"\n",
    "    This function extracts an array of the dependent variable measurements from a SDS dataset\n",
    "    at the specified independent variable measurements from tool_extract_indep_var_sds.py.\n",
    "\n",
    "    :param xFile: independent variable quantity measurements from dataset extracted from a .txt file\n",
    "    :type xFile: directory\n",
    "    :param outputFile: file path for saving dependent variable measurements from dataset\n",
    "    :type outputFile: string\n",
    "    \"\"\"\n",
    "\n",
    "    #   Load file\n",
    "    x = np.loadtxt(xFile, delimiter=',')\n",
    "\n",
    "    get_electrodes = False\n",
    "\n",
    "    #   Electrodes used to measure membrane voltage in each case\n",
    "    if get_electrodes:\n",
    "        electrodes = [\"Cuff 1\", \"Cuff 3\", \"LIFE 2\"]\n",
    "\n",
    "    #   Dependent variable quantity of dataset is membrane voltage obtained from different electrodes\n",
    "    #   at the specified time measurements (x). This information was extracted from the dataset.\n",
    "    y = [[-1.194679728397433872e-05,\n",
    "          -1.980733829726684289e-05,\n",
    "          -1.077133905927803561e-03,\n",
    "          -1.519773320369282514e-04,\n",
    "           4.358444211166163332e-05,\n",
    "           1.658965415525065864e-05,\n",
    "           2.398549602516097313e-06,\n",
    "          -1.332335275220263179e-06,\n",
    "           1.629816851936227506e-06,\n",
    "           4.550925948376061261e-07,\n",
    "          -2.440652094473894876e-07,\n",
    "          -1.256780047896774447e-07,\n",
    "          -1.604059700341167774e-07,\n",
    "          -1.366082574509440694e-07,\n",
    "           6.310354307689493841e-08,\n",
    "           1.457346526672138439e-08,\n",
    "          -1.628435072394222375e-07,\n",
    "          -6.812635356888434155e-09,\n",
    "           5.664900883157117720e-08,\n",
    "          -5.565218230427167767e-09,\n",
    "           2.460946088137883220e-07,\n",
    "           5.694319531931366159e-08,\n",
    "          -2.056334398814257176e-08,\n",
    "           1.748808934360601829e-07,\n",
    "           1.773989087065118717e-07,\n",
    "          -1.101112467177508824e-07,\n",
    "          -1.075328597482854415e-07,\n",
    "           3.386144369441476939e-08,\n",
    "           1.897932070755456980e-08,\n",
    "          -2.771581229295496183e-08,\n",
    "          -4.256350579346231629e-08,\n",
    "           2.369912349741317857e-07,\n",
    "           1.700902709291848032e-07,\n",
    "          -1.165152584466342702e-08,\n",
    "           2.526520739717943143e-08,\n",
    "           7.121820226943954045e-08,\n",
    "           7.056591199310062196e-09,\n",
    "          -5.769651171224500800e-08,\n",
    "           5.493674015745062083e-08,\n",
    "          -1.013383430345409753e-07,\n",
    "           9.970229271565001302e-08,\n",
    "          -3.204593418913237084e-07,\n",
    "          -4.325400556337169854e-07,\n",
    "          -6.636738552043014031e-07,\n",
    "          -9.158674234832865898e-07,\n",
    "          -1.763365287119160062e-06,\n",
    "          -2.739152133168838517e-06,\n",
    "          -4.476083953312462761e-06,\n",
    "          -7.542537164392824152e-06],\n",
    "         [-8.214201655775424599e-06,\n",
    "          -1.372845595816498555e-05,\n",
    "          -7.999020217967099580e-04,\n",
    "          -1.352363618910832938e-04,\n",
    "           3.092872602419839500e-05,\n",
    "           2.011895437284948941e-05,\n",
    "           9.557211317360985987e-06,\n",
    "          -3.820839410285373378e-06,\n",
    "          -6.232610444666107165e-07,\n",
    "           1.988794676647719403e-06,\n",
    "           1.798649238333572180e-07,\n",
    "          -6.153998549570629156e-08,\n",
    "          -2.280486447432810844e-08,\n",
    "           1.406398600829660458e-07,\n",
    "           2.274509841389832947e-07,\n",
    "           2.300306274820511094e-08,\n",
    "          -1.572653510349146469e-08,\n",
    "          -3.974936120421572610e-09,\n",
    "          -1.433040571137541349e-07,\n",
    "          -6.573999965324418493e-08,\n",
    "          -2.177186888257862627e-07,\n",
    "           8.583061039754071028e-08,\n",
    "           3.093779432661249251e-07,\n",
    "          -2.944427710333310390e-08,\n",
    "          -3.330317444469355433e-08,\n",
    "          -6.162516141635240061e-08,\n",
    "          -1.202485970381447797e-07,\n",
    "          -3.076161062497104022e-08,\n",
    "           2.313064439128372287e-10,\n",
    "           2.292993146737572915e-08,\n",
    "          -1.411246583126800866e-07,\n",
    "          -2.647507798588564735e-08,\n",
    "           3.457814694547747936e-08,\n",
    "           3.535925893357380257e-08,\n",
    "          -3.418105614165993230e-08,\n",
    "          -1.583688933718167217e-07,\n",
    "           1.012797271590110401e-07,\n",
    "           2.562090584582817896e-07,\n",
    "          -2.444895666644071396e-08,\n",
    "          -4.979131491438313074e-08,\n",
    "          -2.076604778027471311e-07,\n",
    "          -1.452476801605392218e-07,\n",
    "          -1.909545607780813125e-07,\n",
    "          -4.140272436638787089e-07,\n",
    "          -5.639934119954284032e-07,\n",
    "          -1.227500442716898632e-06,\n",
    "          -1.947706456334992766e-06,\n",
    "          -3.273951913389777314e-06,\n",
    "          -5.192352644414561846e-06],\n",
    "         [-1.462083138277712432e-06,\n",
    "          -2.622262173064377229e-06,\n",
    "          -7.534344594908582143e-04,\n",
    "           4.759606952424768331e-05,\n",
    "           9.223688791069610846e-06,\n",
    "           1.677105825408498600e-05,\n",
    "           2.933277337991895692e-06,\n",
    "           8.110282750876216604e-07,\n",
    "          -1.425914101175619564e-06,\n",
    "          -1.663120625907863012e-06,\n",
    "          -9.908095184916553125e-08,\n",
    "           2.624454673115753441e-07,\n",
    "          -1.624587473395667151e-07,\n",
    "           3.338108641988796370e-08,\n",
    "           4.483677957255745166e-08,\n",
    "          -2.272849655834033843e-08,\n",
    "           6.738530411162273816e-08,\n",
    "          -1.318730119721173922e-07,\n",
    "           2.174619084598256286e-08,\n",
    "          -2.635504384574270156e-08,\n",
    "          -2.126007975966536514e-07,\n",
    "          -1.018217795072811392e-07,\n",
    "          -1.916260472310982058e-08,\n",
    "          -6.106306355050666979e-08,\n",
    "          -9.495394166931023019e-09,\n",
    "          -3.854787158901162777e-09,\n",
    "          -1.056476775362339673e-07,\n",
    "           4.154432204662217048e-08,\n",
    "           5.605603793178550658e-08,\n",
    "          -7.432304252075775190e-08,\n",
    "          -8.398636677852381007e-08,\n",
    "          -1.854658209056216439e-07,\n",
    "          -8.286421105874349958e-08,\n",
    "          -1.424359400919484305e-07,\n",
    "          -2.010722883843532184e-07,\n",
    "           7.429247114041876855e-08,\n",
    "           6.948458981206337186e-08,\n",
    "          -1.446947117729709508e-07,\n",
    "          -5.107443403085964430e-08,\n",
    "           4.225381293752249147e-10,\n",
    "           6.443742709884127751e-08,\n",
    "           4.906226138658068876e-08,\n",
    "          -9.440736302779392982e-08,\n",
    "          -2.710204727223795743e-07,\n",
    "           1.652564732815241083e-09,\n",
    "          -8.563504499159779379e-08,\n",
    "          -4.766724708442070395e-07,\n",
    "          -7.328525557563466932e-07,\n",
    "          -8.203079358028723468e-07]]\n",
    "\n",
    "    #   Create output folder if not created\n",
    "    outputFolder = \"outputs\"\n",
    "    os.makedirs(outputFolder, exist_ok=True)\n",
    "\n",
    "    #   Store dependent variable measurements as .txt file\n",
    "    np.savetxt(os.path.join(outputFolder, fr\"{outputFile}\"),\n",
    "               np.array(y).T, delimiter=',')"
   ],
   "id": "b709385a24ef8687"
  },
  {
   "metadata": {},
   "cell_type": "markdown",
   "source": "This tool takes in the time measurements and extracts the membrane voltage measurements at the provided time points. We then save the membrane voltage measurements to a .txt file. ",
   "id": "e430c90f8c64639a"
  },
  {
   "metadata": {},
   "cell_type": "code",
   "outputs": [],
   "execution_count": null,
   "source": "extract_dependent_variable_sds(xFile='voltage.txt')",
   "id": "42e4bec7fec4a62b"
  },
  {
   "metadata": {},
   "cell_type": "markdown",
   "source": "### Tool description in CWL",
   "id": "1a0969e36f567185"
  },
  {
   "metadata": {},
   "cell_type": "markdown",
   "source": [
    "To ensure these tool can be executed reproducibly across different operating systems and environments, we create a CWL file that describes the tools in a standardised manner. \n",
    "\n",
    "We can create CWL files by saving the tools' inputs, outputs and descriptions in a json file, which is then used to create a cwl file along the SDS dataset structure. "
   ],
   "id": "4ceffa6e09335deb"
  },
  {
   "metadata": {},
   "cell_type": "code",
   "source": [
    "# Tool description in CWL (show what the manually made looks like, where it is)\n",
    "# Option 1: Hard-code the cwl file\n",
    "# Option 2: Store the tools' inputs, outputs and descriptions in json file, then use to create a cwl file along the SDS dataset structure"
   ],
   "id": "4ccaa72ae9cf77c8",
   "outputs": [],
   "execution_count": null
  },
  {
   "metadata": {},
   "cell_type": "code",
   "outputs": [],
   "execution_count": null,
   "source": [
    "tool1_method = {\n",
    "    \"Operation\": \"tool_extract_indep_var_sds\",\n",
    "    \"comment\": \"gets SDS dataset, retrieves and saves independent variable measurements\",\n",
    "    \"Input\": [\n",
    "        {\"datasetId\": {\n",
    "            \"type\": \"float\"\n",
    "        }},\n",
    "        {\"Version ID\": {\n",
    "         \"type\": \"float\"\n",
    "        }},\n",
    "        {\"outputFile\": {\n",
    "            \"type\": \"string\"\n",
    "        }}\n",
    "    ],\n",
    "    \"Output\": [\n",
    "        {\"xFile\": {\n",
    "            \"type\": \"File\"\n",
    "        }}\n",
    "    ],\n",
    "    \"cwl\": \"tool_extract_indep_var_sds.cwl\"\n",
    "}\n"
   ],
   "id": "d7d385b18cc4c646"
  },
  {
   "metadata": {},
   "cell_type": "code",
   "outputs": [],
   "execution_count": null,
   "source": [
    "tool2_method = {\n",
    "    \"Operation\": \"tool_extract_dep_var_sds\",\n",
    "    \"comment\": \"retrieves and saves dependent variable quantities measured at the corresponding independent variable measurements\",\n",
    "    \"Input\": [\n",
    "        {\"xFile\": {\n",
    "            \"type\": \"File\"\n",
    "        }},\n",
    "        {\"outputFile\": {\n",
    "            \"type\": \"File\"\n",
    "        }}\n",
    "    ],\n",
    "    \"Output\": [\n",
    "        {\"yFile\": {\n",
    "            \"type\": \"File\"\n",
    "        }}\n",
    "    ],\n",
    "    \"cwl\": \"tool_extract_dep_var_sds.cwl\"\n",
    "}"
   ],
   "id": "1261f956114974d"
  },
  {
   "metadata": {
    "ExecuteTime": {
     "end_time": "2024-08-12T04:00:15.744339Z",
     "start_time": "2024-08-12T04:00:15.217746Z"
    }
   },
   "cell_type": "code",
   "source": [
    "# Save tool 1 in SDS with sparc-flow\n",
    "import sparc_flow\n",
    "new_tool = sparc_flow.Tool()\n",
    "new_tool.set_tool_name(\"extract_indep_var_sds\")\n",
    "new_tool.set_tool_dir(\".\")\n",
    "new_tool.set_command([\"python\", \"-m\", \"test_tool\"])\n",
    "new_tool.set_input_type(\"int\")\n",
    "new_tool.set_output_type(\"File\")\n",
    "new_tool.set_output_path(\"test.txt\")\n",
    "new_tool.generate_description() \n",
    "new_tool.create_sds(\"../resources/tutorial_1_resources/tools_dataset\", \"tools/\")\n",
    "\n",
    "\n",
    "# add json methods to a SDS that is made (manually move/save this with json dump hahaha)"
   ],
   "id": "1a941917e8ba353e",
   "outputs": [
    {
     "ename": "AttributeError",
     "evalue": "'OpenpyxlWriter' object has no attribute 'save'",
     "output_type": "error",
     "traceback": [
      "\u001B[1;31m---------------------------------------------------------------------------\u001B[0m",
      "\u001B[1;31mAttributeError\u001B[0m                            Traceback (most recent call last)",
      "Cell \u001B[1;32mIn[8], line 11\u001B[0m\n\u001B[0;32m      9\u001B[0m new_tool\u001B[38;5;241m.\u001B[39mset_output_path(\u001B[38;5;124m\"\u001B[39m\u001B[38;5;124mtest.txt\u001B[39m\u001B[38;5;124m\"\u001B[39m)\n\u001B[0;32m     10\u001B[0m new_tool\u001B[38;5;241m.\u001B[39mgenerate_description() \n\u001B[1;32m---> 11\u001B[0m \u001B[43mnew_tool\u001B[49m\u001B[38;5;241;43m.\u001B[39;49m\u001B[43mcreate_sds\u001B[49m\u001B[43m(\u001B[49m\u001B[38;5;124;43m\"\u001B[39;49m\u001B[38;5;124;43m../resources/tutorial_1_resources/tools_dataset\u001B[39;49m\u001B[38;5;124;43m\"\u001B[39;49m\u001B[43m,\u001B[49m\u001B[43m \u001B[49m\u001B[38;5;124;43m\"\u001B[39;49m\u001B[38;5;124;43mtools/\u001B[39;49m\u001B[38;5;124;43m\"\u001B[39;49m\u001B[43m)\u001B[49m\n",
      "File \u001B[1;32m~\\Documents\\sparc_codeathon\\2024-team-2\\venv_sparc310\\lib\\site-packages\\sparc_flow\\core\\workflow.py:293\u001B[0m, in \u001B[0;36mTool.create_sds\u001B[1;34m(self, path, source)\u001B[0m\n\u001B[0;32m    291\u001B[0m save_dir\u001B[38;5;241m=\u001B[39m path\n\u001B[0;32m    292\u001B[0m dataset_tool\u001B[38;5;241m.\u001B[39mset_dataset_path(save_dir)\n\u001B[1;32m--> 293\u001B[0m \u001B[43mdataset_tool\u001B[49m\u001B[38;5;241;43m.\u001B[39;49m\u001B[43msave\u001B[49m\u001B[43m(\u001B[49m\u001B[43msave_dir\u001B[49m\u001B[43m)\u001B[49m\n\u001B[0;32m    294\u001B[0m shutil\u001B[38;5;241m.\u001B[39mcopytree(source, \u001B[38;5;124mf\u001B[39m\u001B[38;5;124m'\u001B[39m\u001B[38;5;132;01m{\u001B[39;00mpath\u001B[38;5;132;01m}\u001B[39;00m\u001B[38;5;124m/primary/tools\u001B[39m\u001B[38;5;124m'\u001B[39m)\n",
      "File \u001B[1;32m~\\Documents\\sparc_codeathon\\2024-team-2\\venv_sparc310\\lib\\site-packages\\sparc_me\\core\\dataset.py:260\u001B[0m, in \u001B[0;36mDataset.save\u001B[1;34m(self, save_dir, remove_empty)\u001B[0m\n\u001B[0;32m    258\u001B[0m         writer \u001B[38;5;241m=\u001B[39m StyleFrame\u001B[38;5;241m.\u001B[39mExcelWriter(Path\u001B[38;5;241m.\u001B[39mjoinpath(save_dir, filename))\n\u001B[0;32m    259\u001B[0m         sf\u001B[38;5;241m.\u001B[39mto_excel(writer)\n\u001B[1;32m--> 260\u001B[0m         \u001B[43mwriter\u001B[49m\u001B[38;5;241;43m.\u001B[39;49m\u001B[43msave\u001B[49m()\n\u001B[0;32m    262\u001B[0m \u001B[38;5;28;01melif\u001B[39;00m Path(value)\u001B[38;5;241m.\u001B[39mis_dir():\n\u001B[0;32m    263\u001B[0m     dir_name \u001B[38;5;241m=\u001B[39m Path(value)\u001B[38;5;241m.\u001B[39mname\n",
      "\u001B[1;31mAttributeError\u001B[0m: 'OpenpyxlWriter' object has no attribute 'save'"
     ]
    }
   ],
   "execution_count": 8
  },
  {
   "metadata": {},
   "cell_type": "markdown",
   "source": "## Example 2: Preparing models (already in SDS)",
   "id": "16f93b5b7e771e28"
  },
  {
   "metadata": {},
   "cell_type": "code",
   "source": [
    "## Requirements\n",
    "!pip install sparc_me\n",
    "!pip install pyeCAP"
   ],
   "id": "da952310d6a89e1d",
   "outputs": [],
   "execution_count": null
  }
 ],
 "metadata": {
  "kernelspec": {
   "display_name": "Python 3 (ipykernel)",
   "language": "python",
   "name": "python3"
  },
  "language_info": {
   "codemirror_mode": {
    "name": "ipython",
    "version": 3
   },
   "file_extension": ".py",
   "mimetype": "text/x-python",
   "name": "python",
   "nbconvert_exporter": "python",
   "pygments_lexer": "ipython3",
   "version": "3.9.16"
  }
 },
 "nbformat": 4,
 "nbformat_minor": 5
}
