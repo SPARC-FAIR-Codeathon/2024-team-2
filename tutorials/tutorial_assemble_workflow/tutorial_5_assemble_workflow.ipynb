{
 "cells": [
  {
   "cell_type": "markdown",
   "id": "733e0512b2926dfd",
   "metadata": {},
   "source": [
    "# Tutorial 5: Assembling a workflow automatically\n",
    "This tutorial shows how, given a specific request, sparc-assemble can automatically retrieve all the possible workflows that can be used to generate the desired output. The user can then select the most appropriate workflow for their needs. The chosen workflow is saved in the cwl format. "
   ]
  },
  {
   "cell_type": "markdown",
   "id": "466d223649b669d7",
   "metadata": {
    "collapsed": false
   },
   "source": [
    "## Prerequisites\n",
    "A populated knowledge graph is required to assemble workflows. Please see tutorial 2.\n",
    "Moreover, in order to provide a cwl description of the workflow, each tool should have a cwl file associated with it. For ease, having both json and cwl file in a '/tools' folder can be helpful. Please see tutorial 1 for more details. "
   ]
  },
  {
   "cell_type": "markdown",
   "source": [
    "## Note\n",
    "This code requires user interaction through python prompting. This feature is not compatible with the use of jupyter notebook. Hence, the user is required to run the command in a terminal (file -> new -> terminal). The different steps are detailed below through screenshots. "
   ],
   "metadata": {
    "collapsed": false
   },
   "id": "476ebb6175b66e05"
  },
  {
   "cell_type": "markdown",
   "id": "330b2564356ddc81",
   "metadata": {},
   "source": [
    "\n",
    "## Terminal command lines"
   ]
  },
  {
   "cell_type": "markdown",
   "source": [
    "First, install the requirements. You only need to install sparc-assemble package in the terminal:"
   ],
   "metadata": {
    "collapsed": false
   },
   "id": "2095ae2a3c223399"
  },
  {
   "cell_type": "code",
   "execution_count": 6,
   "id": "4b6dccd7",
   "metadata": {
    "ExecuteTime": {
     "end_time": "2024-08-12T03:32:05.092015Z",
     "start_time": "2024-08-12T03:32:05.066603200Z"
    }
   },
   "outputs": [
    {
     "ename": "ImportError",
     "evalue": "cannot import name 'Assembler' from 'sparc_assemble' (C:\\Users\\mver587\\Documents\\Code\\2024-team-2\\sparc_assemble\\__init__.py)",
     "output_type": "error",
     "traceback": [
      "\u001B[1;31m---------------------------------------------------------------------------\u001B[0m",
      "\u001B[1;31mImportError\u001B[0m                               Traceback (most recent call last)",
      "Cell \u001B[1;32mIn[6], line 3\u001B[0m\n\u001B[0;32m      1\u001B[0m \u001B[38;5;28;01mimport\u001B[39;00m \u001B[38;5;21;01margparse\u001B[39;00m\n\u001B[1;32m----> 3\u001B[0m \u001B[38;5;28;01mfrom\u001B[39;00m \u001B[38;5;21;01msparc_assemble\u001B[39;00m \u001B[38;5;28;01mimport\u001B[39;00m Assembler\n",
      "\u001B[1;31mImportError\u001B[0m: cannot import name 'Assembler' from 'sparc_assemble' (C:\\Users\\mver587\\Documents\\Code\\2024-team-2\\sparc_assemble\\__init__.py)"
     ]
    }
   ],
   "source": [
    "pip install sparc-assemble"
   ]
  },
  {
   "cell_type": "markdown",
   "source": [
    "Then, navigate to the assemble workflow example folder:"
   ],
   "metadata": {
    "collapsed": false
   },
   "id": "cee52d3465bc52a7"
  },
  {
   "cell_type": "code",
   "outputs": [],
   "source": [
    "cd examples/example_assemble_workflow"
   ],
   "metadata": {
    "collapsed": false
   },
   "id": "c41ec83ee13d12d8"
  },
  {
   "cell_type": "markdown",
   "id": "ae01bd43",
   "metadata": {},
   "source": [
    "Finally, run the script:"
   ]
  },
  {
   "cell_type": "code",
   "execution_count": null,
   "id": "edd0c162",
   "metadata": {
    "scrolled": true
   },
   "outputs": [],
   "source": [
    "python assemble_workflow.py --KG_path <path_to_your_knowledge_graph>"
   ]
  },
  {
   "cell_type": "markdown",
   "source": [
    "The only argument required is KG_path which is the path to your knowledge graph owl file. Bear in mind that you are running the script from examples/example_assemble_workflow ."
   ],
   "metadata": {
    "collapsed": false
   },
   "id": "96c96c8261a5f578"
  },
  {
   "cell_type": "markdown",
   "source": [],
   "metadata": {
    "collapsed": false
   },
   "id": "c5d020732d98d2cc"
  },
  {
   "cell_type": "markdown",
   "source": [
    "## Running the workflow\n",
    "Your workflow is now saved in the SDS format. To run it, have a look at tutorial 7."
   ],
   "metadata": {
    "collapsed": false
   },
   "id": "86d67243a8313660"
  }
 ],
 "metadata": {
  "kernelspec": {
   "name": "python3",
   "language": "python",
   "display_name": "Python 3 (ipykernel)"
  },
  "language_info": {
   "codemirror_mode": {
    "name": "ipython",
    "version": 3
   },
   "file_extension": ".py",
   "mimetype": "text/x-python",
   "name": "python",
   "nbconvert_exporter": "python",
   "pygments_lexer": "ipython3",
   "version": "3.11.5"
  }
 },
 "nbformat": 4,
 "nbformat_minor": 5
}
