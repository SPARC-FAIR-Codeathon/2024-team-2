{
 "cells": [
  {
   "cell_type": "markdown",
   "id": "733e0512b2926dfd",
   "metadata": {},
   "source": [
    "# Tutorial 5: Assembling a workflow automatically\n",
    "This tutorial shows how, given a specific request, sparc-assemble can automatically retrieve all the possible workflows that can be used to generate the desired output. The user can then select the most appropriate workflow for their needs. The chosen workflow is saved in the cwl format. \n"
   ]
  },
  {
   "cell_type": "markdown",
   "id": "d797d7092e2a374a",
   "metadata": {},
   "source": [
    "\n",
    "## Requirements"
   ]
  },
  {
   "cell_type": "code",
   "execution_count": 1,
   "id": "4c84eada5960103b",
   "metadata": {
    "ExecuteTime": {
     "end_time": "2024-08-12T03:13:09.619028400Z",
     "start_time": "2024-08-12T03:13:05.470294700Z"
    }
   },
   "outputs": [
    {
     "name": "stdout",
     "output_type": "stream",
     "text": [
      "Requirement already satisfied: sparc-assemble in c:\\programdata\\anaconda3\\envs\\sparc\\lib\\site-packages (0.1.1)\n",
      "Requirement already satisfied: owlready2 in c:\\programdata\\anaconda3\\envs\\sparc\\lib\\site-packages (from sparc-assemble) (0.46)\n",
      "Requirement already satisfied: scriptcwl in c:\\programdata\\anaconda3\\envs\\sparc\\lib\\site-packages (from sparc-assemble) (0.8.1)\n",
      "Requirement already satisfied: ruamel.yaml in c:\\programdata\\anaconda3\\envs\\sparc\\lib\\site-packages (from sparc-assemble) (0.18.6)\n",
      "Requirement already satisfied: thefuzz in c:\\programdata\\anaconda3\\envs\\sparc\\lib\\site-packages (from sparc-assemble) (0.22.1)\n",
      "Requirement already satisfied: spacy in c:\\programdata\\anaconda3\\envs\\sparc\\lib\\site-packages (from sparc-assemble) (3.7.5)\n",
      "Requirement already satisfied: torch==2.3.0 in c:\\programdata\\anaconda3\\envs\\sparc\\lib\\site-packages (from sparc-assemble) (2.3.0)\n",
      "Requirement already satisfied: sentence-transformers in c:\\programdata\\anaconda3\\envs\\sparc\\lib\\site-packages (from sparc-assemble) (3.0.1)\n",
      "Requirement already satisfied: filelock in c:\\programdata\\anaconda3\\envs\\sparc\\lib\\site-packages (from torch==2.3.0->sparc-assemble) (3.15.4)\n",
      "Requirement already satisfied: typing-extensions>=4.8.0 in c:\\programdata\\anaconda3\\envs\\sparc\\lib\\site-packages (from torch==2.3.0->sparc-assemble) (4.12.2)\n",
      "Requirement already satisfied: sympy in c:\\programdata\\anaconda3\\envs\\sparc\\lib\\site-packages (from torch==2.3.0->sparc-assemble) (1.13.1)\n",
      "Requirement already satisfied: networkx in c:\\programdata\\anaconda3\\envs\\sparc\\lib\\site-packages (from torch==2.3.0->sparc-assemble) (3.3)\n",
      "Requirement already satisfied: jinja2 in c:\\programdata\\anaconda3\\envs\\sparc\\lib\\site-packages (from torch==2.3.0->sparc-assemble) (3.1.4)\n",
      "Requirement already satisfied: fsspec in c:\\programdata\\anaconda3\\envs\\sparc\\lib\\site-packages (from torch==2.3.0->sparc-assemble) (2024.6.1)\n",
      "Requirement already satisfied: mkl<=2021.4.0,>=2021.1.1 in c:\\programdata\\anaconda3\\envs\\sparc\\lib\\site-packages (from torch==2.3.0->sparc-assemble) (2021.4.0)\n",
      "Requirement already satisfied: ruamel.yaml.clib>=0.2.7 in c:\\programdata\\anaconda3\\envs\\sparc\\lib\\site-packages (from ruamel.yaml->sparc-assemble) (0.2.8)\n",
      "Requirement already satisfied: six in c:\\programdata\\anaconda3\\envs\\sparc\\lib\\site-packages (from scriptcwl->sparc-assemble) (1.16.0)\n",
      "Requirement already satisfied: cwltool>=1.0.20170727112954 in c:\\programdata\\anaconda3\\envs\\sparc\\lib\\site-packages (from scriptcwl->sparc-assemble) (3.1.20240708091337)\n",
      "Requirement already satisfied: click in c:\\programdata\\anaconda3\\envs\\sparc\\lib\\site-packages (from scriptcwl->sparc-assemble) (8.1.7)\n",
      "Requirement already satisfied: transformers<5.0.0,>=4.34.0 in c:\\programdata\\anaconda3\\envs\\sparc\\lib\\site-packages (from sentence-transformers->sparc-assemble) (4.44.0)\n",
      "Requirement already satisfied: tqdm in c:\\programdata\\anaconda3\\envs\\sparc\\lib\\site-packages (from sentence-transformers->sparc-assemble) (4.66.5)\n",
      "Requirement already satisfied: numpy in c:\\programdata\\anaconda3\\envs\\sparc\\lib\\site-packages (from sentence-transformers->sparc-assemble) (1.26.4)\n",
      "Requirement already satisfied: scikit-learn in c:\\programdata\\anaconda3\\envs\\sparc\\lib\\site-packages (from sentence-transformers->sparc-assemble) (1.5.1)\n",
      "Requirement already satisfied: scipy in c:\\programdata\\anaconda3\\envs\\sparc\\lib\\site-packages (from sentence-transformers->sparc-assemble) (1.14.0)\n",
      "Requirement already satisfied: huggingface-hub>=0.15.1 in c:\\programdata\\anaconda3\\envs\\sparc\\lib\\site-packages (from sentence-transformers->sparc-assemble) (0.24.5)\n",
      "Requirement already satisfied: Pillow in c:\\programdata\\anaconda3\\envs\\sparc\\lib\\site-packages (from sentence-transformers->sparc-assemble) (10.4.0)\n",
      "Requirement already satisfied: spacy-legacy<3.1.0,>=3.0.11 in c:\\programdata\\anaconda3\\envs\\sparc\\lib\\site-packages (from spacy->sparc-assemble) (3.0.12)\n",
      "Requirement already satisfied: spacy-loggers<2.0.0,>=1.0.0 in c:\\programdata\\anaconda3\\envs\\sparc\\lib\\site-packages (from spacy->sparc-assemble) (1.0.5)\n",
      "Requirement already satisfied: murmurhash<1.1.0,>=0.28.0 in c:\\programdata\\anaconda3\\envs\\sparc\\lib\\site-packages (from spacy->sparc-assemble) (1.0.10)\n",
      "Requirement already satisfied: cymem<2.1.0,>=2.0.2 in c:\\programdata\\anaconda3\\envs\\sparc\\lib\\site-packages (from spacy->sparc-assemble) (2.0.8)\n",
      "Requirement already satisfied: preshed<3.1.0,>=3.0.2 in c:\\programdata\\anaconda3\\envs\\sparc\\lib\\site-packages (from spacy->sparc-assemble) (3.0.9)\n",
      "Requirement already satisfied: thinc<8.3.0,>=8.2.2 in c:\\programdata\\anaconda3\\envs\\sparc\\lib\\site-packages (from spacy->sparc-assemble) (8.2.5)\n",
      "Requirement already satisfied: wasabi<1.2.0,>=0.9.1 in c:\\programdata\\anaconda3\\envs\\sparc\\lib\\site-packages (from spacy->sparc-assemble) (1.1.3)\n",
      "Requirement already satisfied: srsly<3.0.0,>=2.4.3 in c:\\programdata\\anaconda3\\envs\\sparc\\lib\\site-packages (from spacy->sparc-assemble) (2.4.8)\n",
      "Requirement already satisfied: catalogue<2.1.0,>=2.0.6 in c:\\programdata\\anaconda3\\envs\\sparc\\lib\\site-packages (from spacy->sparc-assemble) (2.0.10)\n",
      "Requirement already satisfied: weasel<0.5.0,>=0.1.0 in c:\\programdata\\anaconda3\\envs\\sparc\\lib\\site-packages (from spacy->sparc-assemble) (0.4.1)\n",
      "Requirement already satisfied: typer<1.0.0,>=0.3.0 in c:\\programdata\\anaconda3\\envs\\sparc\\lib\\site-packages (from spacy->sparc-assemble) (0.12.3)\n",
      "Requirement already satisfied: requests<3.0.0,>=2.13.0 in c:\\programdata\\anaconda3\\envs\\sparc\\lib\\site-packages (from spacy->sparc-assemble) (2.32.3)\n",
      "Requirement already satisfied: pydantic!=1.8,!=1.8.1,<3.0.0,>=1.7.4 in c:\\programdata\\anaconda3\\envs\\sparc\\lib\\site-packages (from spacy->sparc-assemble) (2.8.2)\n",
      "Requirement already satisfied: setuptools in c:\\programdata\\anaconda3\\envs\\sparc\\lib\\site-packages (from spacy->sparc-assemble) (72.1.0)\n",
      "Requirement already satisfied: packaging>=20.0 in c:\\programdata\\anaconda3\\envs\\sparc\\lib\\site-packages (from spacy->sparc-assemble) (24.1)\n",
      "Requirement already satisfied: langcodes<4.0.0,>=3.2.0 in c:\\programdata\\anaconda3\\envs\\sparc\\lib\\site-packages (from spacy->sparc-assemble) (3.4.0)\n",
      "Requirement already satisfied: rapidfuzz<4.0.0,>=3.0.0 in c:\\programdata\\anaconda3\\envs\\sparc\\lib\\site-packages (from thefuzz->sparc-assemble) (3.9.6)\n",
      "Requirement already satisfied: rdflib<7.1.0,>=4.2.2 in c:\\programdata\\anaconda3\\envs\\sparc\\lib\\site-packages (from cwltool>=1.0.20170727112954->scriptcwl->sparc-assemble) (7.0.0)\n",
      "Requirement already satisfied: shellescape<3.9,>=3.4.1 in c:\\programdata\\anaconda3\\envs\\sparc\\lib\\site-packages (from cwltool>=1.0.20170727112954->scriptcwl->sparc-assemble) (3.8.1)\n",
      "Requirement already satisfied: schema-salad<9,>=8.4.20230426093816 in c:\\programdata\\anaconda3\\envs\\sparc\\lib\\site-packages (from cwltool>=1.0.20170727112954->scriptcwl->sparc-assemble) (8.7.20240718183047)\n",
      "Requirement already satisfied: prov==1.5.1 in c:\\programdata\\anaconda3\\envs\\sparc\\lib\\site-packages (from cwltool>=1.0.20170727112954->scriptcwl->sparc-assemble) (1.5.1)\n",
      "Requirement already satisfied: mypy-extensions in c:\\programdata\\anaconda3\\envs\\sparc\\lib\\site-packages (from cwltool>=1.0.20170727112954->scriptcwl->sparc-assemble) (1.0.0)\n",
      "Requirement already satisfied: psutil>=5.6.6 in c:\\programdata\\anaconda3\\envs\\sparc\\lib\\site-packages (from cwltool>=1.0.20170727112954->scriptcwl->sparc-assemble) (6.0.0)\n",
      "Requirement already satisfied: coloredlogs in c:\\programdata\\anaconda3\\envs\\sparc\\lib\\site-packages (from cwltool>=1.0.20170727112954->scriptcwl->sparc-assemble) (15.0.1)\n",
      "Requirement already satisfied: pydot>=1.4.1 in c:\\programdata\\anaconda3\\envs\\sparc\\lib\\site-packages (from cwltool>=1.0.20170727112954->scriptcwl->sparc-assemble) (3.0.1)\n",
      "Requirement already satisfied: argcomplete in c:\\programdata\\anaconda3\\envs\\sparc\\lib\\site-packages (from cwltool>=1.0.20170727112954->scriptcwl->sparc-assemble) (3.5.0)\n",
      "Requirement already satisfied: pyparsing!=3.0.2 in c:\\programdata\\anaconda3\\envs\\sparc\\lib\\site-packages (from cwltool>=1.0.20170727112954->scriptcwl->sparc-assemble) (3.1.2)\n",
      "Requirement already satisfied: cwl-utils>=0.32 in c:\\programdata\\anaconda3\\envs\\sparc\\lib\\site-packages (from cwltool>=1.0.20170727112954->scriptcwl->sparc-assemble) (0.33)\n",
      "Requirement already satisfied: spython>=0.3.0 in c:\\programdata\\anaconda3\\envs\\sparc\\lib\\site-packages (from cwltool>=1.0.20170727112954->scriptcwl->sparc-assemble) (0.3.13)\n",
      "Requirement already satisfied: lxml in c:\\programdata\\anaconda3\\envs\\sparc\\lib\\site-packages (from prov==1.5.1->cwltool>=1.0.20170727112954->scriptcwl->sparc-assemble) (5.3.0)\n",
      "Requirement already satisfied: python-dateutil in c:\\programdata\\anaconda3\\envs\\sparc\\lib\\site-packages (from prov==1.5.1->cwltool>=1.0.20170727112954->scriptcwl->sparc-assemble) (2.9.0.post0)\n",
      "Requirement already satisfied: pyyaml>=5.1 in c:\\programdata\\anaconda3\\envs\\sparc\\lib\\site-packages (from huggingface-hub>=0.15.1->sentence-transformers->sparc-assemble) (6.0.2)\n",
      "Requirement already satisfied: language-data>=1.2 in c:\\programdata\\anaconda3\\envs\\sparc\\lib\\site-packages (from langcodes<4.0.0,>=3.2.0->spacy->sparc-assemble) (1.2.0)\n",
      "Requirement already satisfied: intel-openmp==2021.* in c:\\programdata\\anaconda3\\envs\\sparc\\lib\\site-packages (from mkl<=2021.4.0,>=2021.1.1->torch==2.3.0->sparc-assemble) (2021.4.0)\n",
      "Requirement already satisfied: tbb==2021.* in c:\\programdata\\anaconda3\\envs\\sparc\\lib\\site-packages (from mkl<=2021.4.0,>=2021.1.1->torch==2.3.0->sparc-assemble) (2021.13.1)\n",
      "Requirement already satisfied: annotated-types>=0.4.0 in c:\\programdata\\anaconda3\\envs\\sparc\\lib\\site-packages (from pydantic!=1.8,!=1.8.1,<3.0.0,>=1.7.4->spacy->sparc-assemble) (0.7.0)\n",
      "Requirement already satisfied: pydantic-core==2.20.1 in c:\\programdata\\anaconda3\\envs\\sparc\\lib\\site-packages (from pydantic!=1.8,!=1.8.1,<3.0.0,>=1.7.4->spacy->sparc-assemble) (2.20.1)\n",
      "Requirement already satisfied: charset-normalizer<4,>=2 in c:\\programdata\\anaconda3\\envs\\sparc\\lib\\site-packages (from requests<3.0.0,>=2.13.0->spacy->sparc-assemble) (3.3.2)\n",
      "Requirement already satisfied: idna<4,>=2.5 in c:\\programdata\\anaconda3\\envs\\sparc\\lib\\site-packages (from requests<3.0.0,>=2.13.0->spacy->sparc-assemble) (3.7)\n",
      "Requirement already satisfied: urllib3<3,>=1.21.1 in c:\\programdata\\anaconda3\\envs\\sparc\\lib\\site-packages (from requests<3.0.0,>=2.13.0->spacy->sparc-assemble) (2.2.2)\n",
      "Requirement already satisfied: certifi>=2017.4.17 in c:\\programdata\\anaconda3\\envs\\sparc\\lib\\site-packages (from requests<3.0.0,>=2.13.0->spacy->sparc-assemble) (2024.7.4)\n",
      "Requirement already satisfied: blis<0.8.0,>=0.7.8 in c:\\programdata\\anaconda3\\envs\\sparc\\lib\\site-packages (from thinc<8.3.0,>=8.2.2->spacy->sparc-assemble) (0.7.11)\n",
      "Requirement already satisfied: confection<1.0.0,>=0.0.1 in c:\\programdata\\anaconda3\\envs\\sparc\\lib\\site-packages (from thinc<8.3.0,>=8.2.2->spacy->sparc-assemble) (0.1.5)\n",
      "Requirement already satisfied: colorama in c:\\programdata\\anaconda3\\envs\\sparc\\lib\\site-packages (from tqdm->sentence-transformers->sparc-assemble) (0.4.6)\n",
      "Requirement already satisfied: regex!=2019.12.17 in c:\\programdata\\anaconda3\\envs\\sparc\\lib\\site-packages (from transformers<5.0.0,>=4.34.0->sentence-transformers->sparc-assemble) (2024.7.24)\n",
      "Requirement already satisfied: safetensors>=0.4.1 in c:\\programdata\\anaconda3\\envs\\sparc\\lib\\site-packages (from transformers<5.0.0,>=4.34.0->sentence-transformers->sparc-assemble) (0.4.4)\n",
      "Requirement already satisfied: tokenizers<0.20,>=0.19 in c:\\programdata\\anaconda3\\envs\\sparc\\lib\\site-packages (from transformers<5.0.0,>=4.34.0->sentence-transformers->sparc-assemble) (0.19.1)\n",
      "Requirement already satisfied: shellingham>=1.3.0 in c:\\programdata\\anaconda3\\envs\\sparc\\lib\\site-packages (from typer<1.0.0,>=0.3.0->spacy->sparc-assemble) (1.5.4)\n",
      "Requirement already satisfied: rich>=10.11.0 in c:\\programdata\\anaconda3\\envs\\sparc\\lib\\site-packages (from typer<1.0.0,>=0.3.0->spacy->sparc-assemble) (13.7.1)\n",
      "Requirement already satisfied: cloudpathlib<1.0.0,>=0.7.0 in c:\\programdata\\anaconda3\\envs\\sparc\\lib\\site-packages (from weasel<0.5.0,>=0.1.0->spacy->sparc-assemble) (0.18.1)\n",
      "Requirement already satisfied: smart-open<8.0.0,>=5.2.1 in c:\\programdata\\anaconda3\\envs\\sparc\\lib\\site-packages (from weasel<0.5.0,>=0.1.0->spacy->sparc-assemble) (7.0.4)\n",
      "Requirement already satisfied: MarkupSafe>=2.0 in c:\\programdata\\anaconda3\\envs\\sparc\\lib\\site-packages (from jinja2->torch==2.3.0->sparc-assemble) (2.1.5)\n",
      "Requirement already satisfied: joblib>=1.2.0 in c:\\programdata\\anaconda3\\envs\\sparc\\lib\\site-packages (from scikit-learn->sentence-transformers->sparc-assemble) (1.4.2)\n",
      "Requirement already satisfied: threadpoolctl>=3.1.0 in c:\\programdata\\anaconda3\\envs\\sparc\\lib\\site-packages (from scikit-learn->sentence-transformers->sparc-assemble) (3.5.0)\n",
      "Requirement already satisfied: mpmath<1.4,>=1.1.0 in c:\\programdata\\anaconda3\\envs\\sparc\\lib\\site-packages (from sympy->torch==2.3.0->sparc-assemble) (1.3.0)\n",
      "Requirement already satisfied: cwl-upgrader>=1.2.3 in c:\\programdata\\anaconda3\\envs\\sparc\\lib\\site-packages (from cwl-utils>=0.32->cwltool>=1.0.20170727112954->scriptcwl->sparc-assemble) (1.2.11)\n",
      "Requirement already satisfied: marisa-trie>=0.7.7 in c:\\programdata\\anaconda3\\envs\\sparc\\lib\\site-packages (from language-data>=1.2->langcodes<4.0.0,>=3.2.0->spacy->sparc-assemble) (1.2.0)\n",
      "Requirement already satisfied: isodate<0.7.0,>=0.6.0 in c:\\programdata\\anaconda3\\envs\\sparc\\lib\\site-packages (from rdflib<7.1.0,>=4.2.2->cwltool>=1.0.20170727112954->scriptcwl->sparc-assemble) (0.6.1)\n",
      "Requirement already satisfied: markdown-it-py>=2.2.0 in c:\\programdata\\anaconda3\\envs\\sparc\\lib\\site-packages (from rich>=10.11.0->typer<1.0.0,>=0.3.0->spacy->sparc-assemble) (3.0.0)\n",
      "Requirement already satisfied: pygments<3.0.0,>=2.13.0 in c:\\programdata\\anaconda3\\envs\\sparc\\lib\\site-packages (from rich>=10.11.0->typer<1.0.0,>=0.3.0->spacy->sparc-assemble) (2.18.0)\n",
      "Requirement already satisfied: mistune<3.1,>=3 in c:\\programdata\\anaconda3\\envs\\sparc\\lib\\site-packages (from schema-salad<9,>=8.4.20230426093816->cwltool>=1.0.20170727112954->scriptcwl->sparc-assemble) (3.0.2)\n",
      "Requirement already satisfied: CacheControl<0.15,>=0.11.7 in c:\\programdata\\anaconda3\\envs\\sparc\\lib\\site-packages (from CacheControl[filecache]<0.15,>=0.11.7->schema-salad<9,>=8.4.20230426093816->cwltool>=1.0.20170727112954->scriptcwl->sparc-assemble) (0.14.0)\n",
      "Requirement already satisfied: wrapt in c:\\programdata\\anaconda3\\envs\\sparc\\lib\\site-packages (from smart-open<8.0.0,>=5.2.1->weasel<0.5.0,>=0.1.0->spacy->sparc-assemble) (1.16.0)\n",
      "Requirement already satisfied: humanfriendly>=9.1 in c:\\programdata\\anaconda3\\envs\\sparc\\lib\\site-packages (from coloredlogs->cwltool>=1.0.20170727112954->scriptcwl->sparc-assemble) (10.0)\n",
      "Requirement already satisfied: msgpack<2.0.0,>=0.5.2 in c:\\programdata\\anaconda3\\envs\\sparc\\lib\\site-packages (from CacheControl<0.15,>=0.11.7->CacheControl[filecache]<0.15,>=0.11.7->schema-salad<9,>=8.4.20230426093816->cwltool>=1.0.20170727112954->scriptcwl->sparc-assemble) (1.0.8)\n",
      "Requirement already satisfied: pyreadline3 in c:\\programdata\\anaconda3\\envs\\sparc\\lib\\site-packages (from humanfriendly>=9.1->coloredlogs->cwltool>=1.0.20170727112954->scriptcwl->sparc-assemble) (3.4.1)\n",
      "Requirement already satisfied: mdurl~=0.1 in c:\\programdata\\anaconda3\\envs\\sparc\\lib\\site-packages (from markdown-it-py>=2.2.0->rich>=10.11.0->typer<1.0.0,>=0.3.0->spacy->sparc-assemble) (0.1.2)\n"
     ]
    }
   ],
   "source": [
    "!pip install sparc-assemble"
   ]
  },
  {
   "cell_type": "markdown",
   "id": "330b2564356ddc81",
   "metadata": {},
   "source": [
    "\n",
    "## Using sparc_me to download an existing curated SDS"
   ]
  },
  {
   "cell_type": "code",
   "execution_count": 5,
   "id": "4b6dccd7",
   "metadata": {
    "ExecuteTime": {
     "end_time": "2024-08-12T03:14:53.138736200Z",
     "start_time": "2024-08-12T03:14:53.097666800Z"
    }
   },
   "outputs": [
    {
     "ename": "ImportError",
     "evalue": "cannot import name 'assembler' from 'sparc_assemble' (C:\\Users\\mver587\\Documents\\Code\\2024-team-2\\sparc_assemble\\__init__.py)",
     "output_type": "error",
     "traceback": [
      "\u001B[1;31m---------------------------------------------------------------------------\u001B[0m",
      "\u001B[1;31mImportError\u001B[0m                               Traceback (most recent call last)",
      "Cell \u001B[1;32mIn[5], line 3\u001B[0m\n\u001B[0;32m      1\u001B[0m \u001B[38;5;28;01mimport\u001B[39;00m \u001B[38;5;21;01margparse\u001B[39;00m\n\u001B[1;32m----> 3\u001B[0m \u001B[38;5;28;01mfrom\u001B[39;00m \u001B[38;5;21;01msparc_assemble\u001B[39;00m \u001B[38;5;28;01mimport\u001B[39;00m assembler\n",
      "\u001B[1;31mImportError\u001B[0m: cannot import name 'assembler' from 'sparc_assemble' (C:\\Users\\mver587\\Documents\\Code\\2024-team-2\\sparc_assemble\\__init__.py)"
     ]
    }
   ],
   "source": [
    "import argparse\n",
    "\n",
    "from sparc_assemble import assembler"
   ]
  },
  {
   "cell_type": "markdown",
   "id": "ae01bd43",
   "metadata": {},
   "source": [
    "Sparc_me allows us to verify that we have identified the correct data set by simply inspecting the name of the dataset"
   ]
  },
  {
   "cell_type": "code",
   "execution_count": 3,
   "id": "edd0c162",
   "metadata": {
    "ExecuteTime": {
     "end_time": "2024-08-12T01:50:38.278413Z",
     "start_time": "2024-08-12T01:48:58.839115Z"
    },
    "scrolled": true
   },
   "outputs": [
    {
     "name": "stderr",
     "output_type": "stream",
     "text": [
      "C:\\ProgramData\\anaconda3\\envs\\SPARC\\lib\\site-packages\\sentence_transformers\\util.py:33: UserWarning: Creating a tensor from a list of numpy.ndarrays is extremely slow. Please consider converting the list to a single numpy.ndarray with numpy.array() before converting to a tensor. (Triggered internally at ..\\torch\\csrc\\utils\\tensor_new.cpp:277.)\n",
      "  a = torch.tensor(a)\n"
     ]
    },
    {
     "name": "stdout",
     "output_type": "stream",
     "text": [
      "No exact match found. Here are the possible requests:\n",
      "- PV loop\n",
      "- A ratio\n",
      "- GPLS\n",
      "\n",
      "The following method can compute GPLS:\n",
      "1. method_1:\n",
      "\t 4 possible workflow(s):\n",
      "\t- 1. Input: PV loop, Ejection Fraction, E/A ratio, Left ventricular mass\n",
      "\t\t- \u001B[1mPV loop\u001B[0m, \u001B[1mEjection Fraction\u001B[0m, \u001B[1mE/A ratio\u001B[0m, \u001B[1mLeft ventricular mass\u001B[0m -> method_1 -> GPLS\n",
      "\t- 2. Input: 3D Mesh, Myocardial Stiffness, Ejection Fraction, E/A ratio, Left ventricular mass\n",
      "\t\t- \u001B[1m3D Mesh\u001B[0m, \u001B[1mMyocardial Stiffness\u001B[0m -> method_3 -> PV loop\n",
      "\t\t- PV loop, \u001B[1mEjection Fraction\u001B[0m, \u001B[1mE/A ratio\u001B[0m, \u001B[1mLeft ventricular mass\u001B[0m -> method_1 -> GPLS\n",
      "\t- 3. Input: PV loop, Ejection Fraction, E wave, A wave, Left ventricular mass\n",
      "\t\t- \u001B[1mE wave\u001B[0m, \u001B[1mA wave\u001B[0m -> method_4 -> E/A ratio\n",
      "\t\t- \u001B[1mPV loop\u001B[0m, \u001B[1mEjection Fraction\u001B[0m, E/A ratio, \u001B[1mLeft ventricular mass\u001B[0m -> method_1 -> GPLS\n",
      "\t- 4. Input: 3D Mesh, Myocardial Stiffness, Ejection Fraction, E wave, A wave, Left ventricular mass\n",
      "\t\t- \u001B[1mE wave\u001B[0m, \u001B[1mA wave\u001B[0m -> method_4 -> E/A ratio\n",
      "\t\t- \u001B[1m3D Mesh\u001B[0m, \u001B[1mMyocardial Stiffness\u001B[0m -> method_3 -> PV loop\n",
      "\t\t- PV loop, \u001B[1mEjection Fraction\u001B[0m, E/A ratio, \u001B[1mLeft ventricular mass\u001B[0m -> method_1 -> GPLS\n",
      "Invalid input. Please enter a number.\n",
      "Invalid input. Please enter a number.\n",
      "Invalid input. Please enter a number.\n",
      "Invalid input. Please enter a number.\n",
      "Invalid input. Please enter a number.\n",
      "Invalid input. Please enter a number.\n",
      "Invalid input. Please enter a number.\n",
      "Invalid input. Please enter a number.\n",
      "Invalid input. Please enter a number.\n",
      "Invalid input. Please enter a number.\n",
      "Invalid input. Please enter a number.\n",
      "Invalid input. Please enter a number.\n",
      "Invalid input. Please enter a number.\n",
      "Invalid input. Please enter a number.\n",
      "Invalid input. Please enter a number.\n",
      "Invalid input. Please enter a number.\n",
      "Invalid input. Please enter a number.\n",
      "Invalid input. Please enter a number.\n",
      "Invalid input. Please enter a number.\n",
      "Invalid input. Please enter a number.\n",
      "Invalid input. Please enter a number.\n",
      "Invalid input. Please enter a number.\n",
      "Invalid input. Please enter a number.\n",
      "Invalid input. Please enter a number.\n",
      "Invalid input. Please enter a number.\n",
      "Invalid input. Please enter a number.\n",
      "Invalid input. Please enter a number.\n",
      "Invalid input. Please enter a number.\n",
      "Invalid input. Please enter a number.\n",
      "Invalid input. Please enter a number.\n",
      "Invalid input. Please enter a number.\n",
      "Invalid input. Please enter a number.\n",
      "Invalid input. Please enter a number.\n",
      "Invalid input. Please enter a number.\n",
      "Invalid input. Please enter a number.\n",
      "Invalid input. Please enter a number.\n",
      "Invalid input. Please enter a number.\n",
      "Invalid input. Please enter a number.\n",
      "Invalid input. Please enter a number.\n",
      "Invalid input. Please enter a number.\n",
      "Invalid input. Please enter a number.\n",
      "Invalid input. Please enter a number.\n"
     ]
    },
    {
     "name": "stderr",
     "output_type": "stream",
     "text": [
      "WARNING:scriptcwl.library:Not found: 'Tools\\Tools\\method_1.cwl'\n"
     ]
    },
    {
     "ename": "AttributeError",
     "evalue": "'NoneType' object has no attribute 'output_types'",
     "output_type": "error",
     "traceback": [
      "\u001B[1;31m---------------------------------------------------------------------------\u001B[0m",
      "\u001B[1;31mAttributeError\u001B[0m                            Traceback (most recent call last)",
      "Cell \u001B[1;32mIn[3], line 2\u001B[0m\n\u001B[0;32m      1\u001B[0m assembler_instance \u001B[38;5;241m=\u001B[39m Assembler(\u001B[38;5;124mr\u001B[39m\u001B[38;5;124m\"\u001B[39m\u001B[38;5;124m../../resources/KG_dummy.owl\u001B[39m\u001B[38;5;124m\"\u001B[39m)\n\u001B[1;32m----> 2\u001B[0m \u001B[43massembler_instance\u001B[49m\u001B[38;5;241;43m.\u001B[39;49m\u001B[43mrun\u001B[49m\u001B[43m(\u001B[49m\u001B[43m)\u001B[49m\n",
      "File \u001B[1;32m~\\Documents\\Code\\2024-team-2\\sparc_assemble\\core\\assembler\\assembler.py:37\u001B[0m, in \u001B[0;36mAssembler.run\u001B[1;34m(self)\u001B[0m\n\u001B[0;32m     34\u001B[0m \u001B[38;5;28mself\u001B[39m\u001B[38;5;241m.\u001B[39m_handle_request_choice(request_options[selected_request], ontology)\n\u001B[0;32m     36\u001B[0m \u001B[38;5;66;03m# Prompt user for methods and workflows choice, save workflow and inputs values\u001B[39;00m\n\u001B[1;32m---> 37\u001B[0m workflow_file, inputs_file \u001B[38;5;241m=\u001B[39m \u001B[38;5;28;43mself\u001B[39;49m\u001B[38;5;241;43m.\u001B[39;49m\u001B[43m_workflow_choice_and_save\u001B[49m\u001B[43m(\u001B[49m\u001B[43mworkflow_options_dict\u001B[49m\u001B[43m,\u001B[49m\u001B[43m \u001B[49m\u001B[43mrequest_options\u001B[49m\u001B[43m[\u001B[49m\u001B[43mselected_request\u001B[49m\u001B[43m]\u001B[49m\u001B[43m,\u001B[49m\n\u001B[0;32m     38\u001B[0m \u001B[43m                                                      \u001B[49m\u001B[43montology\u001B[49m\u001B[43m)\u001B[49m\n",
      "File \u001B[1;32m~\\Documents\\Code\\2024-team-2\\sparc_assemble\\core\\assembler\\assembler.py:157\u001B[0m, in \u001B[0;36mAssembler._workflow_choice_and_save\u001B[1;34m(self, options_dict, request, ontology, interface)\u001B[0m\n\u001B[0;32m    154\u001B[0m \u001B[38;5;28mself\u001B[39m\u001B[38;5;241m.\u001B[39m_store_workflow_choice(choice_method, choice_input, options_dict, options)\n\u001B[0;32m    156\u001B[0m \u001B[38;5;66;03m# Save workflow and inputs values respectively in Workflows (.cwl file) and Jobs (.yml file) folders\u001B[39;00m\n\u001B[1;32m--> 157\u001B[0m wf_inputs, wf_name \u001B[38;5;241m=\u001B[39m \u001B[43msave_workflow\u001B[49m\u001B[43m(\u001B[49m\u001B[43montology\u001B[49m\u001B[43m,\u001B[49m\u001B[43m \u001B[49m\u001B[38;5;28;43mself\u001B[39;49m\u001B[38;5;241;43m.\u001B[39;49m\u001B[43mworkflow\u001B[49m\u001B[43m)\u001B[49m\n\u001B[0;32m    159\u001B[0m \u001B[38;5;66;03m# Get inputs values for the chosen combination (save job file)\u001B[39;00m\n\u001B[0;32m    160\u001B[0m \u001B[38;5;66;03m# provide_and_save_inputs(wf_inputs, wf_name)\u001B[39;00m\n\u001B[0;32m    162\u001B[0m \u001B[38;5;28;01mreturn\u001B[39;00m \u001B[38;5;124mf\u001B[39m\u001B[38;5;124m'\u001B[39m\u001B[38;5;124mresourceswWorkflows/\u001B[39m\u001B[38;5;132;01m{\u001B[39;00mwf_name\u001B[38;5;132;01m}\u001B[39;00m\u001B[38;5;124m.cwl\u001B[39m\u001B[38;5;124m'\u001B[39m, \u001B[38;5;124mf\u001B[39m\u001B[38;5;124m'\u001B[39m\u001B[38;5;124mresources/jobs/\u001B[39m\u001B[38;5;132;01m{\u001B[39;00mwf_name\u001B[38;5;132;01m}\u001B[39;00m\u001B[38;5;124m.yml\u001B[39m\u001B[38;5;124m'\u001B[39m\n",
      "File \u001B[1;32m~\\Documents\\Code\\2024-team-2\\sparc_assemble\\core\\assembler\\workflow_utils.py:210\u001B[0m, in \u001B[0;36msave_workflow\u001B[1;34m(ontology, workflow)\u001B[0m\n\u001B[0;32m    207\u001B[0m \u001B[38;5;66;03m# Create workflow object\u001B[39;00m\n\u001B[0;32m    208\u001B[0m \u001B[38;5;28;01mwith\u001B[39;00m WorkflowGenerator() \u001B[38;5;28;01mas\u001B[39;00m wf:\n\u001B[0;32m    209\u001B[0m     \u001B[38;5;66;03m# Load cwl file and store inputs and outputs in dicts with key = step name\u001B[39;00m\n\u001B[1;32m--> 210\u001B[0m     workflow_inputs, steps_outputs \u001B[38;5;241m=\u001B[39m \u001B[43mretrieve_steps_information\u001B[49m\u001B[43m(\u001B[49m\u001B[43mwf\u001B[49m\u001B[43m,\u001B[49m\u001B[43m \u001B[49m\u001B[43mworkflow_steps\u001B[49m\u001B[43m)\u001B[49m\n\u001B[0;32m    211\u001B[0m     \u001B[38;5;66;03m# Link inputs and outputs between steps and store the links in a dict\u001B[39;00m\n\u001B[0;32m    212\u001B[0m     step_links \u001B[38;5;241m=\u001B[39m link_steps(steps_outputs, workflow_inputs)\n",
      "File \u001B[1;32m~\\Documents\\Code\\2024-team-2\\sparc_assemble\\core\\assembler\\assemble_utils.py:328\u001B[0m, in \u001B[0;36mretrieve_steps_information\u001B[1;34m(wf, workflow_steps)\u001B[0m\n\u001B[0;32m    326\u001B[0m \u001B[38;5;66;03m# Retrieve step inputs and outputs from the library and store them in their corresponding dict.\u001B[39;00m\n\u001B[0;32m    327\u001B[0m step_name \u001B[38;5;241m=\u001B[39m os\u001B[38;5;241m.\u001B[39mpath\u001B[38;5;241m.\u001B[39msplitext(os\u001B[38;5;241m.\u001B[39mpath\u001B[38;5;241m.\u001B[39mbasename(step_path))[\u001B[38;5;241m0\u001B[39m]\n\u001B[1;32m--> 328\u001B[0m step_outputs_dict \u001B[38;5;241m=\u001B[39m \u001B[43mwf\u001B[49m\u001B[38;5;241;43m.\u001B[39;49m\u001B[43msteps_library\u001B[49m\u001B[38;5;241;43m.\u001B[39;49m\u001B[43mget_step\u001B[49m\u001B[43m(\u001B[49m\u001B[43mstep_name\u001B[49m\u001B[43m)\u001B[49m\u001B[38;5;241;43m.\u001B[39;49m\u001B[43moutput_types\u001B[49m\n\u001B[0;32m    329\u001B[0m steps_outputs[step_name] \u001B[38;5;241m=\u001B[39m [\u001B[38;5;124mf\u001B[39m\u001B[38;5;124m\"\u001B[39m\u001B[38;5;132;01m{\u001B[39;00mkey\u001B[38;5;132;01m}\u001B[39;00m\u001B[38;5;124m: \u001B[39m\u001B[38;5;124m'\u001B[39m\u001B[38;5;132;01m{\u001B[39;00mvalue\u001B[38;5;132;01m}\u001B[39;00m\u001B[38;5;124m'\u001B[39m\u001B[38;5;124m\"\u001B[39m \u001B[38;5;28;01mfor\u001B[39;00m key, value \u001B[38;5;129;01min\u001B[39;00m step_outputs_dict\u001B[38;5;241m.\u001B[39mitems()]\n\u001B[0;32m    330\u001B[0m step_inputs_optional_dict \u001B[38;5;241m=\u001B[39m wf\u001B[38;5;241m.\u001B[39msteps_library\u001B[38;5;241m.\u001B[39mget_step(step_name)\u001B[38;5;241m.\u001B[39moptional_input_types\n",
      "\u001B[1;31mAttributeError\u001B[0m: 'NoneType' object has no attribute 'output_types'"
     ]
    }
   ],
   "source": [
    "assembler_instance = Assembler(r\"../../resources/KG_dummy.owl\")\n",
    "assembler_instance.run()"
   ]
  },
  {
   "cell_type": "markdown",
   "id": "db11b3cc",
   "metadata": {},
   "source": [
    "An example of a workflow is to run the code provided in the dataset. We downloaded the code and modified it to extract an output for this tutorial. However, the example dataset is too large (>29.63 GB) for this tutorial; so we have provided a portion of the data for illustrative purposes.\n",
    "\n",
    "The code that generated this data can be found in the [Tutorial 1 folder](tutorials/tutorial_1/data_processing_example.py) on github. This python script shows how to download the full dataset from the SPARC portal using sparc-me. "
   ]
  },
  {
   "cell_type": "code",
   "execution_count": null,
   "id": "2af8a2b2",
   "metadata": {},
   "outputs": [],
   "source": [
    "# api_tools.download_dataset(dataset[\"id\"]) move"
   ]
  },
  {
   "cell_type": "markdown",
   "id": "056de68e",
   "metadata": {},
   "source": [
    "## Output data\n",
    "Below is the derived data from the processing step."
   ]
  },
  {
   "cell_type": "markdown",
   "id": "e6b7737b",
   "metadata": {
    "pycharm": {
     "name": "#%%\n"
    }
   },
   "source": [
    "## Visualising the processed data"
   ]
  }
 ],
 "metadata": {
  "kernelspec": {
   "name": "python3",
   "language": "python",
   "display_name": "Python 3 (ipykernel)"
  },
  "language_info": {
   "codemirror_mode": {
    "name": "ipython",
    "version": 3
   },
   "file_extension": ".py",
   "mimetype": "text/x-python",
   "name": "python",
   "nbconvert_exporter": "python",
   "pygments_lexer": "ipython3",
   "version": "3.11.5"
  }
 },
 "nbformat": 4,
 "nbformat_minor": 5
}
