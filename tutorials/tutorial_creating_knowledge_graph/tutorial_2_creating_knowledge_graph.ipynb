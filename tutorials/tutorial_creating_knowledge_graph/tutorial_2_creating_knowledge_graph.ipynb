{
 "cells": [
  {
   "cell_type": "markdown",
   "id": "58dcd0c7",
   "metadata": {},
   "source": [
    "# Tutorial 2: Building a knowledge graph\n",
    "This tutorial shows how to build a knowledge graph from an existing dataset. In this tutorial we initialise and save a knowledge graph without adding information to it. Refer to tutorial 3 to add information from tools description to the knowledge graph.\n",
    "\n",
    "## Requirements"
   ]
  },
  {
   "cell_type": "code",
   "outputs": [],
   "source": [
    "!pip install sparc-assemble"
   ],
   "metadata": {
    "collapsed": false
   },
   "id": "b2da1024e9e330a7"
  },
  {
   "cell_type": "markdown",
   "source": [
    "## Importing the required libraries"
   ],
   "metadata": {
    "collapsed": false
   },
   "id": "400a7c32cfc46097"
  },
  {
   "cell_type": "code",
   "execution_count": 13,
   "id": "4b6dccd7",
   "metadata": {},
   "outputs": [],
   "source": [
    "from sparc_assemble import KG"
   ]
  },
  {
   "cell_type": "markdown",
   "source": [
    "## Initialising knowledge graph\n",
    "The knowledge graph is initialised by creating an instance of the KG class. "
   ],
   "metadata": {
    "collapsed": false
   },
   "id": "63c3de103323207d"
  },
  {
   "cell_type": "code",
   "outputs": [],
   "source": [
    "kg = KG()"
   ],
   "metadata": {
    "collapsed": false
   },
   "id": "62275c61cb3827b5"
  },
  {
   "cell_type": "markdown",
   "source": [
    "The knowledge graph is initialised based on EDAM - Ontology of bioscientific data analysis and data management (version 1.25). This ontology allows to link data, formats, and operations defined as a function processing inputs and returning outputs. The ontology defines the concept while the knowledge graph assign instances to them. The ontology is available at https://bioportal.bioontology.org/ontologies/EDAM.\n",
    "\n",
    "For the purpose of this project, the focus is on linking data and operations. The operation will be referred to as tools from now on. For simplicity, the information that can be added to the knowledge graph at this stage will fall either under the data or operation class. Later work could involve assigning data and tools to more precise classes offered by the ontology.\n",
    "\n",
    "We can print out the classes present in the knowledge graph. It reflects all the available classes from the EDAM ontology. However, only the main data and operation classes are used in this project."
   ],
   "metadata": {
    "collapsed": false
   },
   "id": "1297db856ab252d"
  },
  {
   "cell_type": "code",
   "outputs": [],
   "source": [
    "list(kg._ontology.classes)"
   ],
   "metadata": {
    "collapsed": false
   },
   "id": "e8cef80871056bf8"
  },
  {
   "cell_type": "markdown",
   "source": [
    "## Saving the knowledge graph\n",
    "The knowledge graph can be saved as an owl file (web ontology language). The file will contain the information about the classes and the instances present in the knowledge graph. At this stage, no instance were added to the knowledge graph. The knowledge graph can be loaded later to add data and operation instances (see tutorial 3).\n",
    "\n",
    "The save method takes the path to the file where the knowledge graph will be saved. The file will be saved with the .owl extension."
   ],
   "metadata": {
    "collapsed": false
   },
   "id": "cdfcc1606246df65"
  },
  {
   "cell_type": "code",
   "outputs": [],
   "source": [
    "kg.save('./KG.owl')"
   ],
   "metadata": {
    "collapsed": false
   },
   "id": "e4d86e4ddff555f1"
  }
 ],
 "metadata": {
  "kernelspec": {
   "display_name": "Python 3 (ipykernel)",
   "language": "python",
   "name": "python3"
  },
  "language_info": {
   "codemirror_mode": {
    "name": "ipython",
    "version": 3
   },
   "file_extension": ".py",
   "mimetype": "text/x-python",
   "name": "python",
   "nbconvert_exporter": "python",
   "pygments_lexer": "ipython3",
   "version": "3.9.16"
  }
 },
 "nbformat": 4,
 "nbformat_minor": 5
}
