{
 "cells": [
  {
   "cell_type": "markdown",
   "id": "58dcd0c7",
   "metadata": {},
   "source": [
    "# Tutorial 2: Building a knowledge graph\n",
    "This tutorial shows how to build a knowledge graph. In this tutorial we initialise and save a knowledge graph without adding information to it. Refer to tutorial 3 to add information from tools description to the knowledge graph.\n",
    "\n",
    "## Requirements"
   ]
  },
  {
   "cell_type": "code",
   "outputs": [
    {
     "name": "stdout",
     "output_type": "stream",
     "text": [
      "Requirement already satisfied: sparc-assemble in c:\\programdata\\anaconda3\\envs\\sparc\\lib\\site-packages (0.1.1)\n",
      "Requirement already satisfied: owlready2 in c:\\programdata\\anaconda3\\envs\\sparc\\lib\\site-packages (from sparc-assemble) (0.46)\n",
      "Requirement already satisfied: scriptcwl in c:\\programdata\\anaconda3\\envs\\sparc\\lib\\site-packages (from sparc-assemble) (0.8.1)\n",
      "Requirement already satisfied: ruamel.yaml in c:\\programdata\\anaconda3\\envs\\sparc\\lib\\site-packages (from sparc-assemble) (0.18.6)\n",
      "Requirement already satisfied: thefuzz in c:\\programdata\\anaconda3\\envs\\sparc\\lib\\site-packages (from sparc-assemble) (0.22.1)\n",
      "Requirement already satisfied: spacy in c:\\programdata\\anaconda3\\envs\\sparc\\lib\\site-packages (from sparc-assemble) (3.7.5)\n",
      "Requirement already satisfied: torch==2.3.0 in c:\\programdata\\anaconda3\\envs\\sparc\\lib\\site-packages (from sparc-assemble) (2.3.0)\n",
      "Requirement already satisfied: sentence-transformers in c:\\programdata\\anaconda3\\envs\\sparc\\lib\\site-packages (from sparc-assemble) (3.0.1)\n",
      "Requirement already satisfied: filelock in c:\\programdata\\anaconda3\\envs\\sparc\\lib\\site-packages (from torch==2.3.0->sparc-assemble) (3.15.4)\n",
      "Requirement already satisfied: typing-extensions>=4.8.0 in c:\\programdata\\anaconda3\\envs\\sparc\\lib\\site-packages (from torch==2.3.0->sparc-assemble) (4.12.2)\n",
      "Requirement already satisfied: sympy in c:\\programdata\\anaconda3\\envs\\sparc\\lib\\site-packages (from torch==2.3.0->sparc-assemble) (1.13.1)\n",
      "Requirement already satisfied: networkx in c:\\programdata\\anaconda3\\envs\\sparc\\lib\\site-packages (from torch==2.3.0->sparc-assemble) (3.3)\n",
      "Requirement already satisfied: jinja2 in c:\\programdata\\anaconda3\\envs\\sparc\\lib\\site-packages (from torch==2.3.0->sparc-assemble) (3.1.4)\n",
      "Requirement already satisfied: fsspec in c:\\programdata\\anaconda3\\envs\\sparc\\lib\\site-packages (from torch==2.3.0->sparc-assemble) (2024.6.1)\n",
      "Requirement already satisfied: mkl<=2021.4.0,>=2021.1.1 in c:\\programdata\\anaconda3\\envs\\sparc\\lib\\site-packages (from torch==2.3.0->sparc-assemble) (2021.4.0)\n",
      "Requirement already satisfied: ruamel.yaml.clib>=0.2.7 in c:\\programdata\\anaconda3\\envs\\sparc\\lib\\site-packages (from ruamel.yaml->sparc-assemble) (0.2.8)\n",
      "Requirement already satisfied: six in c:\\programdata\\anaconda3\\envs\\sparc\\lib\\site-packages (from scriptcwl->sparc-assemble) (1.16.0)\n",
      "Requirement already satisfied: cwltool>=1.0.20170727112954 in c:\\programdata\\anaconda3\\envs\\sparc\\lib\\site-packages (from scriptcwl->sparc-assemble) (3.1.20240708091337)\n",
      "Requirement already satisfied: click in c:\\programdata\\anaconda3\\envs\\sparc\\lib\\site-packages (from scriptcwl->sparc-assemble) (8.1.7)\n",
      "Requirement already satisfied: transformers<5.0.0,>=4.34.0 in c:\\programdata\\anaconda3\\envs\\sparc\\lib\\site-packages (from sentence-transformers->sparc-assemble) (4.44.0)\n",
      "Requirement already satisfied: tqdm in c:\\programdata\\anaconda3\\envs\\sparc\\lib\\site-packages (from sentence-transformers->sparc-assemble) (4.66.5)\n",
      "Requirement already satisfied: numpy in c:\\programdata\\anaconda3\\envs\\sparc\\lib\\site-packages (from sentence-transformers->sparc-assemble) (1.26.4)\n",
      "Requirement already satisfied: scikit-learn in c:\\programdata\\anaconda3\\envs\\sparc\\lib\\site-packages (from sentence-transformers->sparc-assemble) (1.5.1)\n",
      "Requirement already satisfied: scipy in c:\\programdata\\anaconda3\\envs\\sparc\\lib\\site-packages (from sentence-transformers->sparc-assemble) (1.14.0)\n",
      "Requirement already satisfied: huggingface-hub>=0.15.1 in c:\\programdata\\anaconda3\\envs\\sparc\\lib\\site-packages (from sentence-transformers->sparc-assemble) (0.24.5)\n",
      "Requirement already satisfied: Pillow in c:\\programdata\\anaconda3\\envs\\sparc\\lib\\site-packages (from sentence-transformers->sparc-assemble) (10.4.0)\n",
      "Requirement already satisfied: spacy-legacy<3.1.0,>=3.0.11 in c:\\programdata\\anaconda3\\envs\\sparc\\lib\\site-packages (from spacy->sparc-assemble) (3.0.12)\n",
      "Requirement already satisfied: spacy-loggers<2.0.0,>=1.0.0 in c:\\programdata\\anaconda3\\envs\\sparc\\lib\\site-packages (from spacy->sparc-assemble) (1.0.5)\n",
      "Requirement already satisfied: murmurhash<1.1.0,>=0.28.0 in c:\\programdata\\anaconda3\\envs\\sparc\\lib\\site-packages (from spacy->sparc-assemble) (1.0.10)\n",
      "Requirement already satisfied: cymem<2.1.0,>=2.0.2 in c:\\programdata\\anaconda3\\envs\\sparc\\lib\\site-packages (from spacy->sparc-assemble) (2.0.8)\n",
      "Requirement already satisfied: preshed<3.1.0,>=3.0.2 in c:\\programdata\\anaconda3\\envs\\sparc\\lib\\site-packages (from spacy->sparc-assemble) (3.0.9)\n",
      "Requirement already satisfied: thinc<8.3.0,>=8.2.2 in c:\\programdata\\anaconda3\\envs\\sparc\\lib\\site-packages (from spacy->sparc-assemble) (8.2.5)\n",
      "Requirement already satisfied: wasabi<1.2.0,>=0.9.1 in c:\\programdata\\anaconda3\\envs\\sparc\\lib\\site-packages (from spacy->sparc-assemble) (1.1.3)\n",
      "Requirement already satisfied: srsly<3.0.0,>=2.4.3 in c:\\programdata\\anaconda3\\envs\\sparc\\lib\\site-packages (from spacy->sparc-assemble) (2.4.8)\n",
      "Requirement already satisfied: catalogue<2.1.0,>=2.0.6 in c:\\programdata\\anaconda3\\envs\\sparc\\lib\\site-packages (from spacy->sparc-assemble) (2.0.10)\n",
      "Requirement already satisfied: weasel<0.5.0,>=0.1.0 in c:\\programdata\\anaconda3\\envs\\sparc\\lib\\site-packages (from spacy->sparc-assemble) (0.4.1)\n",
      "Requirement already satisfied: typer<1.0.0,>=0.3.0 in c:\\programdata\\anaconda3\\envs\\sparc\\lib\\site-packages (from spacy->sparc-assemble) (0.12.3)\n",
      "Requirement already satisfied: requests<3.0.0,>=2.13.0 in c:\\programdata\\anaconda3\\envs\\sparc\\lib\\site-packages (from spacy->sparc-assemble) (2.32.3)\n",
      "Requirement already satisfied: pydantic!=1.8,!=1.8.1,<3.0.0,>=1.7.4 in c:\\programdata\\anaconda3\\envs\\sparc\\lib\\site-packages (from spacy->sparc-assemble) (2.8.2)\n",
      "Requirement already satisfied: setuptools in c:\\programdata\\anaconda3\\envs\\sparc\\lib\\site-packages (from spacy->sparc-assemble) (72.1.0)\n",
      "Requirement already satisfied: packaging>=20.0 in c:\\programdata\\anaconda3\\envs\\sparc\\lib\\site-packages (from spacy->sparc-assemble) (24.1)\n",
      "Requirement already satisfied: langcodes<4.0.0,>=3.2.0 in c:\\programdata\\anaconda3\\envs\\sparc\\lib\\site-packages (from spacy->sparc-assemble) (3.4.0)\n",
      "Requirement already satisfied: rapidfuzz<4.0.0,>=3.0.0 in c:\\programdata\\anaconda3\\envs\\sparc\\lib\\site-packages (from thefuzz->sparc-assemble) (3.9.6)\n",
      "Requirement already satisfied: rdflib<7.1.0,>=4.2.2 in c:\\programdata\\anaconda3\\envs\\sparc\\lib\\site-packages (from cwltool>=1.0.20170727112954->scriptcwl->sparc-assemble) (7.0.0)\n",
      "Requirement already satisfied: shellescape<3.9,>=3.4.1 in c:\\programdata\\anaconda3\\envs\\sparc\\lib\\site-packages (from cwltool>=1.0.20170727112954->scriptcwl->sparc-assemble) (3.8.1)\n",
      "Requirement already satisfied: schema-salad<9,>=8.4.20230426093816 in c:\\programdata\\anaconda3\\envs\\sparc\\lib\\site-packages (from cwltool>=1.0.20170727112954->scriptcwl->sparc-assemble) (8.7.20240718183047)\n",
      "Requirement already satisfied: prov==1.5.1 in c:\\programdata\\anaconda3\\envs\\sparc\\lib\\site-packages (from cwltool>=1.0.20170727112954->scriptcwl->sparc-assemble) (1.5.1)\n",
      "Requirement already satisfied: mypy-extensions in c:\\programdata\\anaconda3\\envs\\sparc\\lib\\site-packages (from cwltool>=1.0.20170727112954->scriptcwl->sparc-assemble) (1.0.0)\n",
      "Requirement already satisfied: psutil>=5.6.6 in c:\\programdata\\anaconda3\\envs\\sparc\\lib\\site-packages (from cwltool>=1.0.20170727112954->scriptcwl->sparc-assemble) (6.0.0)\n",
      "Requirement already satisfied: coloredlogs in c:\\programdata\\anaconda3\\envs\\sparc\\lib\\site-packages (from cwltool>=1.0.20170727112954->scriptcwl->sparc-assemble) (15.0.1)\n",
      "Requirement already satisfied: pydot>=1.4.1 in c:\\programdata\\anaconda3\\envs\\sparc\\lib\\site-packages (from cwltool>=1.0.20170727112954->scriptcwl->sparc-assemble) (3.0.1)\n",
      "Requirement already satisfied: argcomplete in c:\\programdata\\anaconda3\\envs\\sparc\\lib\\site-packages (from cwltool>=1.0.20170727112954->scriptcwl->sparc-assemble) (3.5.0)\n",
      "Requirement already satisfied: pyparsing!=3.0.2 in c:\\programdata\\anaconda3\\envs\\sparc\\lib\\site-packages (from cwltool>=1.0.20170727112954->scriptcwl->sparc-assemble) (3.1.2)\n",
      "Requirement already satisfied: cwl-utils>=0.32 in c:\\programdata\\anaconda3\\envs\\sparc\\lib\\site-packages (from cwltool>=1.0.20170727112954->scriptcwl->sparc-assemble) (0.33)\n",
      "Requirement already satisfied: spython>=0.3.0 in c:\\programdata\\anaconda3\\envs\\sparc\\lib\\site-packages (from cwltool>=1.0.20170727112954->scriptcwl->sparc-assemble) (0.3.13)\n",
      "Requirement already satisfied: lxml in c:\\programdata\\anaconda3\\envs\\sparc\\lib\\site-packages (from prov==1.5.1->cwltool>=1.0.20170727112954->scriptcwl->sparc-assemble) (5.3.0)\n",
      "Requirement already satisfied: python-dateutil in c:\\programdata\\anaconda3\\envs\\sparc\\lib\\site-packages (from prov==1.5.1->cwltool>=1.0.20170727112954->scriptcwl->sparc-assemble) (2.9.0.post0)\n",
      "Requirement already satisfied: pyyaml>=5.1 in c:\\programdata\\anaconda3\\envs\\sparc\\lib\\site-packages (from huggingface-hub>=0.15.1->sentence-transformers->sparc-assemble) (6.0.2)\n",
      "Requirement already satisfied: language-data>=1.2 in c:\\programdata\\anaconda3\\envs\\sparc\\lib\\site-packages (from langcodes<4.0.0,>=3.2.0->spacy->sparc-assemble) (1.2.0)\n",
      "Requirement already satisfied: intel-openmp==2021.* in c:\\programdata\\anaconda3\\envs\\sparc\\lib\\site-packages (from mkl<=2021.4.0,>=2021.1.1->torch==2.3.0->sparc-assemble) (2021.4.0)\n",
      "Requirement already satisfied: tbb==2021.* in c:\\programdata\\anaconda3\\envs\\sparc\\lib\\site-packages (from mkl<=2021.4.0,>=2021.1.1->torch==2.3.0->sparc-assemble) (2021.13.1)\n",
      "Requirement already satisfied: annotated-types>=0.4.0 in c:\\programdata\\anaconda3\\envs\\sparc\\lib\\site-packages (from pydantic!=1.8,!=1.8.1,<3.0.0,>=1.7.4->spacy->sparc-assemble) (0.7.0)\n",
      "Requirement already satisfied: pydantic-core==2.20.1 in c:\\programdata\\anaconda3\\envs\\sparc\\lib\\site-packages (from pydantic!=1.8,!=1.8.1,<3.0.0,>=1.7.4->spacy->sparc-assemble) (2.20.1)\n",
      "Requirement already satisfied: charset-normalizer<4,>=2 in c:\\programdata\\anaconda3\\envs\\sparc\\lib\\site-packages (from requests<3.0.0,>=2.13.0->spacy->sparc-assemble) (3.3.2)\n",
      "Requirement already satisfied: idna<4,>=2.5 in c:\\programdata\\anaconda3\\envs\\sparc\\lib\\site-packages (from requests<3.0.0,>=2.13.0->spacy->sparc-assemble) (3.7)\n",
      "Requirement already satisfied: urllib3<3,>=1.21.1 in c:\\programdata\\anaconda3\\envs\\sparc\\lib\\site-packages (from requests<3.0.0,>=2.13.0->spacy->sparc-assemble) (2.2.2)\n",
      "Requirement already satisfied: certifi>=2017.4.17 in c:\\programdata\\anaconda3\\envs\\sparc\\lib\\site-packages (from requests<3.0.0,>=2.13.0->spacy->sparc-assemble) (2024.7.4)\n",
      "Requirement already satisfied: blis<0.8.0,>=0.7.8 in c:\\programdata\\anaconda3\\envs\\sparc\\lib\\site-packages (from thinc<8.3.0,>=8.2.2->spacy->sparc-assemble) (0.7.11)\n",
      "Requirement already satisfied: confection<1.0.0,>=0.0.1 in c:\\programdata\\anaconda3\\envs\\sparc\\lib\\site-packages (from thinc<8.3.0,>=8.2.2->spacy->sparc-assemble) (0.1.5)\n",
      "Requirement already satisfied: colorama in c:\\programdata\\anaconda3\\envs\\sparc\\lib\\site-packages (from tqdm->sentence-transformers->sparc-assemble) (0.4.6)\n",
      "Requirement already satisfied: regex!=2019.12.17 in c:\\programdata\\anaconda3\\envs\\sparc\\lib\\site-packages (from transformers<5.0.0,>=4.34.0->sentence-transformers->sparc-assemble) (2024.7.24)\n",
      "Requirement already satisfied: safetensors>=0.4.1 in c:\\programdata\\anaconda3\\envs\\sparc\\lib\\site-packages (from transformers<5.0.0,>=4.34.0->sentence-transformers->sparc-assemble) (0.4.4)\n",
      "Requirement already satisfied: tokenizers<0.20,>=0.19 in c:\\programdata\\anaconda3\\envs\\sparc\\lib\\site-packages (from transformers<5.0.0,>=4.34.0->sentence-transformers->sparc-assemble) (0.19.1)\n",
      "Requirement already satisfied: shellingham>=1.3.0 in c:\\programdata\\anaconda3\\envs\\sparc\\lib\\site-packages (from typer<1.0.0,>=0.3.0->spacy->sparc-assemble) (1.5.4)\n",
      "Requirement already satisfied: rich>=10.11.0 in c:\\programdata\\anaconda3\\envs\\sparc\\lib\\site-packages (from typer<1.0.0,>=0.3.0->spacy->sparc-assemble) (13.7.1)\n",
      "Requirement already satisfied: cloudpathlib<1.0.0,>=0.7.0 in c:\\programdata\\anaconda3\\envs\\sparc\\lib\\site-packages (from weasel<0.5.0,>=0.1.0->spacy->sparc-assemble) (0.18.1)\n",
      "Requirement already satisfied: smart-open<8.0.0,>=5.2.1 in c:\\programdata\\anaconda3\\envs\\sparc\\lib\\site-packages (from weasel<0.5.0,>=0.1.0->spacy->sparc-assemble) (7.0.4)\n",
      "Requirement already satisfied: MarkupSafe>=2.0 in c:\\programdata\\anaconda3\\envs\\sparc\\lib\\site-packages (from jinja2->torch==2.3.0->sparc-assemble) (2.1.5)\n",
      "Requirement already satisfied: joblib>=1.2.0 in c:\\programdata\\anaconda3\\envs\\sparc\\lib\\site-packages (from scikit-learn->sentence-transformers->sparc-assemble) (1.4.2)\n",
      "Requirement already satisfied: threadpoolctl>=3.1.0 in c:\\programdata\\anaconda3\\envs\\sparc\\lib\\site-packages (from scikit-learn->sentence-transformers->sparc-assemble) (3.5.0)\n",
      "Requirement already satisfied: mpmath<1.4,>=1.1.0 in c:\\programdata\\anaconda3\\envs\\sparc\\lib\\site-packages (from sympy->torch==2.3.0->sparc-assemble) (1.3.0)\n",
      "Requirement already satisfied: cwl-upgrader>=1.2.3 in c:\\programdata\\anaconda3\\envs\\sparc\\lib\\site-packages (from cwl-utils>=0.32->cwltool>=1.0.20170727112954->scriptcwl->sparc-assemble) (1.2.11)\n",
      "Requirement already satisfied: marisa-trie>=0.7.7 in c:\\programdata\\anaconda3\\envs\\sparc\\lib\\site-packages (from language-data>=1.2->langcodes<4.0.0,>=3.2.0->spacy->sparc-assemble) (1.2.0)\n",
      "Requirement already satisfied: isodate<0.7.0,>=0.6.0 in c:\\programdata\\anaconda3\\envs\\sparc\\lib\\site-packages (from rdflib<7.1.0,>=4.2.2->cwltool>=1.0.20170727112954->scriptcwl->sparc-assemble) (0.6.1)\n",
      "Requirement already satisfied: markdown-it-py>=2.2.0 in c:\\programdata\\anaconda3\\envs\\sparc\\lib\\site-packages (from rich>=10.11.0->typer<1.0.0,>=0.3.0->spacy->sparc-assemble) (3.0.0)\n",
      "Requirement already satisfied: pygments<3.0.0,>=2.13.0 in c:\\programdata\\anaconda3\\envs\\sparc\\lib\\site-packages (from rich>=10.11.0->typer<1.0.0,>=0.3.0->spacy->sparc-assemble) (2.18.0)\n",
      "Requirement already satisfied: mistune<3.1,>=3 in c:\\programdata\\anaconda3\\envs\\sparc\\lib\\site-packages (from schema-salad<9,>=8.4.20230426093816->cwltool>=1.0.20170727112954->scriptcwl->sparc-assemble) (3.0.2)\n",
      "Requirement already satisfied: CacheControl<0.15,>=0.11.7 in c:\\programdata\\anaconda3\\envs\\sparc\\lib\\site-packages (from CacheControl[filecache]<0.15,>=0.11.7->schema-salad<9,>=8.4.20230426093816->cwltool>=1.0.20170727112954->scriptcwl->sparc-assemble) (0.14.0)\n",
      "Requirement already satisfied: wrapt in c:\\programdata\\anaconda3\\envs\\sparc\\lib\\site-packages (from smart-open<8.0.0,>=5.2.1->weasel<0.5.0,>=0.1.0->spacy->sparc-assemble) (1.16.0)\n",
      "Requirement already satisfied: humanfriendly>=9.1 in c:\\programdata\\anaconda3\\envs\\sparc\\lib\\site-packages (from coloredlogs->cwltool>=1.0.20170727112954->scriptcwl->sparc-assemble) (10.0)\n",
      "Requirement already satisfied: msgpack<2.0.0,>=0.5.2 in c:\\programdata\\anaconda3\\envs\\sparc\\lib\\site-packages (from CacheControl<0.15,>=0.11.7->CacheControl[filecache]<0.15,>=0.11.7->schema-salad<9,>=8.4.20230426093816->cwltool>=1.0.20170727112954->scriptcwl->sparc-assemble) (1.0.8)\n",
      "Requirement already satisfied: pyreadline3 in c:\\programdata\\anaconda3\\envs\\sparc\\lib\\site-packages (from humanfriendly>=9.1->coloredlogs->cwltool>=1.0.20170727112954->scriptcwl->sparc-assemble) (3.4.1)\n",
      "Requirement already satisfied: mdurl~=0.1 in c:\\programdata\\anaconda3\\envs\\sparc\\lib\\site-packages (from markdown-it-py>=2.2.0->rich>=10.11.0->typer<1.0.0,>=0.3.0->spacy->sparc-assemble) (0.1.2)\n"
     ]
    }
   ],
   "source": [
    "!pip install sparc-assemble"
   ],
   "metadata": {
    "collapsed": false,
    "ExecuteTime": {
     "end_time": "2024-08-12T06:04:26.449265500Z",
     "start_time": "2024-08-12T06:04:23.797361300Z"
    }
   },
   "id": "b2da1024e9e330a7",
   "execution_count": 1
  },
  {
   "cell_type": "markdown",
   "source": [
    "## Importing the required libraries"
   ],
   "metadata": {
    "collapsed": false
   },
   "id": "400a7c32cfc46097"
  },
  {
   "cell_type": "code",
   "execution_count": 2,
   "id": "4b6dccd7",
   "metadata": {
    "ExecuteTime": {
     "end_time": "2024-08-12T06:04:37.372535600Z",
     "start_time": "2024-08-12T06:04:30.464386Z"
    }
   },
   "outputs": [
    {
     "name": "stderr",
     "output_type": "stream",
     "text": [
      "C:\\ProgramData\\anaconda3\\envs\\SPARC\\lib\\site-packages\\sentence_transformers\\cross_encoder\\CrossEncoder.py:11: TqdmWarning: IProgress not found. Please update jupyter and ipywidgets. See https://ipywidgets.readthedocs.io/en/stable/user_install.html\n",
      "  from tqdm.autonotebook import tqdm, trange\n",
      "C:\\ProgramData\\anaconda3\\envs\\SPARC\\lib\\site-packages\\transformers\\tokenization_utils_base.py:1601: FutureWarning: `clean_up_tokenization_spaces` was not set. It will be set to `True` by default. This behavior will be depracted in transformers v4.45, and will be then set to `False` by default. For more details check this issue: https://github.com/huggingface/transformers/issues/31884\n",
      "  warnings.warn(\n"
     ]
    }
   ],
   "source": [
    "from sparc_assemble import KG"
   ]
  },
  {
   "cell_type": "markdown",
   "source": [
    "## Initialising knowledge graph\n",
    "The knowledge graph is initialised by creating an instance of the KG class. "
   ],
   "metadata": {
    "collapsed": false
   },
   "id": "63c3de103323207d"
  },
  {
   "cell_type": "code",
   "outputs": [
    {
     "ename": "FileNotFoundError",
     "evalue": "[Errno 2] No such file or directory: 'C:\\\\Users\\\\mver587\\\\Documents\\\\Code\\\\2024-team-2\\\\sparc_assemble\\\\core\\\\../resources/EDAM.owl'",
     "output_type": "error",
     "traceback": [
      "\u001B[1;31m---------------------------------------------------------------------------\u001B[0m",
      "\u001B[1;31mFileNotFoundError\u001B[0m                         Traceback (most recent call last)",
      "Cell \u001B[1;32mIn[3], line 1\u001B[0m\n\u001B[1;32m----> 1\u001B[0m kg \u001B[38;5;241m=\u001B[39m \u001B[43mKG\u001B[49m\u001B[43m(\u001B[49m\u001B[43m)\u001B[49m\n",
      "File \u001B[1;32m~\\Documents\\Code\\2024-team-2\\sparc_assemble\\core\\kg.py:18\u001B[0m, in \u001B[0;36mKG.__init__\u001B[1;34m(self, ontology_file)\u001B[0m\n\u001B[0;32m     15\u001B[0m \u001B[38;5;28;01melse\u001B[39;00m:\n\u001B[0;32m     16\u001B[0m     \u001B[38;5;28mself\u001B[39m\u001B[38;5;241m.\u001B[39m_ontology_file \u001B[38;5;241m=\u001B[39m os\u001B[38;5;241m.\u001B[39mpath\u001B[38;5;241m.\u001B[39mjoin(os\u001B[38;5;241m.\u001B[39mpath\u001B[38;5;241m.\u001B[39mdirname(\u001B[38;5;18m__file__\u001B[39m), \u001B[38;5;124m\"\u001B[39m\u001B[38;5;124m../resources/EDAM.owl\u001B[39m\u001B[38;5;124m\"\u001B[39m)\n\u001B[1;32m---> 18\u001B[0m \u001B[38;5;28mself\u001B[39m\u001B[38;5;241m.\u001B[39m_ontology \u001B[38;5;241m=\u001B[39m \u001B[43mowl\u001B[49m\u001B[38;5;241;43m.\u001B[39;49m\u001B[43mget_ontology\u001B[49m\u001B[43m(\u001B[49m\u001B[38;5;28;43mself\u001B[39;49m\u001B[38;5;241;43m.\u001B[39;49m\u001B[43m_ontology_file\u001B[49m\u001B[43m)\u001B[49m\u001B[38;5;241;43m.\u001B[39;49m\u001B[43mload\u001B[49m\u001B[43m(\u001B[49m\u001B[43m)\u001B[49m\n",
      "File \u001B[1;32mC:\\ProgramData\\anaconda3\\envs\\SPARC\\lib\\site-packages\\owlready2\\namespace.py:1003\u001B[0m, in \u001B[0;36mOntology.load\u001B[1;34m(self, only_local, fileobj, reload, reload_if_newer, url, **args)\u001B[0m\n\u001B[0;32m   1001\u001B[0m \u001B[38;5;28;01mif\u001B[39;00m reload \u001B[38;5;129;01mor\u001B[39;00m (\u001B[38;5;28mself\u001B[39m\u001B[38;5;241m.\u001B[39mgraph\u001B[38;5;241m.\u001B[39mget_last_update_time() \u001B[38;5;241m==\u001B[39m \u001B[38;5;241m0.0\u001B[39m):\n\u001B[0;32m   1002\u001B[0m   \u001B[38;5;28;01mif\u001B[39;00m _LOG_LEVEL: \u001B[38;5;28mprint\u001B[39m(\u001B[38;5;124m\"\u001B[39m\u001B[38;5;124m* Owlready2 *     ...loading ontology \u001B[39m\u001B[38;5;132;01m%s\u001B[39;00m\u001B[38;5;124m from \u001B[39m\u001B[38;5;132;01m%s\u001B[39;00m\u001B[38;5;124m...\u001B[39m\u001B[38;5;124m\"\u001B[39m \u001B[38;5;241m%\u001B[39m (\u001B[38;5;28mself\u001B[39m\u001B[38;5;241m.\u001B[39mname, f), file \u001B[38;5;241m=\u001B[39m sys\u001B[38;5;241m.\u001B[39mstderr)\n\u001B[1;32m-> 1003\u001B[0m   fileobj \u001B[38;5;241m=\u001B[39m \u001B[38;5;28;43mopen\u001B[39;49m\u001B[43m(\u001B[49m\u001B[43mf\u001B[49m\u001B[43m,\u001B[49m\u001B[43m \u001B[49m\u001B[38;5;124;43m\"\u001B[39;49m\u001B[38;5;124;43mrb\u001B[39;49m\u001B[38;5;124;43m\"\u001B[39;49m\u001B[43m)\u001B[49m\n\u001B[0;32m   1004\u001B[0m   \u001B[38;5;28;01mtry\u001B[39;00m:     new_base_iri \u001B[38;5;241m=\u001B[39m \u001B[38;5;28mself\u001B[39m\u001B[38;5;241m.\u001B[39mgraph\u001B[38;5;241m.\u001B[39mparse(fileobj, default_base \u001B[38;5;241m=\u001B[39m \u001B[38;5;28mself\u001B[39m\u001B[38;5;241m.\u001B[39m_orig_base_iri, \u001B[38;5;241m*\u001B[39m\u001B[38;5;241m*\u001B[39margs)\n\u001B[0;32m   1005\u001B[0m   \u001B[38;5;28;01mfinally\u001B[39;00m: fileobj\u001B[38;5;241m.\u001B[39mclose()\n",
      "\u001B[1;31mFileNotFoundError\u001B[0m: [Errno 2] No such file or directory: 'C:\\\\Users\\\\mver587\\\\Documents\\\\Code\\\\2024-team-2\\\\sparc_assemble\\\\core\\\\../resources/EDAM.owl'"
     ]
    }
   ],
   "source": [
    "kg = KG()"
   ],
   "metadata": {
    "collapsed": false,
    "ExecuteTime": {
     "end_time": "2024-08-12T06:04:44.462452900Z",
     "start_time": "2024-08-12T06:04:43.902691800Z"
    }
   },
   "id": "62275c61cb3827b5",
   "execution_count": 3
  },
  {
   "cell_type": "markdown",
   "source": [
    "The knowledge graph is initialised based on EDAM - Ontology of bioscientific data analysis and data management (version 1.25). This ontology allows to link data, formats, and operations defined as a function processing inputs and returning outputs. The ontology defines the concept while the knowledge graph assign instances to them. The ontology is available at https://bioportal.bioontology.org/ontologies/EDAM.\n",
    "\n",
    "For the purpose of this project, the focus is on linking data and operations. The operation will be referred to as tools from now on. For simplicity, the information that can be added to the knowledge graph at this stage will fall either under the data or operation class. Later work could involve assigning data and tools to more precise classes offered by the ontology.\n",
    "\n",
    "We can print out the classes present in the knowledge graph. It reflects all the available classes from the EDAM ontology. However, only the main data and operation classes are used in this project."
   ],
   "metadata": {
    "collapsed": false
   },
   "id": "1297db856ab252d"
  },
  {
   "cell_type": "code",
   "outputs": [],
   "source": [
    "list(kg._ontology.classes)"
   ],
   "metadata": {
    "collapsed": false
   },
   "id": "e8cef80871056bf8"
  },
  {
   "cell_type": "markdown",
   "source": [
    "## Saving the knowledge graph\n",
    "The knowledge graph can be saved as an owl file (web ontology language). The file will contain the information about the classes and the instances present in the knowledge graph. At this stage, no instance were added to the knowledge graph. The knowledge graph can be loaded later to add data and operation instances (see tutorial 3).\n",
    "\n",
    "The save method takes the path to the file where the knowledge graph will be saved. The file will be saved with the .owl extension."
   ],
   "metadata": {
    "collapsed": false
   },
   "id": "cdfcc1606246df65"
  },
  {
   "cell_type": "code",
   "outputs": [],
   "source": [
    "kg.save('./KG.owl')"
   ],
   "metadata": {
    "collapsed": false
   },
   "id": "e4d86e4ddff555f1"
  }
 ],
 "metadata": {
  "kernelspec": {
   "display_name": "Python 3 (ipykernel)",
   "language": "python",
   "name": "python3"
  },
  "language_info": {
   "codemirror_mode": {
    "name": "ipython",
    "version": 3
   },
   "file_extension": ".py",
   "mimetype": "text/x-python",
   "name": "python",
   "nbconvert_exporter": "python",
   "pygments_lexer": "ipython3",
   "version": "3.9.16"
  }
 },
 "nbformat": 4,
 "nbformat_minor": 5
}
